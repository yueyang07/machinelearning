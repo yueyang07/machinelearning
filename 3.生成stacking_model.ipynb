{
 "cells": [
  {
   "cell_type": "markdown",
   "metadata": {},
   "source": [
    "### 编者按\n",
    "- 生成最后模型一共有3份代码：\n",
    "- 1）生成w2v特征：构建w2v特征，将特征喂给第一期的训练集，项目第二期的训练集和最终的测试集\n",
    "- 2）stacking 特征代码：主要作用是将项目第一期的训练分布通过嫁接的方式存储到第二期项目\n",
    "- 3）生成最终结果：主要用于将最后结果预测出最终的结果"
   ]
  },
  {
   "cell_type": "markdown",
   "metadata": {},
   "source": [
    "#### 导入所需的包"
   ]
  },
  {
   "cell_type": "code",
   "execution_count": 1,
   "metadata": {
    "ExecuteTime": {
     "end_time": "2021-07-27T09:03:18.519174Z",
     "start_time": "2021-07-27T09:03:15.956700Z"
    }
   },
   "outputs": [],
   "source": [
    "import os\n",
    "import pandas as pd\n",
    "import lightgbm as lgb\n",
    "import numpy as np\n",
    "#从sklearn 评价函数中导入f1-score\n",
    "from sklearn.metrics import f1_score"
   ]
  },
  {
   "cell_type": "markdown",
   "metadata": {},
   "source": [
    "#### 读取数据"
   ]
  },
  {
   "cell_type": "code",
   "execution_count": 2,
   "metadata": {
    "ExecuteTime": {
     "end_time": "2021-07-27T09:03:22.382050Z",
     "start_time": "2021-07-27T09:03:18.522003Z"
    },
    "scrolled": true
   },
   "outputs": [
    {
     "name": "stderr",
     "output_type": "stream",
     "text": [
      "/Users/yueyang/opt/anaconda3/envs/pytorch/lib/python3.7/site-packages/IPython/core/interactiveshell.py:3063: DtypeWarning: Columns (4,5) have mixed types.Specify dtype option on import or set low_memory=False.\n",
      "  interactivity=interactivity, compiler=compiler, result=result)\n",
      "/Users/yueyang/opt/anaconda3/envs/pytorch/lib/python3.7/site-packages/IPython/core/interactiveshell.py:3063: DtypeWarning: Columns (4) have mixed types.Specify dtype option on import or set low_memory=False.\n",
      "  interactivity=interactivity, compiler=compiler, result=result)\n",
      "/Users/yueyang/opt/anaconda3/envs/pytorch/lib/python3.7/site-packages/IPython/core/interactiveshell.py:3063: DtypeWarning: Columns (4,5,20,21) have mixed types.Specify dtype option on import or set low_memory=False.\n",
      "  interactivity=interactivity, compiler=compiler, result=result)\n"
     ]
    }
   ],
   "source": [
    "#设置根路径\n",
    "path = './'\n",
    "#设置w2v路径\n",
    "w2v_path = path + 'w2v'\n",
    "# 读取第一期训练集，读取第二期训练集，测试集\n",
    "train = pd.read_csv(path + 'input/train_2.csv') #第二期训练集\n",
    "test = pd.read_csv(path + 'input/test_2.csv') # 第二期测试集\n",
    "train_first = pd.read_csv(path + 'input/train_all.csv') # 第一期训练集"
   ]
  },
  {
   "cell_type": "markdown",
   "metadata": {
    "ExecuteTime": {
     "end_time": "2021-07-25T03:34:39.271747Z",
     "start_time": "2021-07-25T03:34:39.266760Z"
    }
   },
   "source": [
    "#### 设置命名为data_type 列的值\n",
    "- 0表示第二期项目\n",
    "- 1表示第一期项目"
   ]
  },
  {
   "cell_type": "code",
   "execution_count": 3,
   "metadata": {
    "ExecuteTime": {
     "end_time": "2021-07-27T09:03:22.394858Z",
     "start_time": "2021-07-27T09:03:22.386876Z"
    }
   },
   "outputs": [],
   "source": [
    "#将第二期训练集 data_type 为0，第一期训练集设置为1\n",
    "train['data_type'] = 0\n",
    "test['data_type'] = 0\n",
    "train_first['data_type'] = 1"
   ]
  },
  {
   "cell_type": "markdown",
   "metadata": {},
   "source": [
    "#### 将train,test,train_first合并\n",
    "- 合并主要用于做特征，并将特征合并"
   ]
  },
  {
   "cell_type": "code",
   "execution_count": 4,
   "metadata": {
    "ExecuteTime": {
     "end_time": "2021-07-27T09:03:24.140907Z",
     "start_time": "2021-07-27T09:03:22.397385Z"
    }
   },
   "outputs": [],
   "source": [
    "#合并三份数据集统一为data-数据的label 为current_service\n",
    "data = pd.concat([train, test, train_first], ignore_index=True).fillna(0)\n",
    "data['label'] = data.current_service.astype(int)"
   ]
  },
  {
   "cell_type": "code",
   "execution_count": 5,
   "metadata": {
    "ExecuteTime": {
     "end_time": "2021-07-27T09:03:25.220732Z",
     "start_time": "2021-07-27T09:03:24.143262Z"
    }
   },
   "outputs": [],
   "source": [
    "# 将data 中\\\\N 替换为999\n",
    "data = data.replace('\\\\N', 999)\n",
    "data['gender'] = data.gender.astype(int)"
   ]
  },
  {
   "cell_type": "markdown",
   "metadata": {},
   "source": [
    "#### 设置原始特征列"
   ]
  },
  {
   "cell_type": "code",
   "execution_count": 6,
   "metadata": {
    "ExecuteTime": {
     "end_time": "2021-07-27T09:03:25.228005Z",
     "start_time": "2021-07-27T09:03:25.223380Z"
    }
   },
   "outputs": [],
   "source": [
    "# 设置原始类别特征列\n",
    "origin_cate_feature = ['service_type', 'complaint_level', 'contract_type', 'gender', 'is_mix_service',\n",
    "                       'is_promise_low_consume',\n",
    "                       'many_over_bill', 'net_service']\n",
    "#设置原始数值特征\n",
    "origin_num_feature = ['1_total_fee', '2_total_fee', '3_total_fee', '4_total_fee',\n",
    "                      'age', 'contract_time',\n",
    "                      'former_complaint_fee', 'former_complaint_num',\n",
    "                      'last_month_traffic', 'local_caller_time', 'local_trafffic_month', 'month_traffic',\n",
    "                      'online_time', 'pay_num', 'pay_times', 'service1_caller_time', 'service2_caller_time']"
   ]
  },
  {
   "cell_type": "markdown",
   "metadata": {},
   "source": [
    "#### 将数值特征转成float 型"
   ]
  },
  {
   "cell_type": "code",
   "execution_count": 7,
   "metadata": {
    "ExecuteTime": {
     "end_time": "2021-07-27T09:03:25.539965Z",
     "start_time": "2021-07-27T09:03:25.231024Z"
    }
   },
   "outputs": [],
   "source": [
    "for i in origin_num_feature:\n",
    "    data[i] = data[i].astype(float)"
   ]
  },
  {
   "cell_type": "markdown",
   "metadata": {},
   "source": [
    "#### 将w2v特征喂至 data中"
   ]
  },
  {
   "cell_type": "code",
   "execution_count": 8,
   "metadata": {
    "ExecuteTime": {
     "end_time": "2021-07-27T09:03:30.035815Z",
     "start_time": "2021-07-27T09:03:25.543600Z"
    }
   },
   "outputs": [],
   "source": [
    "# 读取w2v 特征\n",
    "w2v_features = []\n",
    "for col in ['1_total_fee', '2_total_fee', '3_total_fee', '4_total_fee']:\n",
    "    df = pd.read_csv(w2v_path + '/' + col + '.csv')\n",
    "    #将读取后的w2v值去重\n",
    "    df = df.drop_duplicates([col])\n",
    "    fs = list(df)\n",
    "    fs.remove(col)\n",
    "    w2v_features += fs\n",
    "    #将w2v特征merge 进data数据里面\n",
    "    data = pd.merge(data, df, on=col, how='left')\n",
    "#设置统计count 特征"
   ]
  },
  {
   "cell_type": "markdown",
   "metadata": {},
   "source": [
    "#### 新建count 特征列表，用于存储count特征"
   ]
  },
  {
   "cell_type": "code",
   "execution_count": 9,
   "metadata": {
    "ExecuteTime": {
     "end_time": "2021-07-27T09:03:30.043142Z",
     "start_time": "2021-07-27T09:03:30.039426Z"
    }
   },
   "outputs": [],
   "source": [
    "count_feature_list = []"
   ]
  },
  {
   "cell_type": "markdown",
   "metadata": {},
   "source": [
    "#### 封装count 特征函数"
   ]
  },
  {
   "cell_type": "code",
   "execution_count": 10,
   "metadata": {
    "ExecuteTime": {
     "end_time": "2021-07-27T09:03:30.052835Z",
     "start_time": "2021-07-27T09:03:30.045784Z"
    }
   },
   "outputs": [],
   "source": [
    "# 封装特征计算count 特征\n",
    "def feature_count(data, features=[]):\n",
    "  \n",
    "    if len(set(features)) != len(features):\n",
    "        print('equal feature !!!!')\n",
    "        return data\n",
    "    #计算count 特征命名\n",
    "    new_feature = 'count'\n",
    "    for i in features:\n",
    "        new_feature += '_' + i.replace('add_', '')\n",
    "    #尝试删除原有特征名称\n",
    "    try:\n",
    "        del data[new_feature]\n",
    "    except:\n",
    "        pass\n",
    "    #临时计算临时的 特征的count特征\n",
    "    temp = data.groupby(features).size().reset_index().rename(columns={0: new_feature})\n",
    "    \n",
    "    #将临时特征merge 进入data的DataFrame中\n",
    "    data = data.merge(temp, 'left', on=features)\n",
    "    #将count特征列表加入新特征\n",
    "    count_feature_list.append(new_feature)\n",
    "    return data"
   ]
  },
  {
   "cell_type": "markdown",
   "metadata": {},
   "source": [
    "#### 计算一系列的count 特征\n",
    "- 计算 ['1_total_fee','2_total_fee','3_total_fee','4_total_fee','former_complaint_fee','pay_num','contract_time','last_month_traffic','online_time'] 每个列表的count特征\n",
    "- 计算['service_type','contract_type']与其他类型的组合特征"
   ]
  },
  {
   "cell_type": "code",
   "execution_count": 11,
   "metadata": {
    "ExecuteTime": {
     "end_time": "2021-07-27T09:04:04.665268Z",
     "start_time": "2021-07-27T09:03:30.055352Z"
    }
   },
   "outputs": [],
   "source": [
    "#计算1-4月份费用的count特征\n",
    "data = feature_count(data, ['1_total_fee'])\n",
    "data = feature_count(data, ['2_total_fee'])\n",
    "data = feature_count(data, ['3_total_fee'])\n",
    "data = feature_count(data, ['4_total_fee'])\n",
    "data = feature_count(data, ['former_complaint_fee'])\n",
    "data = feature_count(data, ['pay_num'])\n",
    "data = feature_count(data, ['contract_time'])\n",
    "data = feature_count(data, ['last_month_traffic'])\n",
    "data = feature_count(data, ['online_time'])\n",
    "\n",
    "# 计算组合特征的count 特征，举例子：'service_type'+'1_total_fee' 特征\n",
    "for i in ['service_type', 'contract_type']:\n",
    "    data = feature_count(data, [i, '1_total_fee'])\n",
    "    data = feature_count(data, [i, '2_total_fee'])\n",
    "    data = feature_count(data, [i, '3_total_fee'])\n",
    "    data = feature_count(data, [i, '4_total_fee'])\n",
    "\n",
    "    data = feature_count(data, [i, 'former_complaint_fee'])\n",
    "\n",
    "    data = feature_count(data, [i, 'pay_num'])\n",
    "    data = feature_count(data, [i, 'contract_time'])\n",
    "    data = feature_count(data, [i, 'last_month_traffic'])\n",
    "    data = feature_count(data, [i, 'online_time'])"
   ]
  },
  {
   "cell_type": "markdown",
   "metadata": {},
   "source": [
    "#### 计算差值特征"
   ]
  },
  {
   "cell_type": "code",
   "execution_count": 12,
   "metadata": {
    "ExecuteTime": {
     "end_time": "2021-07-27T09:04:04.702106Z",
     "start_time": "2021-07-27T09:04:04.667916Z"
    }
   },
   "outputs": [],
   "source": [
    "#计算同类型的特征的差值（key）\n",
    "data['diff_total_fee_1'] = data['1_total_fee'] - data['2_total_fee']\n",
    "data['diff_total_fee_2'] = data['2_total_fee'] - data['3_total_fee']\n",
    "data['diff_total_fee_3'] = data['3_total_fee'] - data['4_total_fee']\n",
    "data['pay_num_1_total_fee'] = data['pay_num'] - data['1_total_fee']\n",
    "data['last_month_traffic_rest'] = data['month_traffic'] - data['last_month_traffic']"
   ]
  },
  {
   "cell_type": "markdown",
   "metadata": {},
   "source": [
    "#### 计算ratio 特征"
   ]
  },
  {
   "cell_type": "code",
   "execution_count": 13,
   "metadata": {
    "ExecuteTime": {
     "end_time": "2021-07-27T09:04:04.755574Z",
     "start_time": "2021-07-27T09:04:04.704741Z"
    }
   },
   "outputs": [],
   "source": [
    "#计算电话时长的 ratio 除以特征\n",
    "data['total_caller_time'] = data['service2_caller_time'] + data['service1_caller_time']\n",
    "data['service2_caller_ratio'] = data['service2_caller_time'] / data['total_caller_time']\n",
    "data['local_caller_ratio'] = data['local_caller_time'] / data['total_caller_time']\n",
    "\n",
    "#计算流量的占比和累加特征\n",
    "data['total_month_traffic'] = data['local_trafffic_month'] + data['month_traffic']\n",
    "data['month_traffic_ratio'] = data['month_traffic'] / data['total_month_traffic']\n",
    "data['last_month_traffic_ratio'] = data['last_month_traffic'] / data['total_month_traffic']\n",
    "#猜测金额对当前月份的金额的占比以判断是否需要变更套餐\n",
    "data['rest_traffic_ratio'] = (data['last_month_traffic_rest'] * 15 / 1024) / data['1_total_fee']"
   ]
  },
  {
   "cell_type": "markdown",
   "metadata": {},
   "source": [
    "#### 猜测套餐金额特征"
   ]
  },
  {
   "cell_type": "code",
   "execution_count": 14,
   "metadata": {
    "ExecuteTime": {
     "end_time": "2021-07-27T09:04:04.820891Z",
     "start_time": "2021-07-27T09:04:04.758102Z"
    }
   },
   "outputs": [],
   "source": [
    "#猜测套餐剩余金额\n",
    "data['1_total_fee_call_fee'] = data['1_total_fee'] - data['service1_caller_time'] * 0.15\n",
    "data['1_total_fee_call2_fee'] = data['1_total_fee'] - data['service2_caller_time'] * 0.15\n",
    "data['1_total_fee_trfc_fee'] = data['1_total_fee'] - (\n",
    "        data['month_traffic'] - 2 * data['last_month_traffic']) * 0.3\n",
    "\n",
    "data.loc[data.service_type == 1, '1_total_fee_trfc_fee'] = None"
   ]
  },
  {
   "cell_type": "markdown",
   "metadata": {},
   "source": [
    "#### 计算4个月 的最大值，最小值，平均值特征"
   ]
  },
  {
   "cell_type": "code",
   "execution_count": 15,
   "metadata": {
    "ExecuteTime": {
     "end_time": "2021-07-27T09:04:08.510443Z",
     "start_time": "2021-07-27T09:04:04.823151Z"
    }
   },
   "outputs": [],
   "source": [
    "total_fee = []\n",
    "for i in range(1, 5):\n",
    "    total_fee.append(str(i) + '_total_fee')\n",
    "# def get_mean(x1,x2,x3,x4):\n",
    "#     x = np.mean([x1,x2,x3,x4])\n",
    "#     return x\n",
    "# data['total_fee_mean'] = data.apply(lambda row:get_mean(row['0_total_fee'],row['1_total_fee'],row['2_total_fee'],row['3_total_fee']),axis=1)\n",
    "# data['total_fee_mean'] =data.apply(lambda row:(row['0_total_fee']+row['1_total_fee']+row['2_total_fee']+row['3_total_fee'])/4)\n",
    "#计算4个月份的最大值，最小值，平均值\n",
    "data['total_fee_mean'] = data[total_fee].mean(1)\n",
    "data['total_fee_max'] = data[total_fee].max(1)\n",
    "data['total_fee_min'] = data[total_fee].min(1)"
   ]
  },
  {
   "cell_type": "markdown",
   "metadata": {},
   "source": [
    "#### 再次预处理数据"
   ]
  },
  {
   "cell_type": "code",
   "execution_count": 16,
   "metadata": {
    "ExecuteTime": {
     "end_time": "2021-07-27T09:04:08.534955Z",
     "start_time": "2021-07-27T09:04:08.512973Z"
    }
   },
   "outputs": [
    {
     "name": "stderr",
     "output_type": "stream",
     "text": [
      "/Users/yueyang/opt/anaconda3/envs/pytorch/lib/python3.7/site-packages/ipykernel_launcher.py:2: SettingWithCopyWarning: \n",
      "A value is trying to be set on a copy of a slice from a DataFrame\n",
      "\n",
      "See the caveats in the documentation: https://pandas.pydata.org/pandas-docs/stable/user_guide/indexing.html#returning-a-view-versus-a-copy\n",
      "  \n"
     ]
    }
   ],
   "source": [
    "#金额没有负值，将小于0的金额转为0\n",
    "data['last_month_traffic_rest'][data['last_month_traffic_rest'] < 0] = 0\n"
   ]
  },
  {
   "cell_type": "markdown",
   "metadata": {},
   "source": [
    "#### 汇总count特征，ratio,猜测金额以及其余的部分特征：命名为diff_feature_list"
   ]
  },
  {
   "cell_type": "code",
   "execution_count": 17,
   "metadata": {
    "ExecuteTime": {
     "end_time": "2021-07-27T09:04:08.540621Z",
     "start_time": "2021-07-27T09:04:08.537202Z"
    }
   },
   "outputs": [],
   "source": [
    "# 差值特征\n",
    "diff_feature_list = ['diff_total_fee_1', 'diff_total_fee_2', 'diff_total_fee_3', 'last_month_traffic_rest',\n",
    "                     'rest_traffic_ratio',\n",
    "                     'total_fee_mean', 'total_fee_max', 'total_fee_min', 'total_caller_time', 'service2_caller_ratio',\n",
    "                     'local_caller_ratio',\n",
    "                     'total_month_traffic', 'month_traffic_ratio', 'last_month_traffic_ratio', 'pay_num_1_total_fee',\n",
    "                     '1_total_fee_call_fee', '1_total_fee_call2_fee', '1_total_fee_trfc_fee']\n"
   ]
  },
  {
   "cell_type": "markdown",
   "metadata": {},
   "source": [
    "#### 汇总 类别特征和 数值特征\n",
    "- 类别特征cate_feature\n",
    "- 数值特征 num_feature"
   ]
  },
  {
   "cell_type": "code",
   "execution_count": 18,
   "metadata": {
    "ExecuteTime": {
     "end_time": "2021-07-27T09:04:08.545246Z",
     "start_time": "2021-07-27T09:04:08.542653Z"
    }
   },
   "outputs": [],
   "source": [
    "#汇总所有特征，原始类别特征，原始数值特征，count 特征 ，差值特征，以及w2v特征\n",
    "cate_feature = origin_cate_feature\n",
    "num_feature = origin_num_feature + count_feature_list + diff_feature_list + w2v_features"
   ]
  },
  {
   "cell_type": "markdown",
   "metadata": {},
   "source": [
    "#### 将类别特征转成‘category’类型，数值特征转成float型"
   ]
  },
  {
   "cell_type": "code",
   "execution_count": 19,
   "metadata": {
    "ExecuteTime": {
     "end_time": "2021-07-27T09:04:13.585840Z",
     "start_time": "2021-07-27T09:04:08.547378Z"
    }
   },
   "outputs": [],
   "source": [
    "# lgb模型可以指定 category 特征（类别特征）\n",
    "for i in cate_feature:\n",
    "    data[i] = data[i].astype('category')\n",
    "# 将数值特征 转成float特征\n",
    "for i in num_feature:\n",
    "    data[i] = data[i].astype(float)\n",
    "#总的特征汇总成类别特征和数值特征\n",
    "feature = cate_feature + num_feature"
   ]
  },
  {
   "cell_type": "markdown",
   "metadata": {},
   "source": [
    "#### 打印特征长，并看看有哪些 特征"
   ]
  },
  {
   "cell_type": "code",
   "execution_count": 20,
   "metadata": {
    "ExecuteTime": {
     "end_time": "2021-07-27T09:04:13.591276Z",
     "start_time": "2021-07-27T09:04:13.588207Z"
    }
   },
   "outputs": [
    {
     "name": "stdout",
     "output_type": "stream",
     "text": [
      "110 ['service_type', 'complaint_level', 'contract_type', 'gender', 'is_mix_service', 'is_promise_low_consume', 'many_over_bill', 'net_service', '1_total_fee', '2_total_fee', '3_total_fee', '4_total_fee', 'age', 'contract_time', 'former_complaint_fee', 'former_complaint_num', 'last_month_traffic', 'local_caller_time', 'local_trafffic_month', 'month_traffic', 'online_time', 'pay_num', 'pay_times', 'service1_caller_time', 'service2_caller_time', 'count_1_total_fee', 'count_2_total_fee', 'count_3_total_fee', 'count_4_total_fee', 'count_former_complaint_fee', 'count_pay_num', 'count_contract_time', 'count_last_month_traffic', 'count_online_time', 'count_service_type_1_total_fee', 'count_service_type_2_total_fee', 'count_service_type_3_total_fee', 'count_service_type_4_total_fee', 'count_service_type_former_complaint_fee', 'count_service_type_pay_num', 'count_service_type_contract_time', 'count_service_type_last_month_traffic', 'count_service_type_online_time', 'count_contract_type_1_total_fee', 'count_contract_type_2_total_fee', 'count_contract_type_3_total_fee', 'count_contract_type_4_total_fee', 'count_contract_type_former_complaint_fee', 'count_contract_type_pay_num', 'count_contract_type_contract_time', 'count_contract_type_last_month_traffic', 'count_contract_type_online_time', 'diff_total_fee_1', 'diff_total_fee_2', 'diff_total_fee_3', 'last_month_traffic_rest', 'rest_traffic_ratio', 'total_fee_mean', 'total_fee_max', 'total_fee_min', 'total_caller_time', 'service2_caller_ratio', 'local_caller_ratio', 'total_month_traffic', 'month_traffic_ratio', 'last_month_traffic_ratio', 'pay_num_1_total_fee', '1_total_fee_call_fee', '1_total_fee_call2_fee', '1_total_fee_trfc_fee', '1_total_feeW0', '1_total_feeW1', '1_total_feeW2', '1_total_feeW3', '1_total_feeW4', '1_total_feeW5', '1_total_feeW6', '1_total_feeW7', '1_total_feeW8', '1_total_feeW9', '2_total_feeW0', '2_total_feeW1', '2_total_feeW2', '2_total_feeW3', '2_total_feeW4', '2_total_feeW5', '2_total_feeW6', '2_total_feeW7', '2_total_feeW8', '2_total_feeW9', '3_total_feeW0', '3_total_feeW1', '3_total_feeW2', '3_total_feeW3', '3_total_feeW4', '3_total_feeW5', '3_total_feeW6', '3_total_feeW7', '3_total_feeW8', '3_total_feeW9', '4_total_feeW0', '4_total_feeW1', '4_total_feeW2', '4_total_feeW3', '4_total_feeW4', '4_total_feeW5', '4_total_feeW6', '4_total_feeW7', '4_total_feeW8', '4_total_feeW9']\n"
     ]
    }
   ],
   "source": [
    "print(len(feature), feature)"
   ]
  },
  {
   "cell_type": "markdown",
   "metadata": {},
   "source": [
    "#### 筛选出label 非999999 的特征"
   ]
  },
  {
   "cell_type": "code",
   "execution_count": 21,
   "metadata": {
    "ExecuteTime": {
     "end_time": "2021-07-27T09:04:16.319810Z",
     "start_time": "2021-07-27T09:04:13.594105Z"
    }
   },
   "outputs": [],
   "source": [
    "#筛选出999999套餐\n",
    "data = data[data.label != 999999]"
   ]
  },
  {
   "cell_type": "markdown",
   "metadata": {},
   "source": [
    "#### 筛选出项目第一期的训练集\n",
    "- 作为第一步stacking特征的训练集"
   ]
  },
  {
   "cell_type": "code",
   "execution_count": 22,
   "metadata": {
    "ExecuteTime": {
     "end_time": "2021-07-27T09:04:17.690161Z",
     "start_time": "2021-07-27T09:04:16.322104Z"
    }
   },
   "outputs": [],
   "source": [
    "#筛选出第一期的训练集\n",
    "train_x = data[(data.data_type == 1)][feature]\n",
    "train_y = data[(data.data_type == 1)][['label']]"
   ]
  },
  {
   "cell_type": "code",
   "execution_count": 23,
   "metadata": {
    "ExecuteTime": {
     "end_time": "2021-07-27T09:04:17.710359Z",
     "start_time": "2021-07-27T09:04:17.696534Z"
    }
   },
   "outputs": [
    {
     "data": {
      "text/plain": [
       "90063345    287219\n",
       "89950166    133224\n",
       "89950167     73842\n",
       "99999828     52939\n",
       "90109916     38096\n",
       "89950168     33462\n",
       "99999827     32531\n",
       "99999826     29054\n",
       "90155946     22037\n",
       "99999830     21236\n",
       "99999825     20350\n",
       "Name: label, dtype: int64"
      ]
     },
     "execution_count": 23,
     "metadata": {},
     "output_type": "execute_result"
    }
   ],
   "source": [
    "train_y.label.value_counts()"
   ]
  },
  {
   "cell_type": "code",
   "execution_count": 24,
   "metadata": {
    "ExecuteTime": {
     "end_time": "2021-07-27T09:04:18.324549Z",
     "start_time": "2021-07-27T09:04:17.713009Z"
    }
   },
   "outputs": [],
   "source": [
    "#筛选出第二期的训练集\n",
    "test_x = data[(data.data_type == 0) & (data.label != 0)][feature]\n",
    "test_y = data[(data.data_type == 0) & (data.label != 0)].label"
   ]
  },
  {
   "cell_type": "markdown",
   "metadata": {},
   "source": [
    "#### 自定义macro F1score损失函数"
   ]
  },
  {
   "cell_type": "code",
   "execution_count": 25,
   "metadata": {
    "ExecuteTime": {
     "end_time": "2021-07-27T09:04:18.330381Z",
     "start_time": "2021-07-27T09:04:18.326563Z"
    }
   },
   "outputs": [],
   "source": [
    "#自定义 macro F1 score\n",
    "def evalerror(y, preds):\n",
    "    labels = y\n",
    "    preds = preds.reshape(-1, 11)\n",
    "    preds = preds.argmax(axis = 1)\n",
    "#     preds = preds.reshape(-1, 11)\n",
    "#     print(preds.shape)\n",
    "    f_score = f1_score( labels,preds, average = 'macro')\n",
    "    return 'f1_score', f_score, True\n"
   ]
  },
  {
   "cell_type": "code",
   "execution_count": 26,
   "metadata": {
    "ExecuteTime": {
     "end_time": "2021-07-27T09:04:18.338178Z",
     "start_time": "2021-07-27T09:04:18.332503Z"
    }
   },
   "outputs": [],
   "source": [
    "#初始化 sklearn 接口 lgb 分类模型-objective='multiclass' 表示调用多分类分类模型\n",
    "lgb_model = lgb.LGBMClassifier(\n",
    "    boosting_type=\"gbdt\", num_leaves=120, reg_alpha=0, reg_lambda=0.,\n",
    "    max_depth=-1, n_estimators=200, objective='multiclass',\n",
    "    subsample=0.9, colsample_bytree=0.5, subsample_freq=1,\n",
    "    learning_rate=0.1, random_state=2018, n_jobs=-1\n",
    ")"
   ]
  },
  {
   "cell_type": "markdown",
   "metadata": {},
   "source": [
    "#### 直接训练模型"
   ]
  },
  {
   "cell_type": "code",
   "execution_count": 27,
   "metadata": {
    "ExecuteTime": {
     "end_time": "2021-07-27T09:07:50.067819Z",
     "start_time": "2021-07-27T09:04:18.340783Z"
    },
    "scrolled": false
   },
   "outputs": [
    {
     "name": "stderr",
     "output_type": "stream",
     "text": [
      "/Users/yueyang/opt/anaconda3/envs/pytorch/lib/python3.7/site-packages/sklearn/utils/validation.py:63: DataConversionWarning: A column-vector y was passed when a 1d array was expected. Please change the shape of y to (n_samples, ), for example using ravel().\n",
      "  return f(*args, **kwargs)\n",
      "/Users/yueyang/opt/anaconda3/envs/pytorch/lib/python3.7/site-packages/lightgbm/basic.py:1702: UserWarning: Using categorical_feature in Dataset.\n",
      "  _log_warning('Using categorical_feature in Dataset.')\n"
     ]
    },
    {
     "name": "stdout",
     "output_type": "stream",
     "text": [
      "Training until validation scores don't improve for 50 rounds\n",
      "[10]\ttraining's multi_logloss: 0.407755\n",
      "[20]\ttraining's multi_logloss: 0.229439\n",
      "[30]\ttraining's multi_logloss: 0.17654\n",
      "[40]\ttraining's multi_logloss: 0.151181\n",
      "[50]\ttraining's multi_logloss: 0.13504\n",
      "[60]\ttraining's multi_logloss: 0.122897\n",
      "[70]\ttraining's multi_logloss: 0.112713\n",
      "[80]\ttraining's multi_logloss: 0.104386\n",
      "[90]\ttraining's multi_logloss: 0.0971693\n",
      "[100]\ttraining's multi_logloss: 0.0907238\n",
      "[110]\ttraining's multi_logloss: 0.0848396\n",
      "[120]\ttraining's multi_logloss: 0.0794773\n",
      "[130]\ttraining's multi_logloss: 0.0746602\n",
      "[140]\ttraining's multi_logloss: 0.0702773\n",
      "[150]\ttraining's multi_logloss: 0.0661323\n",
      "[160]\ttraining's multi_logloss: 0.0624024\n",
      "[170]\ttraining's multi_logloss: 0.0588668\n",
      "[180]\ttraining's multi_logloss: 0.0555485\n",
      "[190]\ttraining's multi_logloss: 0.0524379\n",
      "[200]\ttraining's multi_logloss: 0.0494703\n",
      "Did not meet early stopping. Best iteration is:\n",
      "[200]\ttraining's multi_logloss: 0.0494703\n",
      "defaultdict(<class 'collections.OrderedDict'>, {'training': OrderedDict([('multi_logloss', 0.049470279866984775)])})\n"
     ]
    }
   ],
   "source": [
    "# 直接训练模型，没有跑五折？思考一下为什么？\n",
    "'''\n",
    "eval_metric 评测函数\n",
    "categorical_feature  指定类别特征\n",
    "verbose 每隔多少步可视化训练过程\n",
    "'''\n",
    "lgb_model.fit(train_x, train_y,eval_set=[(train_x, train_y)], categorical_feature=cate_feature,verbose=10,early_stopping_rounds=50)\n",
    "# 计算模型最好得分\n",
    "print(lgb_model.best_score_)"
   ]
  },
  {
   "cell_type": "markdown",
   "metadata": {},
   "source": [
    "#### 生成次级模型所需要的特征-并导出数据"
   ]
  },
  {
   "cell_type": "code",
   "execution_count": 28,
   "metadata": {
    "ExecuteTime": {
     "end_time": "2021-07-27T09:09:23.254455Z",
     "start_time": "2021-07-27T09:07:50.075531Z"
    }
   },
   "outputs": [
    {
     "name": "stdout",
     "output_type": "stream",
     "text": [
      ".//stack\n",
      "374653 160566\n",
      "[0.81052451 0.938907   0.94464223 0.99760262 0.99667031 0.9621267\n",
      " 0.93300042 0.81823386 0.75729884 0.83941541 0.52507559]\n"
     ]
    }
   ],
   "source": [
    "#生成次级模型 特征\n",
    "stacking_path = path + '/stack'\n",
    "if not os.path.exists(stacking_path):\n",
    "    print(stacking_path)\n",
    "    #形成 stack 路径\n",
    "    os.makedirs(stacking_path)\n",
    "    #计算多分类模型的概率\n",
    "    train_proba = lgb_model.predict_proba(test_x[feature]) # 预测项目第二期 训练集stacking label 概率结果\n",
    "    test_proba = lgb_model.predict_proba(data[data.label == 0][feature]) # 预测项目第二期 测试集stacking label 概率结果\n",
    "    print(len(train_proba), len(test_proba))\n",
    "    #筛选出训练集的user_id数据\n",
    "    stacking_train = data[(data.data_type == 0) & (data.label != 0)][['user_id']]\n",
    "    #生成test user_id数据\n",
    "    stacking_test = data[data.label == 0][['user_id']]\n",
    "    #生成train test stacking特征\n",
    "    for i in range(11):\n",
    "        stacking_train['stacking_' + str(i)] = train_proba[:, i]\n",
    "        stacking_test['stacking_' + str(i)] = test_proba[:, i]\n",
    "    stacking_train.to_csv(stacking_path + '/train.csv', index=False)\n",
    "    stacking_test.to_csv(stacking_path + '/test.csv', index=False)\n",
    "    \n",
    "#计算线下f1 score 得分\n",
    "\n",
    "score = f1_score(y_true=test_y, y_pred=lgb_model.predict(test_x), average=None)\n",
    "print(score)"
   ]
  },
  {
   "cell_type": "code",
   "execution_count": 29,
   "metadata": {
    "ExecuteTime": {
     "end_time": "2021-07-27T09:09:23.329358Z",
     "start_time": "2021-07-27T09:09:23.257270Z"
    }
   },
   "outputs": [
    {
     "data": {
      "text/plain": [
       "label   \n",
       "90063345    287219\n",
       "89950166    133224\n",
       "89950167     73842\n",
       "99999828     52939\n",
       "90109916     38096\n",
       "89950168     33462\n",
       "99999827     32531\n",
       "99999826     29054\n",
       "90155946     22037\n",
       "99999830     21236\n",
       "99999825     20350\n",
       "dtype: int64"
      ]
     },
     "execution_count": 29,
     "metadata": {},
     "output_type": "execute_result"
    }
   ],
   "source": [
    "train_y.value_counts()"
   ]
  },
  {
   "cell_type": "code",
   "execution_count": null,
   "metadata": {},
   "outputs": [],
   "source": []
  }
 ],
 "metadata": {
  "kernelspec": {
   "display_name": "Python 3",
   "language": "python",
   "name": "python3"
  },
  "language_info": {
   "codemirror_mode": {
    "name": "ipython",
    "version": 3
   },
   "file_extension": ".py",
   "mimetype": "text/x-python",
   "name": "python",
   "nbconvert_exporter": "python",
   "pygments_lexer": "ipython3",
   "version": "3.7.5"
  },
  "nbTranslate": {
   "displayLangs": [
    "*"
   ],
   "hotkey": "alt-t",
   "langInMainMenu": true,
   "sourceLang": "en",
   "targetLang": "fr",
   "useGoogleTranslate": true
  },
  "toc": {
   "base_numbering": 1,
   "nav_menu": {},
   "number_sections": true,
   "sideBar": true,
   "skip_h1_title": false,
   "title_cell": "Table of Contents",
   "title_sidebar": "Contents",
   "toc_cell": false,
   "toc_position": {
    "height": "calc(100% - 180px)",
    "left": "10px",
    "top": "150px",
    "width": "191.594px"
   },
   "toc_section_display": true,
   "toc_window_display": true
  }
 },
 "nbformat": 4,
 "nbformat_minor": 2
}

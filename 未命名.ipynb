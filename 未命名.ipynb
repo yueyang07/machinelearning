{
 "cells": [
  {
   "cell_type": "code",
   "execution_count": 130,
   "id": "6ab80666",
   "metadata": {
    "ExecuteTime": {
     "end_time": "2021-08-13T01:45:01.979022Z",
     "start_time": "2021-08-13T01:45:01.975712Z"
    }
   },
   "outputs": [],
   "source": [
    "import tensorflow as tf\n",
    "from tensorflow import keras\n",
    "from tensorflow.keras import Model\n",
    "from tensorflow.keras.layers import Input,Conv2D,MaxPooling2D,Dense,AveragePooling2D,Activation,BatchNormalization,Flatten,add,GlobalAvgPool2D"
   ]
  },
  {
   "cell_type": "code",
   "execution_count": 2,
   "id": "1e365359",
   "metadata": {
    "ExecuteTime": {
     "end_time": "2021-08-12T10:45:25.319701Z",
     "start_time": "2021-08-12T10:45:25.316647Z"
    }
   },
   "outputs": [],
   "source": [
    "from PIL import Image"
   ]
  },
  {
   "cell_type": "code",
   "execution_count": 3,
   "id": "683ca3a1",
   "metadata": {
    "ExecuteTime": {
     "end_time": "2021-08-12T10:45:25.776558Z",
     "start_time": "2021-08-12T10:45:25.766619Z"
    }
   },
   "outputs": [],
   "source": [
    "%config Completer.use_jedi=False"
   ]
  },
  {
   "cell_type": "code",
   "execution_count": 4,
   "id": "e3b96816",
   "metadata": {
    "ExecuteTime": {
     "end_time": "2021-08-12T10:45:26.116882Z",
     "start_time": "2021-08-12T10:45:26.113844Z"
    }
   },
   "outputs": [],
   "source": [
    "from tensorflow.keras.preprocessing.image import ImageDataGenerator"
   ]
  },
  {
   "cell_type": "code",
   "execution_count": 5,
   "id": "8a310a9c",
   "metadata": {
    "ExecuteTime": {
     "end_time": "2021-08-12T10:45:26.296207Z",
     "start_time": "2021-08-12T10:45:26.293390Z"
    }
   },
   "outputs": [],
   "source": [
    "import os"
   ]
  },
  {
   "cell_type": "code",
   "execution_count": 6,
   "id": "9433df21",
   "metadata": {
    "ExecuteTime": {
     "end_time": "2021-08-12T10:45:26.444375Z",
     "start_time": "2021-08-12T10:45:26.441007Z"
    }
   },
   "outputs": [],
   "source": [
    "train_dir='./dataset/train/'\n",
    "test_dir='./dataset/test/'\n",
    "valid_dir='./dataset/valid/'"
   ]
  },
  {
   "cell_type": "code",
   "execution_count": 7,
   "id": "c2a5f519",
   "metadata": {
    "ExecuteTime": {
     "end_time": "2021-08-12T10:45:26.591582Z",
     "start_time": "2021-08-12T10:45:26.587297Z"
    }
   },
   "outputs": [],
   "source": [
    "train_data_gen=ImageDataGenerator(\n",
    "    #featurewise_center=False,\n",
    "    #samplewise_center=False,\n",
    "    #featurewise_std_normalization=False,\n",
    "   # samplewise_std_normalization=False,\n",
    "    #zca_whitening=False,\n",
    "    #zca_epsilon=1e-06,\n",
    "    \n",
    "    rotation_range=20,\n",
    "    width_shift_range=0.2,\n",
    "    height_shift_range=0.2,\n",
    "    #brightness_range=0.1,\n",
    "    shear_range=0.1,\n",
    "    zoom_range=0.2,\n",
    "    channel_shift_range=0.2,\n",
    "    fill_mode='nearest',\n",
    "    cval=0.0,\n",
    "    horizontal_flip=True,\n",
    "    #vertical_flip=False,\n",
    "    rescale=1./255,\n",
    "    #preprocessing_function=None,\n",
    "    #data_format=None,\n",
    "    validation_split=0.0,\n",
    "    dtype=None,\n",
    ")"
   ]
  },
  {
   "cell_type": "code",
   "execution_count": 17,
   "id": "dc45f8ca",
   "metadata": {
    "ExecuteTime": {
     "end_time": "2021-08-12T10:49:31.762617Z",
     "start_time": "2021-08-12T10:49:31.624290Z"
    }
   },
   "outputs": [
    {
     "name": "stdout",
     "output_type": "stream",
     "text": [
      "Found 2999 images belonging to 3 classes.\n"
     ]
    }
   ],
   "source": [
    "train_data=train_data_gen.flow_from_directory(train_dir,target_size=(224, 224),\n",
    "    #color_mode='rgb',\n",
    "    #classes=None,\n",
    "    class_mode='categorical',\n",
    "    batch_size=32,\n",
    "    shuffle=True\n",
    "   # seed=None,\n",
    "    #save_to_dir=None,\n",
    "    #save_prefix='',\n",
    "    #save_format='png',\n",
    "    #follow_links=False,\n",
    "    #subset=None,\n",
    "    #interpolation='nearest',\n",
    ")"
   ]
  },
  {
   "cell_type": "code",
   "execution_count": 18,
   "id": "da1791a7",
   "metadata": {
    "ExecuteTime": {
     "end_time": "2021-08-12T10:49:32.394711Z",
     "start_time": "2021-08-12T10:49:32.276633Z"
    }
   },
   "outputs": [
    {
     "name": "stdout",
     "output_type": "stream",
     "text": [
      "Found 2585 images belonging to 3 classes.\n"
     ]
    }
   ],
   "source": [
    "valid_data=ImageDataGenerator(rescale=1./255).flow_from_directory(valid_dir,target_size=(224, 224),class_mode='categorical',\n",
    "    batch_size=32,\n",
    "    shuffle=True)"
   ]
  },
  {
   "cell_type": "markdown",
   "id": "2373d866",
   "metadata": {
    "ExecuteTime": {
     "end_time": "2021-08-12T05:53:53.101831Z",
     "start_time": "2021-08-12T05:53:53.090146Z"
    }
   },
   "source": [
    "#### 输入层：维度为224×224×3\n",
    "卷积层1：96个大小为11×11的卷积核，步长为4，激活函数为ReLU，padding方式为valid\n",
    "批归一化层1\n",
    "池化层1：窗口大小为3×3，步长为2，padding方式为valid\n",
    "卷积层2：128个大小为5×5的卷积核，步长为1，激活函数为ReLU，padding方式为same\n",
    "批归一化层2\n",
    "池化层2：窗口大小为3×3，步长为2，padding方式为valid\n",
    "卷积层3：192个大小为3×3的卷积核，步长为1，激活函数为ReLU，padding方式为same\n",
    "卷积层4：128个大小为3×3的卷积核，步长为1，激活函数为ReLU，padding方式为same\n",
    "池化层3：窗口大小为3×3，步长为2，padding方式为valid\n",
    "扁平化\n",
    "全连接层：神经元个数为256，激活函数为ReLU\n",
    "Dropout层：失活概率为0.5\n",
    "输出层：神经元个数为5，激活函数为Softmax\n",
    "（4）使用数据增强的训练集训练模型，要求输出的训练日志中包含每轮迭代测试集的分类正确率（5分）\n",
    "（5）使用Matplotlib绘制每轮迭代训练集和测试集分类正确率变化的折线图（5分）\n"
   ]
  },
  {
   "cell_type": "code",
   "execution_count": 24,
   "id": "456fb74e",
   "metadata": {
    "ExecuteTime": {
     "end_time": "2021-08-12T10:50:28.089779Z",
     "start_time": "2021-08-12T10:50:27.863892Z"
    }
   },
   "outputs": [
    {
     "name": "stdout",
     "output_type": "stream",
     "text": [
      "WARNING:tensorflow:Please add `keras.layers.InputLayer` instead of `keras.Input` to Sequential model. `keras.Input` is intended to be used by Functional model.\n"
     ]
    }
   ],
   "source": [
    "model=keras.Sequential([\n",
    "    Input(shape=(224,224,3)),\n",
    "    Conv2D(filters=96,kernel_size=(11,11),strides=4,activation='relu',padding='valid'),\n",
    "    BatchNormalization(),\n",
    "    MaxPool2D(pool_size=(3,3),strides=2,padding='valid'),\n",
    "    Conv2D(filters=192,kernel_size=(3,3),strides=1,activation='relu',padding='same'),\n",
    "    BatchNormalization(),\n",
    "    MaxPool2D(pool_size=(3,3),strides=2,padding='valid'),\n",
    "    Conv2D(filters=192,kernel_size=(3,3),strides=1,activation='relu',padding='same'),\n",
    "    Conv2D(filters=128,kernel_size=(3,3),strides=1,activation='relu',padding='same'),\n",
    "    MaxPool2D(pool_size=(3,3),strides=2,padding='valid'),\n",
    "    Flatten(),\n",
    "    Dense(3,activation='softmax'),\n",
    "])"
   ]
  },
  {
   "cell_type": "code",
   "execution_count": 25,
   "id": "63a852d2",
   "metadata": {
    "ExecuteTime": {
     "end_time": "2021-08-12T10:50:30.829296Z",
     "start_time": "2021-08-12T10:50:30.823869Z"
    },
    "scrolled": true
   },
   "outputs": [
    {
     "name": "stdout",
     "output_type": "stream",
     "text": [
      "Model: \"sequential_2\"\n",
      "_________________________________________________________________\n",
      "Layer (type)                 Output Shape              Param #   \n",
      "=================================================================\n",
      "conv2d_8 (Conv2D)            (None, 54, 54, 96)        34944     \n",
      "_________________________________________________________________\n",
      "batch_normalization_4 (Batch (None, 54, 54, 96)        384       \n",
      "_________________________________________________________________\n",
      "max_pooling2d_6 (MaxPooling2 (None, 26, 26, 96)        0         \n",
      "_________________________________________________________________\n",
      "conv2d_9 (Conv2D)            (None, 26, 26, 192)       166080    \n",
      "_________________________________________________________________\n",
      "batch_normalization_5 (Batch (None, 26, 26, 192)       768       \n",
      "_________________________________________________________________\n",
      "max_pooling2d_7 (MaxPooling2 (None, 12, 12, 192)       0         \n",
      "_________________________________________________________________\n",
      "conv2d_10 (Conv2D)           (None, 12, 12, 192)       331968    \n",
      "_________________________________________________________________\n",
      "conv2d_11 (Conv2D)           (None, 12, 12, 128)       221312    \n",
      "_________________________________________________________________\n",
      "max_pooling2d_8 (MaxPooling2 (None, 5, 5, 128)         0         \n",
      "_________________________________________________________________\n",
      "flatten_2 (Flatten)          (None, 3200)              0         \n",
      "_________________________________________________________________\n",
      "dense_2 (Dense)              (None, 3)                 9603      \n",
      "=================================================================\n",
      "Total params: 765,059\n",
      "Trainable params: 764,483\n",
      "Non-trainable params: 576\n",
      "_________________________________________________________________\n"
     ]
    }
   ],
   "source": [
    "model.summary()"
   ]
  },
  {
   "cell_type": "code",
   "execution_count": 30,
   "id": "68783480",
   "metadata": {
    "ExecuteTime": {
     "end_time": "2021-08-12T11:02:29.827731Z",
     "start_time": "2021-08-12T11:02:29.811877Z"
    }
   },
   "outputs": [],
   "source": [
    "model.compile(optimizer=keras.optimizers.Adam(learning_rate=0.001),loss=keras.losses.categorical_crossentropy,metrics=['acc'])"
   ]
  },
  {
   "cell_type": "code",
   "execution_count": 27,
   "id": "012335be",
   "metadata": {
    "ExecuteTime": {
     "end_time": "2021-08-12T10:50:31.894190Z",
     "start_time": "2021-08-12T10:50:31.891561Z"
    }
   },
   "outputs": [],
   "source": [
    "import os\n",
    "os.environ[\"CUDA_VISIBLE_DEVICES\"] = \"-1\"  # 这一行注释掉就是使用gpu，不注释就是使用cpu"
   ]
  },
  {
   "cell_type": "code",
   "execution_count": 32,
   "id": "9893d199",
   "metadata": {
    "ExecuteTime": {
     "end_time": "2021-08-12T11:16:09.505147Z",
     "start_time": "2021-08-12T11:02:54.129687Z"
    },
    "scrolled": true
   },
   "outputs": [
    {
     "name": "stdout",
     "output_type": "stream",
     "text": [
      "Epoch 1/10\n",
      "94/94 [==============================] - 80s 844ms/step - loss: 0.8100 - acc: 0.5902 - val_loss: 0.9161 - val_acc: 0.5149\n",
      "Epoch 2/10\n",
      "94/94 [==============================] - 80s 848ms/step - loss: 0.7966 - acc: 0.5972 - val_loss: 0.7119 - val_acc: 0.6348\n",
      "Epoch 3/10\n",
      "94/94 [==============================] - 75s 794ms/step - loss: 0.7564 - acc: 0.6075 - val_loss: 0.9578 - val_acc: 0.4843\n",
      "Epoch 4/10\n",
      "94/94 [==============================] - 76s 805ms/step - loss: 0.7127 - acc: 0.6415 - val_loss: 0.6910 - val_acc: 0.6561\n",
      "Epoch 5/10\n",
      "94/94 [==============================] - 84s 885ms/step - loss: 0.7006 - acc: 0.6395 - val_loss: 0.8047 - val_acc: 0.5965\n",
      "Epoch 6/10\n",
      "94/94 [==============================] - 83s 883ms/step - loss: 0.7145 - acc: 0.6252 - val_loss: 0.8493 - val_acc: 0.5466\n",
      "Epoch 7/10\n",
      "94/94 [==============================] - 80s 853ms/step - loss: 0.6466 - acc: 0.6746 - val_loss: 0.6200 - val_acc: 0.6928\n",
      "Epoch 8/10\n",
      "94/94 [==============================] - 80s 845ms/step - loss: 0.7047 - acc: 0.6489 - val_loss: 0.7487 - val_acc: 0.6662\n",
      "Epoch 9/10\n",
      "94/94 [==============================] - 79s 838ms/step - loss: 0.6631 - acc: 0.6579 - val_loss: 0.6767 - val_acc: 0.6758\n",
      "Epoch 10/10\n",
      "94/94 [==============================] - 79s 841ms/step - loss: 0.6391 - acc: 0.6949 - val_loss: 0.7202 - val_acc: 0.6542\n"
     ]
    }
   ],
   "source": [
    "history=model.fit(train_data,epochs=10,batch_size=50,validation_data=valid_data)"
   ]
  },
  {
   "cell_type": "code",
   "execution_count": 33,
   "id": "df00d699",
   "metadata": {
    "ExecuteTime": {
     "end_time": "2021-08-12T11:21:27.327023Z",
     "start_time": "2021-08-12T11:21:27.308458Z"
    }
   },
   "outputs": [
    {
     "ename": "TypeError",
     "evalue": "'dict' object is not callable",
     "output_type": "error",
     "traceback": [
      "\u001b[0;31m---------------------------------------------------------------------------\u001b[0m",
      "\u001b[0;31mTypeError\u001b[0m                                 Traceback (most recent call last)",
      "\u001b[0;32m<ipython-input-33-914e818fbd23>\u001b[0m in \u001b[0;36m<module>\u001b[0;34m\u001b[0m\n\u001b[0;32m----> 1\u001b[0;31m \u001b[0mhistory\u001b[0m\u001b[0;34m.\u001b[0m\u001b[0mhistory\u001b[0m\u001b[0;34m(\u001b[0m\u001b[0;34m)\u001b[0m\u001b[0;34m\u001b[0m\u001b[0;34m\u001b[0m\u001b[0m\n\u001b[0m",
      "\u001b[0;31mTypeError\u001b[0m: 'dict' object is not callable"
     ]
    }
   ],
   "source": [
    "history.history()"
   ]
  },
  {
   "cell_type": "code",
   "execution_count": 35,
   "id": "259c039e",
   "metadata": {
    "ExecuteTime": {
     "end_time": "2021-08-12T11:35:01.446725Z",
     "start_time": "2021-08-12T11:34:59.114195Z"
    }
   },
   "outputs": [
    {
     "data": {
      "image/png": "[encoded data removed]",
      "text/plain": [
       "<Figure size 432x288 with 1 Axes>"
      ]
     },
     "metadata": {
      "needs_background": "light"
     },
     "output_type": "display_data"
    },
    {
     "data": {
      "image/png": "[encoded data removed]",
      "text/plain": [
       "<Figure size 432x288 with 1 Axes>"
      ]
     },
     "metadata": {
      "needs_background": "light"
     },
     "output_type": "display_data"
    }
   ],
   "source": [
    "import matplotlib.pyplot as plt\n",
    "acc = history.history['acc']\n",
    "val_acc = history.history['val_acc']\n",
    "loss = history.history['loss']\n",
    "val_loss = history.history['val_loss']\n",
    "\n",
    "epochs = range(len(acc))\n",
    "\n",
    "plt.plot(epochs, acc, 'b', label='Training accuracy')\n",
    "plt.plot(epochs, val_acc, 'r', label='Validation accuracy')\n",
    "plt.title('Training and validation accuracy')\n",
    "plt.legend()\n",
    "\n",
    "plt.figure()\n",
    "\n",
    "plt.plot(epochs, loss, 'b', label='Training Loss')\n",
    "plt.plot(epochs, val_loss, 'r', label='Validation Loss')\n",
    "plt.title('Training and validation loss')\n",
    "plt.legend()\n",
    "\n",
    "plt.show()"
   ]
  },
  {
   "cell_type": "code",
   "execution_count": 132,
   "id": "924c0bd9",
   "metadata": {
    "ExecuteTime": {
     "end_time": "2021-08-13T01:49:16.329592Z",
     "start_time": "2021-08-13T01:49:16.325563Z"
    }
   },
   "outputs": [],
   "source": [
    "def Conv2d_bn(x,filter_num,kernel_size,strides=(1,1),padding='same'):\n",
    "    x=Conv2D(filters=filter_num,kernel_size=kernel_size,strides=strides,padding=padding)(x)\n",
    "    x=BatchNormalization(axis=3)(x)\n",
    "    \n",
    "    return x"
   ]
  },
  {
   "cell_type": "code",
   "execution_count": 165,
   "id": "1fd53403",
   "metadata": {
    "ExecuteTime": {
     "end_time": "2021-08-13T02:43:22.305544Z",
     "start_time": "2021-08-13T02:43:22.300019Z"
    }
   },
   "outputs": [],
   "source": [
    "def Conv2d_BN(x, nb_filter, kernel_size, strides=(1, 1), padding='same'):\n",
    "\n",
    "    x = Conv2D(nb_filter, kernel_size, padding=padding, strides=strides)(x)\n",
    "    x = BatchNormalization(axis=3)(x)\n",
    "\n",
    "    return x"
   ]
  },
  {
   "cell_type": "code",
   "execution_count": 160,
   "id": "2d71f6ac",
   "metadata": {
    "ExecuteTime": {
     "end_time": "2021-08-13T02:13:20.988971Z",
     "start_time": "2021-08-13T02:13:20.982039Z"
    }
   },
   "outputs": [],
   "source": [
    "def identity_block(inpt,filter_num,kernel_size,strides=(1,1),padding='same',with_conv_shortcut=False):\n",
    "    x = Conv2d_BN(inpt, nb_filter=filter_num, kernel_size=kernel_size, strides=strides, padding='same')\n",
    "    x = Conv2d_BN(x, nb_filter=filter_num, kernel_size=kernel_size, padding='same')\n",
    "#     x= Conv2d_bn(inpt,filter_num=filter_num,kernel_size=kernel_size,strides=strides,padding='same')\n",
    "#     x= Activation('relu')(x)\n",
    "#     x= Conv2d_bn(x,filter_num=filter_num,kernel_size=kernel_size,padding='same')\n",
    "#     x= Activation('relu')(x)\n",
    "    if with_conv_shortcut:\n",
    "        short_cut= Conv2d_BN(inpt,nb_filter=filter_num,kernel_size=kernel_size,strides=strides)\n",
    "        x=add([x,short_cut])\n",
    "    else:\n",
    "        x=add([x,inpt])\n",
    "        return x"
   ]
  },
  {
   "cell_type": "code",
   "execution_count": 166,
   "id": "a1b91dbb",
   "metadata": {
    "ExecuteTime": {
     "end_time": "2021-08-13T02:43:25.370944Z",
     "start_time": "2021-08-13T02:43:25.366345Z"
    }
   },
   "outputs": [],
   "source": [
    "def identity_Block(inpt, nb_filter, kernel_size, strides=(1, 1), with_conv_shortcut=False):\n",
    "    x = Conv2d_BN(inpt, nb_filter=nb_filter, kernel_size=kernel_size, strides=strides, padding='same')\n",
    "    x = Activation('relu')(x)\n",
    "    x = Conv2d_BN(x, nb_filter=nb_filter, kernel_size=kernel_size, padding='same')\n",
    "    x = Activation('relu')(x)\n",
    "    if with_conv_shortcut:#shortcut的含义是：将输入层x与最后的输出层y进行连接，如上图所示\n",
    "        shortcut = Conv2d_BN(inpt, nb_filter=nb_filter, strides=strides, kernel_size=kernel_size)\n",
    "        x = add([x, shortcut])\n",
    "        return x\n",
    "    else:\n",
    "        x = add([x, inpt])\n",
    "        return x"
   ]
  },
  {
   "cell_type": "code",
   "execution_count": 167,
   "id": "a8df6c66",
   "metadata": {
    "ExecuteTime": {
     "end_time": "2021-08-13T02:43:32.839376Z",
     "start_time": "2021-08-13T02:43:32.828393Z"
    }
   },
   "outputs": [],
   "source": [
    "def resnet(width,height,channel,classes):\n",
    "    inpt=Input(shape=(width, height, channel))\n",
    "    x = Conv2d_BN(inpt, nb_filter=64, kernel_size=(7, 7), strides=(2, 2), padding='valid')\n",
    "    x = Activation('relu')(x)\n",
    "    x = MaxPooling2D(pool_size=(3, 3), strides=(2, 2), padding='same')(x)\n",
    "\n",
    "    x = Conv2d_BN(inpt, nb_filter=64, kernel_size=(7, 7), strides=(2, 2), padding='valid')\n",
    "    x = Activation('relu')(x)\n",
    "    x = MaxPool2D(pool_size=(3, 3), strides=(2, 2), padding='same')(x)\n",
    " \n",
    "    #conv2_x\n",
    "    x = identity_Block(x, nb_filter=64, kernel_size=(3, 3))\n",
    "    x = identity_Block(x, nb_filter=64, kernel_size=(3, 3))\n",
    " \n",
    "    #conv3_x\n",
    "    x = identity_Block(x, nb_filter=128, kernel_size=(3, 3), strides=(2, 2), with_conv_shortcut=True)\n",
    "    x = identity_Block(x, nb_filter=128, kernel_size=(3, 3))\n",
    " \n",
    "    #conv4_x\n",
    "    x = identity_Block(x, nb_filter=256, kernel_size=(3, 3), strides=(2, 2), with_conv_shortcut=True)\n",
    "    x = identity_Block(x, nb_filter=256, kernel_size=(3, 3))\n",
    " \n",
    "    #conv5_x\n",
    "    x = identity_Block(x, nb_filter=512, kernel_size=(3, 3), strides=(2, 2), with_conv_shortcut=True)\n",
    "    x = identity_Block(x, nb_filter=512, kernel_size=(3, 3))\n",
    "\n",
    "    x = GlobalAvgPool2D()(x)\n",
    "    x = Dense(classes, activation='softmax')(x)\n",
    "\n",
    "    model = Model(inputs=inpt, outputs=x)\n",
    "    return model"
   ]
  },
  {
   "cell_type": "code",
   "execution_count": 162,
   "id": "03915756",
   "metadata": {
    "ExecuteTime": {
     "end_time": "2021-08-13T02:13:30.820889Z",
     "start_time": "2021-08-13T02:13:30.812738Z"
    }
   },
   "outputs": [],
   "source": [
    "def resnet_18(width,height,channel,classes):\n",
    "    inpt = Input(shape=(width, height, channel))\n",
    "    #x = ZeroPadding2D((3, 3))(inpt)\n",
    " \n",
    "    #conv1\n",
    "    x = Conv2d_BN(inpt, nb_filter=64, kernel_size=(7, 7), strides=(2, 2), padding='valid')\n",
    "    x = MaxPool2D(pool_size=(3, 3), strides=(2, 2), padding='same')(x)\n",
    " \n",
    "    #conv2_x\n",
    "    x = identity_Block(x, nb_filter=64, kernel_size=(3, 3))\n",
    "    x = identity_Block(x, nb_filter=64, kernel_size=(3, 3))\n",
    " \n",
    "    #conv3_x\n",
    "    x = identity_Block(x, nb_filter=128, kernel_size=(3, 3), strides=(2, 2), with_conv_shortcut=True)\n",
    "    x = identity_Block(x, nb_filter=128, kernel_size=(3, 3))\n",
    " \n",
    "    #conv4_x\n",
    "    x = identity_Block(x, nb_filter=256, kernel_size=(3, 3), strides=(2, 2), with_conv_shortcut=True)\n",
    "    x = identity_Block(x, nb_filter=256, kernel_size=(3, 3))\n",
    " \n",
    "    #conv5_x\n",
    "    x = identity_Block(x, nb_filter=512, kernel_size=(3, 3), strides=(2, 2), with_conv_shortcut=True)\n",
    "    x = identity_Block(x, nb_filter=512, kernel_size=(3, 3))\n",
    "\n",
    "    x = GlobalAvgPool2D()(x)\n",
    "    x = Dense(classes, activation='softmax')(x)\n",
    " \n",
    "    model = Model(inputs=inpt, outputs=x)\n",
    "    return model"
   ]
  },
  {
   "cell_type": "code",
   "execution_count": 168,
   "id": "84319239",
   "metadata": {
    "ExecuteTime": {
     "end_time": "2021-08-13T02:43:36.536673Z",
     "start_time": "2021-08-13T02:43:36.121982Z"
    },
    "scrolled": true
   },
   "outputs": [],
   "source": [
    "model = resnet(28, 28, 3, 3)"
   ]
  },
  {
   "cell_type": "code",
   "execution_count": null,
   "id": "a482a3ad",
   "metadata": {},
   "outputs": [],
   "source": [
    "resnet = "
   ]
  },
  {
   "cell_type": "code",
   "execution_count": 79,
   "id": "19544cb6",
   "metadata": {
    "ExecuteTime": {
     "end_time": "2021-08-13T00:05:03.877583Z",
     "start_time": "2021-08-13T00:05:03.862748Z"
    }
   },
   "outputs": [],
   "source": [
    "model.compile(optimizer=keras.optimizers.Adam(learning_rate=0.001),loss=keras.losses.categorical_crossentropy,metrics=['acc'])"
   ]
  },
  {
   "cell_type": "code",
   "execution_count": 80,
   "id": "ff60df72",
   "metadata": {
    "ExecuteTime": {
     "end_time": "2021-08-13T00:05:11.425215Z",
     "start_time": "2021-08-13T00:05:06.710170Z"
    }
   },
   "outputs": [
    {
     "name": "stdout",
     "output_type": "stream",
     "text": [
      "Epoch 1/5\n",
      " 4/94 [>.............................] - ETA: 1:01 - loss: 0.3261 - acc: 0.8672"
     ]
    },
    {
     "ename": "KeyboardInterrupt",
     "evalue": "",
     "output_type": "error",
     "traceback": [
      "\u001b[0;31m---------------------------------------------------------------------------\u001b[0m",
      "\u001b[0;31mKeyboardInterrupt\u001b[0m                         Traceback (most recent call last)",
      "\u001b[0;32m<ipython-input-80-973ac2ed8654>\u001b[0m in \u001b[0;36m<module>\u001b[0;34m\u001b[0m\n\u001b[0;32m----> 1\u001b[0;31m \u001b[0mhistory\u001b[0m\u001b[0;34m=\u001b[0m\u001b[0mmodel\u001b[0m\u001b[0;34m.\u001b[0m\u001b[0mfit\u001b[0m\u001b[0;34m(\u001b[0m\u001b[0mtrain_data\u001b[0m\u001b[0;34m,\u001b[0m\u001b[0mepochs\u001b[0m\u001b[0;34m=\u001b[0m\u001b[0;36m5\u001b[0m\u001b[0;34m,\u001b[0m\u001b[0mbatch_size\u001b[0m\u001b[0;34m=\u001b[0m\u001b[0;36m50\u001b[0m\u001b[0;34m,\u001b[0m\u001b[0mvalidation_data\u001b[0m\u001b[0;34m=\u001b[0m\u001b[0mvalid_data\u001b[0m\u001b[0;34m)\u001b[0m\u001b[0;34m\u001b[0m\u001b[0;34m\u001b[0m\u001b[0m\n\u001b[0m",
      "\u001b[0;32m~/opt/anaconda3/envs/tensorflow/lib/python3.8/site-packages/tensorflow/python/keras/engine/training.py\u001b[0m in \u001b[0;36mfit\u001b[0;34m(self, x, y, batch_size, epochs, verbose, callbacks, validation_split, validation_data, shuffle, class_weight, sample_weight, initial_epoch, steps_per_epoch, validation_steps, validation_batch_size, validation_freq, max_queue_size, workers, use_multiprocessing)\u001b[0m\n\u001b[1;32m   1181\u001b[0m                 _r=1):\n\u001b[1;32m   1182\u001b[0m               \u001b[0mcallbacks\u001b[0m\u001b[0;34m.\u001b[0m\u001b[0mon_train_batch_begin\u001b[0m\u001b[0;34m(\u001b[0m\u001b[0mstep\u001b[0m\u001b[0;34m)\u001b[0m\u001b[0;34m\u001b[0m\u001b[0;34m\u001b[0m\u001b[0m\n\u001b[0;32m-> 1183\u001b[0;31m               \u001b[0mtmp_logs\u001b[0m \u001b[0;34m=\u001b[0m \u001b[0mself\u001b[0m\u001b[0;34m.\u001b[0m\u001b[0mtrain_function\u001b[0m\u001b[0;34m(\u001b[0m\u001b[0miterator\u001b[0m\u001b[0;34m)\u001b[0m\u001b[0;34m\u001b[0m\u001b[0;34m\u001b[0m\u001b[0m\n\u001b[0m\u001b[1;32m   1184\u001b[0m               \u001b[0;32mif\u001b[0m \u001b[0mdata_handler\u001b[0m\u001b[0;34m.\u001b[0m\u001b[0mshould_sync\u001b[0m\u001b[0;34m:\u001b[0m\u001b[0;34m\u001b[0m\u001b[0;34m\u001b[0m\u001b[0m\n\u001b[1;32m   1185\u001b[0m                 \u001b[0mcontext\u001b[0m\u001b[0;34m.\u001b[0m\u001b[0masync_wait\u001b[0m\u001b[0;34m(\u001b[0m\u001b[0;34m)\u001b[0m\u001b[0;34m\u001b[0m\u001b[0;34m\u001b[0m\u001b[0m\n",
      "\u001b[0;32m~/opt/anaconda3/envs/tensorflow/lib/python3.8/site-packages/tensorflow/python/eager/def_function.py\u001b[0m in \u001b[0;36m__call__\u001b[0;34m(self, *args, **kwds)\u001b[0m\n\u001b[1;32m    887\u001b[0m \u001b[0;34m\u001b[0m\u001b[0m\n\u001b[1;32m    888\u001b[0m       \u001b[0;32mwith\u001b[0m \u001b[0mOptionalXlaContext\u001b[0m\u001b[0;34m(\u001b[0m\u001b[0mself\u001b[0m\u001b[0;34m.\u001b[0m\u001b[0m_jit_compile\u001b[0m\u001b[0;34m)\u001b[0m\u001b[0;34m:\u001b[0m\u001b[0;34m\u001b[0m\u001b[0;34m\u001b[0m\u001b[0m\n\u001b[0;32m--> 889\u001b[0;31m         \u001b[0mresult\u001b[0m \u001b[0;34m=\u001b[0m \u001b[0mself\u001b[0m\u001b[0;34m.\u001b[0m\u001b[0m_call\u001b[0m\u001b[0;34m(\u001b[0m\u001b[0;34m*\u001b[0m\u001b[0margs\u001b[0m\u001b[0;34m,\u001b[0m \u001b[0;34m**\u001b[0m\u001b[0mkwds\u001b[0m\u001b[0;34m)\u001b[0m\u001b[0;34m\u001b[0m\u001b[0;34m\u001b[0m\u001b[0m\n\u001b[0m\u001b[1;32m    890\u001b[0m \u001b[0;34m\u001b[0m\u001b[0m\n\u001b[1;32m    891\u001b[0m       \u001b[0mnew_tracing_count\u001b[0m \u001b[0;34m=\u001b[0m \u001b[0mself\u001b[0m\u001b[0;34m.\u001b[0m\u001b[0mexperimental_get_tracing_count\u001b[0m\u001b[0;34m(\u001b[0m\u001b[0;34m)\u001b[0m\u001b[0;34m\u001b[0m\u001b[0;34m\u001b[0m\u001b[0m\n",
      "\u001b[0;32m~/opt/anaconda3/envs/tensorflow/lib/python3.8/site-packages/tensorflow/python/eager/def_function.py\u001b[0m in \u001b[0;36m_call\u001b[0;34m(self, *args, **kwds)\u001b[0m\n\u001b[1;32m    915\u001b[0m       \u001b[0;31m# In this case we have created variables on the first call, so we run the\u001b[0m\u001b[0;34m\u001b[0m\u001b[0;34m\u001b[0m\u001b[0;34m\u001b[0m\u001b[0m\n\u001b[1;32m    916\u001b[0m       \u001b[0;31m# defunned version which is guaranteed to never create variables.\u001b[0m\u001b[0;34m\u001b[0m\u001b[0;34m\u001b[0m\u001b[0;34m\u001b[0m\u001b[0m\n\u001b[0;32m--> 917\u001b[0;31m       \u001b[0;32mreturn\u001b[0m \u001b[0mself\u001b[0m\u001b[0;34m.\u001b[0m\u001b[0m_stateless_fn\u001b[0m\u001b[0;34m(\u001b[0m\u001b[0;34m*\u001b[0m\u001b[0margs\u001b[0m\u001b[0;34m,\u001b[0m \u001b[0;34m**\u001b[0m\u001b[0mkwds\u001b[0m\u001b[0;34m)\u001b[0m  \u001b[0;31m# pylint: disable=not-callable\u001b[0m\u001b[0;34m\u001b[0m\u001b[0;34m\u001b[0m\u001b[0m\n\u001b[0m\u001b[1;32m    918\u001b[0m     \u001b[0;32melif\u001b[0m \u001b[0mself\u001b[0m\u001b[0;34m.\u001b[0m\u001b[0m_stateful_fn\u001b[0m \u001b[0;32mis\u001b[0m \u001b[0;32mnot\u001b[0m \u001b[0;32mNone\u001b[0m\u001b[0;34m:\u001b[0m\u001b[0;34m\u001b[0m\u001b[0;34m\u001b[0m\u001b[0m\n\u001b[1;32m    919\u001b[0m       \u001b[0;31m# Release the lock early so that multiple threads can perform the call\u001b[0m\u001b[0;34m\u001b[0m\u001b[0;34m\u001b[0m\u001b[0;34m\u001b[0m\u001b[0m\n",
      "\u001b[0;32m~/opt/anaconda3/envs/tensorflow/lib/python3.8/site-packages/tensorflow/python/eager/function.py\u001b[0m in \u001b[0;36m__call__\u001b[0;34m(self, *args, **kwargs)\u001b[0m\n\u001b[1;32m   3021\u001b[0m       (graph_function,\n\u001b[1;32m   3022\u001b[0m        filtered_flat_args) = self._maybe_define_function(args, kwargs)\n\u001b[0;32m-> 3023\u001b[0;31m     return graph_function._call_flat(\n\u001b[0m\u001b[1;32m   3024\u001b[0m         filtered_flat_args, captured_inputs=graph_function.captured_inputs)  # pylint: disable=protected-access\n\u001b[1;32m   3025\u001b[0m \u001b[0;34m\u001b[0m\u001b[0m\n",
      "\u001b[0;32m~/opt/anaconda3/envs/tensorflow/lib/python3.8/site-packages/tensorflow/python/eager/function.py\u001b[0m in \u001b[0;36m_call_flat\u001b[0;34m(self, args, captured_inputs, cancellation_manager)\u001b[0m\n\u001b[1;32m   1958\u001b[0m         and executing_eagerly):\n\u001b[1;32m   1959\u001b[0m       \u001b[0;31m# No tape is watching; skip to running the function.\u001b[0m\u001b[0;34m\u001b[0m\u001b[0;34m\u001b[0m\u001b[0;34m\u001b[0m\u001b[0m\n\u001b[0;32m-> 1960\u001b[0;31m       return self._build_call_outputs(self._inference_function.call(\n\u001b[0m\u001b[1;32m   1961\u001b[0m           ctx, args, cancellation_manager=cancellation_manager))\n\u001b[1;32m   1962\u001b[0m     forward_backward = self._select_forward_and_backward_functions(\n",
      "\u001b[0;32m~/opt/anaconda3/envs/tensorflow/lib/python3.8/site-packages/tensorflow/python/eager/function.py\u001b[0m in \u001b[0;36mcall\u001b[0;34m(self, ctx, args, cancellation_manager)\u001b[0m\n\u001b[1;32m    589\u001b[0m       \u001b[0;32mwith\u001b[0m \u001b[0m_InterpolateFunctionError\u001b[0m\u001b[0;34m(\u001b[0m\u001b[0mself\u001b[0m\u001b[0;34m)\u001b[0m\u001b[0;34m:\u001b[0m\u001b[0;34m\u001b[0m\u001b[0;34m\u001b[0m\u001b[0m\n\u001b[1;32m    590\u001b[0m         \u001b[0;32mif\u001b[0m \u001b[0mcancellation_manager\u001b[0m \u001b[0;32mis\u001b[0m \u001b[0;32mNone\u001b[0m\u001b[0;34m:\u001b[0m\u001b[0;34m\u001b[0m\u001b[0;34m\u001b[0m\u001b[0m\n\u001b[0;32m--> 591\u001b[0;31m           outputs = execute.execute(\n\u001b[0m\u001b[1;32m    592\u001b[0m               \u001b[0mstr\u001b[0m\u001b[0;34m(\u001b[0m\u001b[0mself\u001b[0m\u001b[0;34m.\u001b[0m\u001b[0msignature\u001b[0m\u001b[0;34m.\u001b[0m\u001b[0mname\u001b[0m\u001b[0;34m)\u001b[0m\u001b[0;34m,\u001b[0m\u001b[0;34m\u001b[0m\u001b[0;34m\u001b[0m\u001b[0m\n\u001b[1;32m    593\u001b[0m               \u001b[0mnum_outputs\u001b[0m\u001b[0;34m=\u001b[0m\u001b[0mself\u001b[0m\u001b[0;34m.\u001b[0m\u001b[0m_num_outputs\u001b[0m\u001b[0;34m,\u001b[0m\u001b[0;34m\u001b[0m\u001b[0;34m\u001b[0m\u001b[0m\n",
      "\u001b[0;32m~/opt/anaconda3/envs/tensorflow/lib/python3.8/site-packages/tensorflow/python/eager/execute.py\u001b[0m in \u001b[0;36mquick_execute\u001b[0;34m(op_name, num_outputs, inputs, attrs, ctx, name)\u001b[0m\n\u001b[1;32m     57\u001b[0m   \u001b[0;32mtry\u001b[0m\u001b[0;34m:\u001b[0m\u001b[0;34m\u001b[0m\u001b[0;34m\u001b[0m\u001b[0m\n\u001b[1;32m     58\u001b[0m     \u001b[0mctx\u001b[0m\u001b[0;34m.\u001b[0m\u001b[0mensure_initialized\u001b[0m\u001b[0;34m(\u001b[0m\u001b[0;34m)\u001b[0m\u001b[0;34m\u001b[0m\u001b[0;34m\u001b[0m\u001b[0m\n\u001b[0;32m---> 59\u001b[0;31m     tensors = pywrap_tfe.TFE_Py_Execute(ctx._handle, device_name, op_name,\n\u001b[0m\u001b[1;32m     60\u001b[0m                                         inputs, attrs, num_outputs)\n\u001b[1;32m     61\u001b[0m   \u001b[0;32mexcept\u001b[0m \u001b[0mcore\u001b[0m\u001b[0;34m.\u001b[0m\u001b[0m_NotOkStatusException\u001b[0m \u001b[0;32mas\u001b[0m \u001b[0me\u001b[0m\u001b[0;34m:\u001b[0m\u001b[0;34m\u001b[0m\u001b[0;34m\u001b[0m\u001b[0m\n",
      "\u001b[0;31mKeyboardInterrupt\u001b[0m: "
     ]
    }
   ],
   "source": [
    "history=model.fit(train_data,epochs=5,batch_size=50,validation_data=valid_data)"
   ]
  },
  {
   "cell_type": "code",
   "execution_count": 47,
   "id": "5275b349",
   "metadata": {
    "ExecuteTime": {
     "end_time": "2021-08-12T15:35:59.596096Z",
     "start_time": "2021-08-12T15:35:59.581797Z"
    }
   },
   "outputs": [],
   "source": [
    "tf.keras.applications.ResNet50??"
   ]
  },
  {
   "cell_type": "code",
   "execution_count": 48,
   "id": "8fc10b8e",
   "metadata": {
    "ExecuteTime": {
     "end_time": "2021-08-12T15:42:16.255376Z",
     "start_time": "2021-08-12T15:40:09.654553Z"
    }
   },
   "outputs": [
    {
     "name": "stdout",
     "output_type": "stream",
     "text": [
      "\u001b7\u001b[?47h\u001b[>4;2m\u001b[?1h\u001b=\u001b[?2004h\u001b[1;24r\u001b[?12h\u001b[?12l\u001b[22;2t\u001b[22;1t\u001b[29m\u001b[m\u001b[H\u001b[2J\u001b[?25l\u001b[24;1H<w/lib/python3.8/site-packages/tensorflow/python/keras/applications/resnet.py\"\n",
      "\u001b[23;1H\"~/opt/anaconda3/envs/tensorflow/lib/python3.8/site-packages/tensorflow/python/k\u001b[24;1Heras/applications/resnet.py\" 584L, 21329C\u001b[2;1H▽\u001b[6n\u001b[2;1H  \u001b[1;1H\u001b[>c\u001b]10;?\u0007\u001b]11;?\u0007\u001b[24;1H\n",
      "\u001b[32mPress ENTER or type command to continue\u001b[?25h\u001b[m\u001b[1;1H\u001b[2L\u001b[?25l\u001b[1;1H# Copyright 2015 The TensorFlow Authors. All Rights Reserved.\n",
      "#\n",
      "# Licensed under the Apache License, Version 2.0 (the \"License\");\n",
      "# you may not use this file except in compliance with the License.\n",
      "# You may obtain a copy of the License at\n",
      "#\n",
      "#     http://www.apache.org/licenses/LICENSE-2.0\n",
      "#\n",
      "# Unless required by applicable law or agreed to in writing, software\n",
      "# distributed under the License is distributed on an \"AS IS\" BASIS,\n",
      "# WITHOUT WARRANTIES OR CONDITIONS OF ANY KIND, either express or implied.\n",
      "# See the License for the specific language governing permissions and\n",
      "# limitations under the License.\n",
      "# ==============================================================================\u001b[15;1H# pylint: disable=invalid-name\n",
      "\"\"\"ResNet models for Keras.\n",
      "\n",
      "Reference:\n",
      "  - [Deep Residual Learning for Image Recognition](\u001b[20;7Hhttps://arxiv.org/abs/1512.03385) (CVPR 2015)\n",
      "\"\"\"\n",
      "\n",
      "from tensorflow.python.keras import backend\u001b[24;1H\u001b[K\u001b[1;1H\u001b[?25h"
     ]
    }
   ],
   "source": [
    "!vim ~/opt/anaconda3/envs/tensorflow/lib/python3.8/site-packages/tensorflow/python/keras/applications/resnet.py"
   ]
  },
  {
   "cell_type": "code",
   "execution_count": 49,
   "id": "3629d473",
   "metadata": {
    "ExecuteTime": {
     "end_time": "2021-08-12T15:44:27.335286Z",
     "start_time": "2021-08-12T15:44:27.189396Z"
    }
   },
   "outputs": [
    {
     "name": "stdout",
     "output_type": "stream",
     "text": [
      "# Copyright 2015 The TensorFlow Authors. All Rights Reserved.\r\n",
      "#\r\n",
      "# Licensed under the Apache License, Version 2.0 (the \"License\");\r\n",
      "# you may not use this file except in compliance with the License.\r\n",
      "# You may obtain a copy of the License at\r\n",
      "#\r\n",
      "#     http://www.apache.org/licenses/LICENSE-2.0\r\n",
      "#\r\n",
      "# Unless required by applicable law or agreed to in writing, software\r\n",
      "# distributed under the License is distributed on an \"AS IS\" BASIS,\r\n",
      "# WITHOUT WARRANTIES OR CONDITIONS OF ANY KIND, either express or implied.\r\n",
      "# See the License for the specific language governing permissions and\r\n",
      "# limitations under the License.\r\n",
      "# ==============================================================================\r\n",
      "# pylint: disable=invalid-name\r\n",
      "\"\"\"ResNet models for Keras.\r\n",
      "\r\n",
      "Reference:\r\n",
      "  - [Deep Residual Learning for Image Recognition](\r\n",
      "      https://arxiv.org/abs/1512.03385) (CVPR 2015)\r\n",
      "\"\"\"\r\n",
      "\r\n",
      "from tensorflow.python.keras import backend\r\n",
      "from tensorflow.python.keras.applications import imagenet_utils\r\n",
      "from tensorflow.python.keras.engine import training\r\n",
      "from tensorflow.python.keras.layers import VersionAwareLayers\r\n",
      "from tensorflow.python.keras.utils import data_utils\r\n",
      "from tensorflow.python.keras.utils import layer_utils\r\n",
      "from tensorflow.python.lib.io import file_io\r\n",
      "from tensorflow.python.util.tf_export import keras_export\r\n",
      "\r\n",
      "\r\n",
      "BASE_WEIGHTS_PATH = (\r\n",
      "    'https://storage.googleapis.com/tensorflow/keras-applications/resnet/')\r\n",
      "WEIGHTS_HASHES = {\r\n",
      "    'resnet50': ('2cb95161c43110f7111970584f804107',\r\n",
      "                 '4d473c1dd8becc155b73f8504c6f6626'),\r\n",
      "    'resnet101': ('f1aeb4b969a6efcfb50fad2f0c20cfc5',\r\n",
      "                  '88cf7a10940856eca736dc7b7e228a21'),\r\n",
      "    'resnet152': ('100835be76be38e30d865e96f2aaae62',\r\n",
      "                  'ee4c566cf9a93f14d82f913c2dc6dd0c'),\r\n",
      "    'resnet50v2': ('3ef43a0b657b3be2300d5770ece849e0',\r\n",
      "                   'fac2f116257151a9d068a22e544a4917'),\r\n",
      "    'resnet101v2': ('6343647c601c52e1368623803854d971',\r\n",
      "                    'c0ed64b8031c3730f411d2eb4eea35b5'),\r\n",
      "    'resnet152v2': ('a49b44d1979771252814e80f8ec446f9',\r\n",
      "                    'ed17cf2e0169df9d443503ef94b23b33'),\r\n",
      "    'resnext50': ('67a5b30d522ed92f75a1f16eef299d1a',\r\n",
      "                  '62527c363bdd9ec598bed41947b379fc'),\r\n",
      "    'resnext101':\r\n",
      "        ('34fb605428fcc7aa4d62f44404c11509', '0f678c91647380debd923963594981b3')\r\n",
      "}\r\n",
      "\r\n",
      "layers = None\r\n",
      "\r\n",
      "\r\n",
      "def ResNet(stack_fn,\r\n",
      "           preact,\r\n",
      "           use_bias,\r\n",
      "           model_name='resnet',\r\n",
      "           include_top=True,\r\n",
      "           weights='imagenet',\r\n",
      "           input_tensor=None,\r\n",
      "           input_shape=None,\r\n",
      "           pooling=None,\r\n",
      "           classes=1000,\r\n",
      "           classifier_activation='softmax',\r\n",
      "           **kwargs):\r\n",
      "  \"\"\"Instantiates the ResNet, ResNetV2, and ResNeXt architecture.\r\n",
      "\r\n",
      "  Args:\r\n",
      "    stack_fn: a function that returns output tensor for the\r\n",
      "      stacked residual blocks.\r\n",
      "    preact: whether to use pre-activation or not\r\n",
      "      (True for ResNetV2, False for ResNet and ResNeXt).\r\n",
      "    use_bias: whether to use biases for convolutional layers or not\r\n",
      "      (True for ResNet and ResNetV2, False for ResNeXt).\r\n",
      "    model_name: string, model name.\r\n",
      "    include_top: whether to include the fully-connected\r\n",
      "      layer at the top of the network.\r\n",
      "    weights: one of `None` (random initialization),\r\n",
      "      'imagenet' (pre-training on ImageNet),\r\n",
      "      or the path to the weights file to be loaded.\r\n",
      "    input_tensor: optional Keras tensor\r\n",
      "      (i.e. output of `layers.Input()`)\r\n",
      "      to use as image input for the model.\r\n",
      "    input_shape: optional shape tuple, only to be specified\r\n",
      "      if `include_top` is False (otherwise the input shape\r\n",
      "      has to be `(224, 224, 3)` (with `channels_last` data format)\r\n",
      "      or `(3, 224, 224)` (with `channels_first` data format).\r\n",
      "      It should have exactly 3 inputs channels.\r\n",
      "    pooling: optional pooling mode for feature extraction\r\n",
      "      when `include_top` is `False`.\r\n",
      "      - `None` means that the output of the model will be\r\n",
      "          the 4D tensor output of the\r\n",
      "          last convolutional layer.\r\n",
      "      - `avg` means that global average pooling\r\n",
      "          will be applied to the output of the\r\n",
      "          last convolutional layer, and thus\r\n",
      "          the output of the model will be a 2D tensor.\r\n",
      "      - `max` means that global max pooling will\r\n",
      "          be applied.\r\n",
      "    classes: optional number of classes to classify images\r\n",
      "      into, only to be specified if `include_top` is True, and\r\n",
      "      if no `weights` argument is specified.\r\n",
      "    classifier_activation: A `str` or callable. The activation function to use\r\n",
      "      on the \"top\" layer. Ignored unless `include_top=True`. Set\r\n",
      "      `classifier_activation=None` to return the logits of the \"top\" layer.\r\n",
      "      When loading pretrained weights, `classifier_activation` can only\r\n",
      "      be `None` or `\"softmax\"`.\r\n",
      "    **kwargs: For backwards compatibility only.\r\n",
      "\r\n",
      "  Returns:\r\n",
      "    A `keras.Model` instance.\r\n",
      "  \"\"\"\r\n",
      "  global layers\r\n",
      "  if 'layers' in kwargs:\r\n",
      "    layers = kwargs.pop('layers')\r\n",
      "  else:\r\n",
      "    layers = VersionAwareLayers()\r\n",
      "  if kwargs:\r\n",
      "    raise ValueError('Unknown argument(s): %s' % (kwargs,))\r\n",
      "  if not (weights in {'imagenet', None} or file_io.file_exists_v2(weights)):\r\n",
      "    raise ValueError('The `weights` argument should be either '\r\n",
      "                     '`None` (random initialization), `imagenet` '\r\n",
      "                     '(pre-training on ImageNet), '\r\n",
      "                     'or the path to the weights file to be loaded.')\r\n",
      "\r\n",
      "  if weights == 'imagenet' and include_top and classes != 1000:\r\n",
      "    raise ValueError('If using `weights` as `\"imagenet\"` with `include_top`'\r\n",
      "                     ' as true, `classes` should be 1000')\r\n",
      "\r\n",
      "  # Determine proper input shape\r\n",
      "  input_shape = imagenet_utils.obtain_input_shape(\r\n",
      "      input_shape,\r\n",
      "      default_size=224,\r\n",
      "      min_size=32,\r\n",
      "      data_format=backend.image_data_format(),\r\n",
      "      require_flatten=include_top,\r\n",
      "      weights=weights)\r\n",
      "\r\n",
      "  if input_tensor is None:\r\n",
      "    img_input = layers.Input(shape=input_shape)\r\n",
      "  else:\r\n",
      "    if not backend.is_keras_tensor(input_tensor):\r\n",
      "      img_input = layers.Input(tensor=input_tensor, shape=input_shape)\r\n",
      "    else:\r\n",
      "      img_input = input_tensor\r\n",
      "\r\n",
      "  bn_axis = 3 if backend.image_data_format() == 'channels_last' else 1\r\n",
      "\r\n",
      "  x = layers.ZeroPadding2D(\r\n",
      "      padding=((3, 3), (3, 3)), name='conv1_pad')(img_input)\r\n",
      "  x = layers.Conv2D(64, 7, strides=2, use_bias=use_bias, name='conv1_conv')(x)\r\n",
      "\r\n",
      "  if not preact:\r\n",
      "    x = layers.BatchNormalization(\r\n",
      "        axis=bn_axis, epsilon=1.001e-5, name='conv1_bn')(x)\r\n",
      "    x = layers.Activation('relu', name='conv1_relu')(x)\r\n",
      "\r\n",
      "  x = layers.ZeroPadding2D(padding=((1, 1), (1, 1)), name='pool1_pad')(x)\r\n",
      "  x = layers.MaxPooling2D(3, strides=2, name='pool1_pool')(x)\r\n",
      "\r\n",
      "  x = stack_fn(x)\r\n",
      "\r\n",
      "  if preact:\r\n",
      "    x = layers.BatchNormalization(\r\n",
      "        axis=bn_axis, epsilon=1.001e-5, name='post_bn')(x)\r\n",
      "    x = layers.Activation('relu', name='post_relu')(x)\r\n",
      "\r\n",
      "  if include_top:\r\n",
      "    x = layers.GlobalAveragePooling2D(name='avg_pool')(x)\r\n",
      "    imagenet_utils.validate_activation(classifier_activation, weights)\r\n",
      "    x = layers.Dense(classes, activation=classifier_activation,\r\n",
      "                     name='predictions')(x)\r\n",
      "  else:\r\n",
      "    if pooling == 'avg':\r\n",
      "      x = layers.GlobalAveragePooling2D(name='avg_pool')(x)\r\n",
      "    elif pooling == 'max':\r\n",
      "      x = layers.GlobalMaxPooling2D(name='max_pool')(x)\r\n",
      "\r\n",
      "  # Ensure that the model takes into account\r\n",
      "  # any potential predecessors of `input_tensor`.\r\n",
      "  if input_tensor is not None:\r\n",
      "    inputs = layer_utils.get_source_inputs(input_tensor)\r\n",
      "  else:\r\n",
      "    inputs = img_input\r\n",
      "\r\n",
      "  # Create model.\r\n",
      "  model = training.Model(inputs, x, name=model_name)\r\n",
      "\r\n",
      "  # Load weights.\r\n",
      "  if (weights == 'imagenet') and (model_name in WEIGHTS_HASHES):\r\n",
      "    if include_top:\r\n",
      "      file_name = model_name + '_weights_tf_dim_ordering_tf_kernels.h5'\r\n",
      "      file_hash = WEIGHTS_HASHES[model_name][0]\r\n",
      "    else:\r\n",
      "      file_name = model_name + '_weights_tf_dim_ordering_tf_kernels_notop.h5'\r\n",
      "      file_hash = WEIGHTS_HASHES[model_name][1]\r\n",
      "    weights_path = data_utils.get_file(\r\n",
      "        file_name,\r\n",
      "        BASE_WEIGHTS_PATH + file_name,\r\n",
      "        cache_subdir='models',\r\n",
      "        file_hash=file_hash)\r\n",
      "    model.load_weights(weights_path)\r\n",
      "  elif weights is not None:\r\n",
      "    model.load_weights(weights)\r\n",
      "\r\n",
      "  return model\r\n",
      "\r\n",
      "\r\n",
      "def block1(x, filters, kernel_size=3, stride=1, conv_shortcut=True, name=None):\r\n",
      "  \"\"\"A residual block.\r\n",
      "\r\n",
      "  Args:\r\n",
      "    x: input tensor.\r\n",
      "    filters: integer, filters of the bottleneck layer.\r\n",
      "    kernel_size: default 3, kernel size of the bottleneck layer.\r\n",
      "    stride: default 1, stride of the first layer.\r\n",
      "    conv_shortcut: default True, use convolution shortcut if True,\r\n",
      "        otherwise identity shortcut.\r\n",
      "    name: string, block label.\r\n",
      "\r\n",
      "  Returns:\r\n",
      "    Output tensor for the residual block.\r\n",
      "  \"\"\"\r\n",
      "  bn_axis = 3 if backend.image_data_format() == 'channels_last' else 1\r\n",
      "\r\n",
      "  if conv_shortcut:\r\n",
      "    shortcut = layers.Conv2D(\r\n",
      "        4 * filters, 1, strides=stride, name=name + '_0_conv')(x)\r\n",
      "    shortcut = layers.BatchNormalization(\r\n",
      "        axis=bn_axis, epsilon=1.001e-5, name=name + '_0_bn')(shortcut)\r\n",
      "  else:\r\n",
      "    shortcut = x\r\n",
      "\r\n",
      "  x = layers.Conv2D(filters, 1, strides=stride, name=name + '_1_conv')(x)\r\n",
      "  x = layers.BatchNormalization(\r\n",
      "      axis=bn_axis, epsilon=1.001e-5, name=name + '_1_bn')(x)\r\n",
      "  x = layers.Activation('relu', name=name + '_1_relu')(x)\r\n",
      "\r\n",
      "  x = layers.Conv2D(\r\n",
      "      filters, kernel_size, padding='SAME', name=name + '_2_conv')(x)\r\n",
      "  x = layers.BatchNormalization(\r\n",
      "      axis=bn_axis, epsilon=1.001e-5, name=name + '_2_bn')(x)\r\n",
      "  x = layers.Activation('relu', name=name + '_2_relu')(x)\r\n",
      "\r\n",
      "  x = layers.Conv2D(4 * filters, 1, name=name + '_3_conv')(x)\r\n",
      "  x = layers.BatchNormalization(\r\n",
      "      axis=bn_axis, epsilon=1.001e-5, name=name + '_3_bn')(x)\r\n",
      "\r\n",
      "  x = layers.Add(name=name + '_add')([shortcut, x])\r\n",
      "  x = layers.Activation('relu', name=name + '_out')(x)\r\n",
      "  return x\r\n",
      "\r\n",
      "\r\n",
      "def stack1(x, filters, blocks, stride1=2, name=None):\r\n",
      "  \"\"\"A set of stacked residual blocks.\r\n",
      "\r\n",
      "  Args:\r\n",
      "    x: input tensor.\r\n",
      "    filters: integer, filters of the bottleneck layer in a block.\r\n",
      "    blocks: integer, blocks in the stacked blocks.\r\n",
      "    stride1: default 2, stride of the first layer in the first block.\r\n",
      "    name: string, stack label.\r\n",
      "\r\n",
      "  Returns:\r\n",
      "    Output tensor for the stacked blocks.\r\n",
      "  \"\"\"\r\n",
      "  x = block1(x, filters, stride=stride1, name=name + '_block1')\r\n",
      "  for i in range(2, blocks + 1):\r\n",
      "    x = block1(x, filters, conv_shortcut=False, name=name + '_block' + str(i))\r\n",
      "  return x\r\n",
      "\r\n",
      "\r\n",
      "def block2(x, filters, kernel_size=3, stride=1, conv_shortcut=False, name=None):\r\n",
      "  \"\"\"A residual block.\r\n",
      "\r\n",
      "  Args:\r\n",
      "      x: input tensor.\r\n",
      "      filters: integer, filters of the bottleneck layer.\r\n",
      "      kernel_size: default 3, kernel size of the bottleneck layer.\r\n",
      "      stride: default 1, stride of the first layer.\r\n",
      "      conv_shortcut: default False, use convolution shortcut if True,\r\n",
      "        otherwise identity shortcut.\r\n",
      "      name: string, block label.\r\n",
      "\r\n",
      "  Returns:\r\n",
      "    Output tensor for the residual block.\r\n",
      "  \"\"\"\r\n",
      "  bn_axis = 3 if backend.image_data_format() == 'channels_last' else 1\r\n",
      "\r\n",
      "  preact = layers.BatchNormalization(\r\n",
      "      axis=bn_axis, epsilon=1.001e-5, name=name + '_preact_bn')(x)\r\n",
      "  preact = layers.Activation('relu', name=name + '_preact_relu')(preact)\r\n",
      "\r\n",
      "  if conv_shortcut:\r\n",
      "    shortcut = layers.Conv2D(\r\n",
      "        4 * filters, 1, strides=stride, name=name + '_0_conv')(preact)\r\n",
      "  else:\r\n",
      "    shortcut = layers.MaxPooling2D(1, strides=stride)(x) if stride > 1 else x\r\n",
      "\r\n",
      "  x = layers.Conv2D(\r\n",
      "      filters, 1, strides=1, use_bias=False, name=name + '_1_conv')(preact)\r\n",
      "  x = layers.BatchNormalization(\r\n",
      "      axis=bn_axis, epsilon=1.001e-5, name=name + '_1_bn')(x)\r\n",
      "  x = layers.Activation('relu', name=name + '_1_relu')(x)\r\n",
      "\r\n",
      "  x = layers.ZeroPadding2D(padding=((1, 1), (1, 1)), name=name + '_2_pad')(x)\r\n",
      "  x = layers.Conv2D(\r\n",
      "      filters,\r\n",
      "      kernel_size,\r\n",
      "      strides=stride,\r\n",
      "      use_bias=False,\r\n",
      "      name=name + '_2_conv')(x)\r\n",
      "  x = layers.BatchNormalization(\r\n",
      "      axis=bn_axis, epsilon=1.001e-5, name=name + '_2_bn')(x)\r\n",
      "  x = layers.Activation('relu', name=name + '_2_relu')(x)\r\n",
      "\r\n",
      "  x = layers.Conv2D(4 * filters, 1, name=name + '_3_conv')(x)\r\n",
      "  x = layers.Add(name=name + '_out')([shortcut, x])\r\n",
      "  return x\r\n",
      "\r\n",
      "\r\n",
      "def stack2(x, filters, blocks, stride1=2, name=None):\r\n",
      "  \"\"\"A set of stacked residual blocks.\r\n",
      "\r\n",
      "  Args:\r\n",
      "      x: input tensor.\r\n",
      "      filters: integer, filters of the bottleneck layer in a block.\r\n",
      "      blocks: integer, blocks in the stacked blocks.\r\n",
      "      stride1: default 2, stride of the first layer in the first block.\r\n",
      "      name: string, stack label.\r\n",
      "\r\n",
      "  Returns:\r\n",
      "      Output tensor for the stacked blocks.\r\n",
      "  \"\"\"\r\n",
      "  x = block2(x, filters, conv_shortcut=True, name=name + '_block1')\r\n",
      "  for i in range(2, blocks):\r\n",
      "    x = block2(x, filters, name=name + '_block' + str(i))\r\n",
      "  x = block2(x, filters, stride=stride1, name=name + '_block' + str(blocks))\r\n",
      "  return x\r\n",
      "\r\n",
      "\r\n",
      "def block3(x,\r\n",
      "           filters,\r\n",
      "           kernel_size=3,\r\n",
      "           stride=1,\r\n",
      "           groups=32,\r\n",
      "           conv_shortcut=True,\r\n",
      "           name=None):\r\n",
      "  \"\"\"A residual block.\r\n",
      "\r\n",
      "  Args:\r\n",
      "    x: input tensor.\r\n",
      "    filters: integer, filters of the bottleneck layer.\r\n",
      "    kernel_size: default 3, kernel size of the bottleneck layer.\r\n",
      "    stride: default 1, stride of the first layer.\r\n",
      "    groups: default 32, group size for grouped convolution.\r\n",
      "    conv_shortcut: default True, use convolution shortcut if True,\r\n",
      "        otherwise identity shortcut.\r\n",
      "    name: string, block label.\r\n",
      "\r\n",
      "  Returns:\r\n",
      "    Output tensor for the residual block.\r\n",
      "  \"\"\"\r\n",
      "  bn_axis = 3 if backend.image_data_format() == 'channels_last' else 1\r\n",
      "\r\n",
      "  if conv_shortcut:\r\n",
      "    shortcut = layers.Conv2D(\r\n",
      "        (64 // groups) * filters,\r\n",
      "        1,\r\n",
      "        strides=stride,\r\n",
      "        use_bias=False,\r\n",
      "        name=name + '_0_conv')(x)\r\n",
      "    shortcut = layers.BatchNormalization(\r\n",
      "        axis=bn_axis, epsilon=1.001e-5, name=name + '_0_bn')(shortcut)\r\n",
      "  else:\r\n",
      "    shortcut = x\r\n",
      "\r\n",
      "  x = layers.Conv2D(filters, 1, use_bias=False, name=name + '_1_conv')(x)\r\n",
      "  x = layers.BatchNormalization(\r\n",
      "      axis=bn_axis, epsilon=1.001e-5, name=name + '_1_bn')(x)\r\n",
      "  x = layers.Activation('relu', name=name + '_1_relu')(x)\r\n",
      "\r\n",
      "  c = filters // groups\r\n",
      "  x = layers.ZeroPadding2D(padding=((1, 1), (1, 1)), name=name + '_2_pad')(x)\r\n",
      "  x = layers.DepthwiseConv2D(\r\n",
      "      kernel_size,\r\n",
      "      strides=stride,\r\n",
      "      depth_multiplier=c,\r\n",
      "      use_bias=False,\r\n",
      "      name=name + '_2_conv')(x)\r\n",
      "  x_shape = backend.shape(x)[:-1]\r\n",
      "  x = backend.reshape(x, backend.concatenate([x_shape, (groups, c, c)]))\r\n",
      "  x = layers.Lambda(\r\n",
      "      lambda x: sum(x[:, :, :, :, i] for i in range(c)),\r\n",
      "      name=name + '_2_reduce')(x)\r\n",
      "  x = backend.reshape(x, backend.concatenate([x_shape, (filters,)]))\r\n",
      "  x = layers.BatchNormalization(\r\n",
      "      axis=bn_axis, epsilon=1.001e-5, name=name + '_2_bn')(x)\r\n",
      "  x = layers.Activation('relu', name=name + '_2_relu')(x)\r\n",
      "\r\n",
      "  x = layers.Conv2D(\r\n",
      "      (64 // groups) * filters, 1, use_bias=False, name=name + '_3_conv')(x)\r\n",
      "  x = layers.BatchNormalization(\r\n",
      "      axis=bn_axis, epsilon=1.001e-5, name=name + '_3_bn')(x)\r\n",
      "\r\n",
      "  x = layers.Add(name=name + '_add')([shortcut, x])\r\n",
      "  x = layers.Activation('relu', name=name + '_out')(x)\r\n",
      "  return x\r\n",
      "\r\n",
      "\r\n",
      "def stack3(x, filters, blocks, stride1=2, groups=32, name=None):\r\n",
      "  \"\"\"A set of stacked residual blocks.\r\n",
      "\r\n",
      "  Args:\r\n",
      "    x: input tensor.\r\n",
      "    filters: integer, filters of the bottleneck layer in a block.\r\n",
      "    blocks: integer, blocks in the stacked blocks.\r\n",
      "    stride1: default 2, stride of the first layer in the first block.\r\n",
      "    groups: default 32, group size for grouped convolution.\r\n",
      "    name: string, stack label.\r\n",
      "\r\n",
      "  Returns:\r\n",
      "    Output tensor for the stacked blocks.\r\n",
      "  \"\"\"\r\n",
      "  x = block3(x, filters, stride=stride1, groups=groups, name=name + '_block1')\r\n",
      "  for i in range(2, blocks + 1):\r\n",
      "    x = block3(\r\n",
      "        x,\r\n",
      "        filters,\r\n",
      "        groups=groups,\r\n",
      "        conv_shortcut=False,\r\n",
      "        name=name + '_block' + str(i))\r\n",
      "  return x\r\n",
      "\r\n",
      "\r\n",
      "@keras_export('keras.applications.resnet50.ResNet50',\r\n",
      "              'keras.applications.resnet.ResNet50',\r\n",
      "              'keras.applications.ResNet50')\r\n",
      "def ResNet50(include_top=True,\r\n",
      "             weights='imagenet',\r\n",
      "             input_tensor=None,\r\n",
      "             input_shape=None,\r\n",
      "             pooling=None,\r\n",
      "             classes=1000,\r\n",
      "             **kwargs):\r\n",
      "  \"\"\"Instantiates the ResNet50 architecture.\"\"\"\r\n",
      "\r\n",
      "  def stack_fn(x):\r\n",
      "    x = stack1(x, 64, 3, stride1=1, name='conv2')\r\n",
      "    x = stack1(x, 128, 4, name='conv3')\r\n",
      "    x = stack1(x, 256, 6, name='conv4')\r\n",
      "    return stack1(x, 512, 3, name='conv5')\r\n",
      "\r\n",
      "  return ResNet(stack_fn, False, True, 'resnet50', include_top, weights,\r\n",
      "                input_tensor, input_shape, pooling, classes, **kwargs)\r\n",
      "\r\n",
      "\r\n",
      "@keras_export('keras.applications.resnet.ResNet101',\r\n",
      "              'keras.applications.ResNet101')\r\n",
      "def ResNet101(include_top=True,\r\n",
      "              weights='imagenet',\r\n",
      "              input_tensor=None,\r\n",
      "              input_shape=None,\r\n",
      "              pooling=None,\r\n",
      "              classes=1000,\r\n",
      "              **kwargs):\r\n",
      "  \"\"\"Instantiates the ResNet101 architecture.\"\"\"\r\n",
      "\r\n",
      "  def stack_fn(x):\r\n",
      "    x = stack1(x, 64, 3, stride1=1, name='conv2')\r\n",
      "    x = stack1(x, 128, 4, name='conv3')\r\n",
      "    x = stack1(x, 256, 23, name='conv4')\r\n",
      "    return stack1(x, 512, 3, name='conv5')\r\n",
      "\r\n",
      "  return ResNet(stack_fn, False, True, 'resnet101', include_top, weights,\r\n",
      "                input_tensor, input_shape, pooling, classes, **kwargs)\r\n",
      "\r\n",
      "\r\n",
      "@keras_export('keras.applications.resnet.ResNet152',\r\n",
      "              'keras.applications.ResNet152')\r\n",
      "def ResNet152(include_top=True,\r\n",
      "              weights='imagenet',\r\n",
      "              input_tensor=None,\r\n",
      "              input_shape=None,\r\n",
      "              pooling=None,\r\n",
      "              classes=1000,\r\n",
      "              **kwargs):\r\n",
      "  \"\"\"Instantiates the ResNet152 architecture.\"\"\"\r\n",
      "\r\n",
      "  def stack_fn(x):\r\n",
      "    x = stack1(x, 64, 3, stride1=1, name='conv2')\r\n",
      "    x = stack1(x, 128, 8, name='conv3')\r\n",
      "    x = stack1(x, 256, 36, name='conv4')\r\n",
      "    return stack1(x, 512, 3, name='conv5')\r\n",
      "\r\n",
      "  return ResNet(stack_fn, False, True, 'resnet152', include_top, weights,\r\n",
      "                input_tensor, input_shape, pooling, classes, **kwargs)\r\n",
      "\r\n",
      "\r\n",
      "@keras_export('keras.applications.resnet50.preprocess_input',\r\n",
      "              'keras.applications.resnet.preprocess_input')\r\n",
      "def preprocess_input(x, data_format=None):\r\n",
      "  return imagenet_utils.preprocess_input(\r\n",
      "      x, data_format=data_format, mode='caffe')\r\n",
      "\r\n",
      "\r\n",
      "@keras_export('keras.applications.resnet50.decode_predictions',\r\n",
      "              'keras.applications.resnet.decode_predictions')\r\n",
      "def decode_predictions(preds, top=5):\r\n",
      "  return imagenet_utils.decode_predictions(preds, top=top)\r\n",
      "\r\n",
      "\r\n",
      "preprocess_input.__doc__ = imagenet_utils.PREPROCESS_INPUT_DOC.format(\r\n",
      "    mode='',\r\n",
      "    ret=imagenet_utils.PREPROCESS_INPUT_RET_DOC_CAFFE,\r\n",
      "    error=imagenet_utils.PREPROCESS_INPUT_ERROR_DOC)\r\n",
      "decode_predictions.__doc__ = imagenet_utils.decode_predictions.__doc__\r\n",
      "\r\n",
      "DOC = \"\"\"\r\n",
      "\r\n",
      "  Reference:\r\n",
      "  - [Deep Residual Learning for Image Recognition](\r\n",
      "      https://arxiv.org/abs/1512.03385) (CVPR 2015)\r\n",
      "\r\n",
      "  For image classification use cases, see\r\n",
      "  [this page for detailed examples](\r\n",
      "    https://keras.io/api/applications/#usage-examples-for-image-classification-models).\r",
      "\r\n",
      "\r\n",
      "  For transfer learning use cases, make sure to read the\r\n",
      "  [guide to transfer learning & fine-tuning](\r\n",
      "    https://keras.io/guides/transfer_learning/).\r\n",
      "\r\n",
      "  Note: each Keras Application expects a specific kind of input preprocessing.\r\n",
      "  For ResNet, call `tf.keras.applications.resnet.preprocess_input` on your\r\n",
      "  inputs before passing them to the model.\r\n",
      "  `resnet.preprocess_input` will convert the input images from RGB to BGR,\r\n",
      "  then will zero-center each color channel with respect to the ImageNet dataset,\r\n",
      "  without scaling.\r\n",
      "\r\n",
      "  Args:\r\n",
      "    include_top: whether to include the fully-connected\r\n",
      "      layer at the top of the network.\r\n",
      "    weights: one of `None` (random initialization),\r\n",
      "      'imagenet' (pre-training on ImageNet),\r\n",
      "      or the path to the weights file to be loaded.\r\n",
      "    input_tensor: optional Keras tensor (i.e. output of `layers.Input()`)\r\n",
      "      to use as image input for the model.\r\n",
      "    input_shape: optional shape tuple, only to be specified\r\n",
      "      if `include_top` is False (otherwise the input shape\r\n",
      "      has to be `(224, 224, 3)` (with `'channels_last'` data format)\r\n",
      "      or `(3, 224, 224)` (with `'channels_first'` data format).\r\n",
      "      It should have exactly 3 inputs channels,\r\n",
      "      and width and height should be no smaller than 32.\r\n",
      "      E.g. `(200, 200, 3)` would be one valid value.\r\n",
      "    pooling: Optional pooling mode for feature extraction\r\n",
      "      when `include_top` is `False`.\r\n",
      "      - `None` means that the output of the model will be\r\n",
      "          the 4D tensor output of the\r\n",
      "          last convolutional block.\r\n",
      "      - `avg` means that global average pooling\r\n",
      "          will be applied to the output of the\r\n",
      "          last convolutional block, and thus\r\n",
      "          the output of the model will be a 2D tensor.\r\n",
      "      - `max` means that global max pooling will\r\n",
      "          be applied.\r\n",
      "    classes: optional number of classes to classify images\r\n",
      "      into, only to be specified if `include_top` is True, and\r\n",
      "      if no `weights` argument is specified.\r\n",
      "    classifier_activation: A `str` or callable. The activation function to use\r\n",
      "      on the \"top\" layer. Ignored unless `include_top=True`. Set\r\n",
      "      `classifier_activation=None` to return the logits of the \"top\" layer.\r\n",
      "      When loading pretrained weights, `classifier_activation` can only\r\n",
      "      be `None` or `\"softmax\"`.\r\n",
      "\r\n",
      "  Returns:\r\n",
      "    A Keras model instance.\r\n",
      "\"\"\"\r\n",
      "\r\n",
      "setattr(ResNet50, '__doc__', ResNet50.__doc__ + DOC)\r\n",
      "setattr(ResNet101, '__doc__', ResNet101.__doc__ + DOC)\r\n",
      "setattr(ResNet152, '__doc__', ResNet152.__doc__ + DOC)\r\n"
     ]
    }
   ],
   "source": [
    "!cat ~/opt/anaconda3/envs/tensorflow/lib/python3.8/site-packages/tensorflow/python/keras/applications/resnet.py"
   ]
  },
  {
   "cell_type": "code",
   "execution_count": 201,
   "id": "65b0584a",
   "metadata": {
    "ExecuteTime": {
     "end_time": "2021-08-13T05:25:04.318918Z",
     "start_time": "2021-08-13T05:25:04.315176Z"
    }
   },
   "outputs": [],
   "source": [
    "def conv_bn(x,filter_num,kernel_size,strides=(1,1),padding='same'):\n",
    "    x=Conv2D(filters=filter_num,kernel_size=kernel_size,strides=strides,padding=padding)(x)\n",
    "    x=BatchNormalization(axis=3)(x)\n",
    "    x=Activation('relu')(x)\n",
    "    return x"
   ]
  },
  {
   "cell_type": "code",
   "execution_count": null,
   "id": "48de78bf",
   "metadata": {},
   "outputs": [],
   "source": [
    "def Conv2d_BN(x, nb_filter, kernel_size, strides=(1, 1), padding='same'):\n",
    "\n",
    "    x = Conv2D(nb_filter, kernel_size, padding=padding, strides=strides)(x)\n",
    "    x = BatchNormalization(axis=3)(x)\n",
    "\n",
    "    return x"
   ]
  },
  {
   "cell_type": "code",
   "execution_count": 208,
   "id": "4a60cfd4",
   "metadata": {
    "ExecuteTime": {
     "end_time": "2021-08-13T05:50:22.016679Z",
     "start_time": "2021-08-13T05:50:22.011731Z"
    }
   },
   "outputs": [],
   "source": [
    "def identity_blocks(inpt,filter_num,kernel_size,strides=(1,1),padding='same',with_shortcut=False):\n",
    "    x=conv_bn(inpt, filter_num=filter_num, kernel_size=kernel_size, strides=strides, padding='same')\n",
    "    x=conv_bn(x, filter_num=filter_num, kernel_size=kernel_size, padding='same')\n",
    "    if with_shortcut:\n",
    "        shortcut=conv_bn(inpt, filter_num=filter_num, strides=strides, kernel_size=kernel_size)\n",
    "        x=add([x,shortcut])\n",
    "        return x\n",
    "    else:\n",
    "        x=add([x,inpt])\n",
    "        return x\n",
    "\n"
   ]
  },
  {
   "cell_type": "code",
   "execution_count": 195,
   "id": "315ab7aa",
   "metadata": {
    "ExecuteTime": {
     "end_time": "2021-08-13T05:22:42.462408Z",
     "start_time": "2021-08-13T05:22:42.457212Z"
    }
   },
   "outputs": [],
   "source": [
    "def identity_Block(inpt, nb_filter, kernel_size, strides=(1, 1), with_conv_shortcut=False):\n",
    "    x = Conv2d_BN(inpt, nb_filter=nb_filter, kernel_size=kernel_size, strides=strides, padding='same')\n",
    "    x = Activation('relu')(x)\n",
    "    x = Conv2d_BN(x, nb_filter=nb_filter, kernel_size=kernel_size, padding='same')\n",
    "    x = Activation('relu')(x)\n",
    "    if with_conv_shortcut:#shortcut的含义是：将输入层x与最后的输出层y进行连接，如上图所示\n",
    "        shortcut = Conv2d_BN(inpt, nb_filter=nb_filter, strides=strides, kernel_size=kernel_size)\n",
    "        x = add([x, shortcut])\n",
    "        return x\n",
    "    else:\n",
    "        x = add([x, inpt])\n",
    "        return x"
   ]
  },
  {
   "cell_type": "code",
   "execution_count": 211,
   "id": "baa4d4ff",
   "metadata": {
    "ExecuteTime": {
     "end_time": "2021-08-13T05:55:05.563201Z",
     "start_time": "2021-08-13T05:55:05.554316Z"
    }
   },
   "outputs": [],
   "source": [
    "def resnet_v1(width,height,channel,class_num):\n",
    "    inpt = Input(shape=(width, height, channel))\n",
    "    # inpt=Input(shape=(width,height,channle))\n",
    "    x = conv_bn(inpt, filter_num=64, kernel_size=(7, 7), strides=(2, 2), padding='valid')\n",
    "    x = MaxPool2D(pool_size=(3, 3), strides=(2, 2), padding='same')(x)\n",
    "    \n",
    "    #stage2\n",
    "    x=identity_blocks(x,filter_num=64,kernel_size=(3,3),strides=(1,1),padding='same',with_shortcut=True)\n",
    "    x=identity_blocks(x,filter_num=64,kernel_size=(3,3),strides=(1,1),padding='same')\n",
    "    \n",
    "    #stage3\n",
    "    x=identity_blocks(x,filter_num=128,kernel_size=(3,3),strides=(1,1),padding='same',with_shortcut=True)\n",
    "    x=identity_blocks(x,filter_num=128,kernel_size=(3,3),strides=(1,1),padding='same')\n",
    "    \n",
    "    #stage4\n",
    "    x=identity_blocks(x,filter_num=256,kernel_size=(3,3),strides=(1,1),padding='same',with_shortcut=True)\n",
    "    x=identity_blocks(x,filter_num=256,kernel_size=(3,3),strides=(1,1),padding='same')\n",
    "    \n",
    "    #stage5\n",
    "    x=identity_blocks(x,filter_num=512,kernel_size=(3,3),strides=(1,1),padding='same',with_shortcut=True)\n",
    "    x=identity_blocks(x,filter_num=512,kernel_size=(3,3),strides=(1,1),padding='same')\n",
    "    \n",
    "    x=GlobalAvgPool2D()(x)\n",
    "    x=Dense(class_num,activation='softmax')(x)\n",
    "    model=Model(inputs=inpt,outputs=x)\n",
    "    return model"
   ]
  },
  {
   "cell_type": "code",
   "execution_count": 192,
   "id": "8b9fd2f3",
   "metadata": {
    "ExecuteTime": {
     "end_time": "2021-08-13T05:21:29.075580Z",
     "start_time": "2021-08-13T05:21:29.067773Z"
    }
   },
   "outputs": [],
   "source": [
    "def resnet_v2(width,height,channel,classes):\n",
    "    inpt = Input(shape=(width, height, channel))\n",
    "    #x = ZeroPadding2D((3, 3))(inpt)\n",
    " \n",
    "    #conv1\n",
    "    x = conv_bn(inpt, filter_num=64, kernel_size=(7, 7), strides=(2, 2), padding='valid')\n",
    "    x = MaxPool2D(pool_size=(3, 3), strides=(2, 2), padding='same')(x)\n",
    " \n",
    "    #conv2_x\n",
    "    x = identity_blocks(x, filter_num=64, kernel_size=(3, 3))\n",
    "    x = identity_blocks(x, filter_num=64, kernel_size=(3, 3))\n",
    " \n",
    "    #conv3_x\n",
    "    x = identity_blocks(x, filter_num=128, kernel_size=(3, 3), strides=(2, 2), with_shortcut=True)\n",
    "    x = identity_blocks(x, filter_num=128, kernel_size=(3, 3))\n",
    " \n",
    "    #conv4_x\n",
    "    x = identity_blocks(x, nb_filter=256, kernel_size=(3, 3), strides=(2, 2), with_shortcut=True)\n",
    "    x = identity_blocks(x, nb_filter=256, kernel_size=(3, 3))\n",
    " \n",
    "    #conv5_x\n",
    "    x = identity_blocks(x, filter_num=512, kernel_size=(3, 3), strides=(2, 2), with_shortcut=True)\n",
    "    x = identity_blocks(x, filter_num=512, kernel_size=(3, 3))\n",
    "\n",
    "    x = GlobalAvgPool2D()(x)\n",
    "    x = Dense(classes, activation='softmax')(x)\n",
    " \n",
    "    model = Model(inputs=inpt, outputs=x)\n",
    "    return model"
   ]
  },
  {
   "cell_type": "code",
   "execution_count": 212,
   "id": "3343525a",
   "metadata": {
    "ExecuteTime": {
     "end_time": "2021-08-13T05:55:09.425358Z",
     "start_time": "2021-08-13T05:55:09.042026Z"
    },
    "scrolled": true
   },
   "outputs": [],
   "source": [
    "model=resnet_v1(224,224,3,3)"
   ]
  },
  {
   "cell_type": "code",
   "execution_count": 213,
   "id": "83c615b1",
   "metadata": {
    "ExecuteTime": {
     "end_time": "2021-08-13T05:56:37.744904Z",
     "start_time": "2021-08-13T05:56:37.720046Z"
    }
   },
   "outputs": [
    {
     "name": "stdout",
     "output_type": "stream",
     "text": [
      "Model: \"model_5\"\n",
      "__________________________________________________________________________________________________\n",
      "Layer (type)                    Output Shape         Param #     Connected to                     \n",
      "==================================================================================================\n",
      "input_51 (InputLayer)           [(None, 224, 224, 3) 0                                            \n",
      "__________________________________________________________________________________________________\n",
      "conv2d_303 (Conv2D)             (None, 109, 109, 64) 9472        input_51[0][0]                   \n",
      "__________________________________________________________________________________________________\n",
      "batch_normalization_285 (BatchN (None, 109, 109, 64) 256         conv2d_303[0][0]                 \n",
      "__________________________________________________________________________________________________\n",
      "activation_214 (Activation)     (None, 109, 109, 64) 0           batch_normalization_285[0][0]    \n",
      "__________________________________________________________________________________________________\n",
      "max_pooling2d_45 (MaxPooling2D) (None, 55, 55, 64)   0           activation_214[0][0]             \n",
      "__________________________________________________________________________________________________\n",
      "conv2d_304 (Conv2D)             (None, 55, 55, 64)   36928       max_pooling2d_45[0][0]           \n",
      "__________________________________________________________________________________________________\n",
      "batch_normalization_286 (BatchN (None, 55, 55, 64)   256         conv2d_304[0][0]                 \n",
      "__________________________________________________________________________________________________\n",
      "activation_215 (Activation)     (None, 55, 55, 64)   0           batch_normalization_286[0][0]    \n",
      "__________________________________________________________________________________________________\n",
      "conv2d_305 (Conv2D)             (None, 55, 55, 64)   36928       activation_215[0][0]             \n",
      "__________________________________________________________________________________________________\n",
      "conv2d_306 (Conv2D)             (None, 55, 55, 64)   36928       max_pooling2d_45[0][0]           \n",
      "__________________________________________________________________________________________________\n",
      "batch_normalization_287 (BatchN (None, 55, 55, 64)   256         conv2d_305[0][0]                 \n",
      "__________________________________________________________________________________________________\n",
      "batch_normalization_288 (BatchN (None, 55, 55, 64)   256         conv2d_306[0][0]                 \n",
      "__________________________________________________________________________________________________\n",
      "activation_216 (Activation)     (None, 55, 55, 64)   0           batch_normalization_287[0][0]    \n",
      "__________________________________________________________________________________________________\n",
      "activation_217 (Activation)     (None, 55, 55, 64)   0           batch_normalization_288[0][0]    \n",
      "__________________________________________________________________________________________________\n",
      "add_97 (Add)                    (None, 55, 55, 64)   0           activation_216[0][0]             \n",
      "                                                                 activation_217[0][0]             \n",
      "__________________________________________________________________________________________________\n",
      "conv2d_307 (Conv2D)             (None, 55, 55, 64)   36928       add_97[0][0]                     \n",
      "__________________________________________________________________________________________________\n",
      "batch_normalization_289 (BatchN (None, 55, 55, 64)   256         conv2d_307[0][0]                 \n",
      "__________________________________________________________________________________________________\n",
      "activation_218 (Activation)     (None, 55, 55, 64)   0           batch_normalization_289[0][0]    \n",
      "__________________________________________________________________________________________________\n",
      "conv2d_308 (Conv2D)             (None, 55, 55, 64)   36928       activation_218[0][0]             \n",
      "__________________________________________________________________________________________________\n",
      "batch_normalization_290 (BatchN (None, 55, 55, 64)   256         conv2d_308[0][0]                 \n",
      "__________________________________________________________________________________________________\n",
      "activation_219 (Activation)     (None, 55, 55, 64)   0           batch_normalization_290[0][0]    \n",
      "__________________________________________________________________________________________________\n",
      "add_98 (Add)                    (None, 55, 55, 64)   0           activation_219[0][0]             \n",
      "                                                                 add_97[0][0]                     \n",
      "__________________________________________________________________________________________________\n",
      "conv2d_309 (Conv2D)             (None, 55, 55, 128)  73856       add_98[0][0]                     \n",
      "__________________________________________________________________________________________________\n",
      "batch_normalization_291 (BatchN (None, 55, 55, 128)  512         conv2d_309[0][0]                 \n",
      "__________________________________________________________________________________________________\n",
      "activation_220 (Activation)     (None, 55, 55, 128)  0           batch_normalization_291[0][0]    \n",
      "__________________________________________________________________________________________________\n",
      "conv2d_310 (Conv2D)             (None, 55, 55, 128)  147584      activation_220[0][0]             \n",
      "__________________________________________________________________________________________________\n",
      "conv2d_311 (Conv2D)             (None, 55, 55, 128)  73856       add_98[0][0]                     \n",
      "__________________________________________________________________________________________________\n",
      "batch_normalization_292 (BatchN (None, 55, 55, 128)  512         conv2d_310[0][0]                 \n",
      "__________________________________________________________________________________________________\n",
      "batch_normalization_293 (BatchN (None, 55, 55, 128)  512         conv2d_311[0][0]                 \n",
      "__________________________________________________________________________________________________\n",
      "activation_221 (Activation)     (None, 55, 55, 128)  0           batch_normalization_292[0][0]    \n",
      "__________________________________________________________________________________________________\n",
      "activation_222 (Activation)     (None, 55, 55, 128)  0           batch_normalization_293[0][0]    \n",
      "__________________________________________________________________________________________________\n",
      "add_99 (Add)                    (None, 55, 55, 128)  0           activation_221[0][0]             \n",
      "                                                                 activation_222[0][0]             \n",
      "__________________________________________________________________________________________________\n",
      "conv2d_312 (Conv2D)             (None, 55, 55, 128)  147584      add_99[0][0]                     \n",
      "__________________________________________________________________________________________________\n",
      "batch_normalization_294 (BatchN (None, 55, 55, 128)  512         conv2d_312[0][0]                 \n",
      "__________________________________________________________________________________________________\n",
      "activation_223 (Activation)     (None, 55, 55, 128)  0           batch_normalization_294[0][0]    \n",
      "__________________________________________________________________________________________________\n",
      "conv2d_313 (Conv2D)             (None, 55, 55, 128)  147584      activation_223[0][0]             \n",
      "__________________________________________________________________________________________________\n",
      "batch_normalization_295 (BatchN (None, 55, 55, 128)  512         conv2d_313[0][0]                 \n",
      "__________________________________________________________________________________________________\n",
      "activation_224 (Activation)     (None, 55, 55, 128)  0           batch_normalization_295[0][0]    \n",
      "__________________________________________________________________________________________________\n",
      "add_100 (Add)                   (None, 55, 55, 128)  0           activation_224[0][0]             \n",
      "                                                                 add_99[0][0]                     \n",
      "__________________________________________________________________________________________________\n",
      "conv2d_314 (Conv2D)             (None, 55, 55, 256)  295168      add_100[0][0]                    \n",
      "__________________________________________________________________________________________________\n",
      "batch_normalization_296 (BatchN (None, 55, 55, 256)  1024        conv2d_314[0][0]                 \n",
      "__________________________________________________________________________________________________\n",
      "activation_225 (Activation)     (None, 55, 55, 256)  0           batch_normalization_296[0][0]    \n",
      "__________________________________________________________________________________________________\n",
      "conv2d_315 (Conv2D)             (None, 55, 55, 256)  590080      activation_225[0][0]             \n",
      "__________________________________________________________________________________________________\n",
      "conv2d_316 (Conv2D)             (None, 55, 55, 256)  295168      add_100[0][0]                    \n",
      "__________________________________________________________________________________________________\n",
      "batch_normalization_297 (BatchN (None, 55, 55, 256)  1024        conv2d_315[0][0]                 \n",
      "__________________________________________________________________________________________________\n",
      "batch_normalization_298 (BatchN (None, 55, 55, 256)  1024        conv2d_316[0][0]                 \n",
      "__________________________________________________________________________________________________\n",
      "activation_226 (Activation)     (None, 55, 55, 256)  0           batch_normalization_297[0][0]    \n",
      "__________________________________________________________________________________________________\n",
      "activation_227 (Activation)     (None, 55, 55, 256)  0           batch_normalization_298[0][0]    \n",
      "__________________________________________________________________________________________________\n",
      "add_101 (Add)                   (None, 55, 55, 256)  0           activation_226[0][0]             \n",
      "                                                                 activation_227[0][0]             \n",
      "__________________________________________________________________________________________________\n",
      "conv2d_317 (Conv2D)             (None, 55, 55, 256)  590080      add_101[0][0]                    \n",
      "__________________________________________________________________________________________________\n",
      "batch_normalization_299 (BatchN (None, 55, 55, 256)  1024        conv2d_317[0][0]                 \n",
      "__________________________________________________________________________________________________\n",
      "activation_228 (Activation)     (None, 55, 55, 256)  0           batch_normalization_299[0][0]    \n",
      "__________________________________________________________________________________________________\n",
      "conv2d_318 (Conv2D)             (None, 55, 55, 256)  590080      activation_228[0][0]             \n",
      "__________________________________________________________________________________________________\n",
      "batch_normalization_300 (BatchN (None, 55, 55, 256)  1024        conv2d_318[0][0]                 \n",
      "__________________________________________________________________________________________________\n",
      "activation_229 (Activation)     (None, 55, 55, 256)  0           batch_normalization_300[0][0]    \n",
      "__________________________________________________________________________________________________\n",
      "add_102 (Add)                   (None, 55, 55, 256)  0           activation_229[0][0]             \n",
      "                                                                 add_101[0][0]                    \n",
      "__________________________________________________________________________________________________\n",
      "conv2d_319 (Conv2D)             (None, 55, 55, 512)  1180160     add_102[0][0]                    \n",
      "__________________________________________________________________________________________________\n",
      "batch_normalization_301 (BatchN (None, 55, 55, 512)  2048        conv2d_319[0][0]                 \n",
      "__________________________________________________________________________________________________\n",
      "activation_230 (Activation)     (None, 55, 55, 512)  0           batch_normalization_301[0][0]    \n",
      "__________________________________________________________________________________________________\n",
      "conv2d_320 (Conv2D)             (None, 55, 55, 512)  2359808     activation_230[0][0]             \n",
      "__________________________________________________________________________________________________\n",
      "conv2d_321 (Conv2D)             (None, 55, 55, 512)  1180160     add_102[0][0]                    \n",
      "__________________________________________________________________________________________________\n",
      "batch_normalization_302 (BatchN (None, 55, 55, 512)  2048        conv2d_320[0][0]                 \n",
      "__________________________________________________________________________________________________\n",
      "batch_normalization_303 (BatchN (None, 55, 55, 512)  2048        conv2d_321[0][0]                 \n",
      "__________________________________________________________________________________________________\n",
      "activation_231 (Activation)     (None, 55, 55, 512)  0           batch_normalization_302[0][0]    \n",
      "__________________________________________________________________________________________________\n",
      "activation_232 (Activation)     (None, 55, 55, 512)  0           batch_normalization_303[0][0]    \n",
      "__________________________________________________________________________________________________\n",
      "add_103 (Add)                   (None, 55, 55, 512)  0           activation_231[0][0]             \n",
      "                                                                 activation_232[0][0]             \n",
      "__________________________________________________________________________________________________\n",
      "conv2d_322 (Conv2D)             (None, 55, 55, 512)  2359808     add_103[0][0]                    \n",
      "__________________________________________________________________________________________________\n",
      "batch_normalization_304 (BatchN (None, 55, 55, 512)  2048        conv2d_322[0][0]                 \n",
      "__________________________________________________________________________________________________\n",
      "activation_233 (Activation)     (None, 55, 55, 512)  0           batch_normalization_304[0][0]    \n",
      "__________________________________________________________________________________________________\n",
      "conv2d_323 (Conv2D)             (None, 55, 55, 512)  2359808     activation_233[0][0]             \n",
      "__________________________________________________________________________________________________\n",
      "batch_normalization_305 (BatchN (None, 55, 55, 512)  2048        conv2d_323[0][0]                 \n",
      "__________________________________________________________________________________________________\n",
      "activation_234 (Activation)     (None, 55, 55, 512)  0           batch_normalization_305[0][0]    \n",
      "__________________________________________________________________________________________________\n",
      "add_104 (Add)                   (None, 55, 55, 512)  0           activation_234[0][0]             \n",
      "                                                                 add_103[0][0]                    \n",
      "__________________________________________________________________________________________________\n",
      "global_average_pooling2d_5 (Glo (None, 512)          0           add_104[0][0]                    \n",
      "__________________________________________________________________________________________________\n",
      "dense_8 (Dense)                 (None, 3)            1539        global_average_pooling2d_5[0][0] \n",
      "==================================================================================================\n",
      "Total params: 12,605,891\n",
      "Trainable params: 12,596,163\n",
      "Non-trainable params: 9,728\n",
      "__________________________________________________________________________________________________\n"
     ]
    }
   ],
   "source": [
    "model.summary()"
   ]
  },
  {
   "cell_type": "code",
   "execution_count": null,
   "id": "136a3341",
   "metadata": {},
   "outputs": [],
   "source": [
    "mode"
   ]
  }
 ],
 "metadata": {
  "kernelspec": {
   "display_name": "Python 3",
   "language": "python",
   "name": "python3"
  },
  "language_info": {
   "codemirror_mode": {
    "name": "ipython",
    "version": 3
   },
   "file_extension": ".py",
   "mimetype": "text/x-python",
   "name": "python",
   "nbconvert_exporter": "python",
   "pygments_lexer": "ipython3",
   "version": "3.8.11"
  },
  "toc": {
   "base_numbering": 1,
   "nav_menu": {},
   "number_sections": true,
   "sideBar": true,
   "skip_h1_title": false,
   "title_cell": "Table of Contents",
   "title_sidebar": "Contents",
   "toc_cell": false,
   "toc_position": {},
   "toc_section_display": true,
   "toc_window_display": false
  }
 },
 "nbformat": 4,
 "nbformat_minor": 5
}

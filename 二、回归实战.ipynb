{
 "cells": [
  {
   "cell_type": "markdown",
   "metadata": {},
   "source": [
    "# 理论知识回顾\n",
    "## 回归问题概述\n",
    "&emsp; <font color=green size=4>1.1 缘由</font>  \n",
    "&emsp; <font color=green size=4>1.2 线性回归</font>  \n",
    "&emsp; <font color=green size=4>1.3 线性回归正则化</font>  \n",
    "&emsp; <font color=green size=4>1.4 决策树回归</font>  \n",
    "\n",
    "\n",
    "\n",
    "# 案例实战-汽油消耗量预测\n",
    "## 一 探索性数据分析\n",
    "## 二 单因素线性回归模型\n",
    "&emsp; <font color=green size=4>2.1 数据读取</font>  \n",
    "&emsp; <font color=green size=4>2.2 数据拆分</font>  \n",
    "&emsp; <font color=green size=4>2.3 模型训练</font>  \n",
    "&emsp; <font color=green size=4>2.4 预测结果可视化</font>  \n",
    "&emsp; <font color=green size=4>2.5 MSE</font>  \n",
    "\n",
    "## 三 多元线性回归模型\n",
    "&emsp; <font color=green size=4>3.1 数据拆分</font>  \n",
    "&emsp; <font color=green size=4>3.2 模型构建</font>  \n",
    "&emsp; <font color=green size=4>3.3 模型评测</font>  \n",
    "\n",
    "## 四 决策树回归模型\n",
    "&emsp; <font color=green size=4>4.1 特征工程</font>  \n",
    "&emsp; <font color=green size=4>4.2 模型构建</font>  \n",
    "&emsp; <font color=green size=4>4.3 模型评价</font>  \n",
    "&emsp; <font color=green size=4>4.4 缺失值填充</font>  \n"
   ]
  },
  {
   "cell_type": "markdown",
   "metadata": {},
   "source": [
    "## 1.1 缘由\n",
    "1855年， 高尔顿发表《遗传的身高向平均数方向的回归》一文，他和他的学生卡尔•皮尔逊Karl·Pearson通过观察1078对夫妇的身高数据，以每对夫妇的平均身高作为自变量，取他们的一个成年儿子的身高作为因变量，分析儿子身高与父母身高之间的关系，发现父母的身高可以预测子女的身高，两者近乎一条直线。当父母越高或越矮时，子女的身高会比一般儿童高或矮，他将儿子与父母身高的这种现象拟合出一种线形关系，分析出儿子的身高y与父亲的身高x大致可归结为以下关系：\n",
    "$$y=33.73+0.516*x$$  (单位为英寸)    \n",
    "根据换算公式1英寸=0.0254米， 1米=39.37英寸。单位换算成米后：Y= 0.8567+0.516*X  (单位为米)  \n",
    "假如父母辈的平均身高为1.75米，则预测子女的身高为1.7597米。   \n",
    "这种趋势及回归方程表明父母身高每增加一个单位时，其成年儿子的身高平均增加0.516个单位。这就是回归一词最初在遗传学上的含义。\n",
    "\n",
    "回归模型中，我们需要关注或预测的变量叫做因变量，我们选取的用来解释因变量变化的变量叫做自变量。"
   ]
  },
  {
   "cell_type": "markdown",
   "metadata": {},
   "source": [
    "## 1.2 线性回归\n",
    "\n",
    "主要包括一元线性回归、多元线性回归。参数估计：最小二乘估计。\n",
    "\n",
    "### 1.2.1 一元线性回归  \n",
    "\n",
    "基本假设$y=w_0+w_1x+\\epsilon$，其中$w_0$,$w_1$为回归系数，$\\epsilon$为随机误差项(noise)，假设$\\epsilon$服从$N(0, \\sigma^2)$，则随机变量$y$满足$N(w_0+w_1x, \\sigma^2)$\n",
    "\n",
    "### 1.2.2 多元线性回归\n",
    "$y=w^Tx+\\epsilon$\n",
    "    \n",
    "其中$x=(x_1,x_2,…,x_d)^T$为自变量，$w=(w_1,w_2,…,w_d)^T$为回归系数\n",
    "### 1.2.3 问题\n",
    "\n",
    "实际数据可能不是线性的；多重共线性；过拟合等。\n",
    "\n",
    "### 1.2.4 解决方案\n",
    "\n",
    "正则化、主成分回归、偏最小二乘回归。"
   ]
  },
  {
   "cell_type": "markdown",
   "metadata": {},
   "source": [
    "## 1.3 线性回归正则化\n",
    "\n",
    "正则化可以减小线性回归的过度拟合和多重共线性等问题。\n",
    "\n",
    "#### 1.3.1 LASSO\n",
    "\n",
    "是一种系数压缩估计方法，它的基本思想是通过追求稀疏性自动选择重要的变量，对应参数惩罚函数为L1范数。\n",
    "\n",
    "#### 1.3.2 岭回归（Ridge Regression）\n",
    "\n",
    "最小二乘法的目标函数上加上一个对$w$的惩罚函数，对应参数惩罚函数为L2范数。"
   ]
  },
  {
   "cell_type": "markdown",
   "metadata": {},
   "source": [
    "## 1.4 决策树回归\n",
    "<img src=\"./img/决策树回归.png\" width = \"500\" height = \"320\" alt=\"图片名称\" align=left />"
   ]
  },
  {
   "cell_type": "markdown",
   "metadata": {},
   "source": [
    " "
   ]
  },
  {
   "cell_type": "markdown",
   "metadata": {},
   "source": [
    "# 汽油消耗量预测"
   ]
  },
  {
   "cell_type": "markdown",
   "metadata": {},
   "source": [
    "## 一、探索性数据分析 "
   ]
  },
  {
   "cell_type": "markdown",
   "metadata": {},
   "source": [
    "### 1.1 导入数据 "
   ]
  },
  {
   "cell_type": "code",
   "execution_count": 18,
   "metadata": {},
   "outputs": [
    {
     "data": {
      "text/plain": [
       "(398, 9)"
      ]
     },
     "execution_count": 18,
     "metadata": {},
     "output_type": "execute_result"
    }
   ],
   "source": [
    "import pandas as pd\n",
    "import matplotlib.pyplot as plt\n",
    "\n",
    "import warnings\n",
    "warnings.filterwarnings(\"ignore\")\n",
    "\n",
    "cars = pd.read_csv('./data/auto-mpg.data',\n",
    "        names=[\"燃油效率\",\"气缸\",\"排量\",\"马力\",\"重量\",\"加速度\",\"型号年份\",\"编号\",\"原产地\"], delim_whitespace = True)\n",
    "cars.shape"
   ]
  },
  {
   "cell_type": "code",
   "execution_count": 2,
   "metadata": {},
   "outputs": [
    {
     "data": {
      "text/html": [
       "<div>\n",
       "<style scoped>\n",
       "    .dataframe tbody tr th:only-of-type {\n",
       "        vertical-align: middle;\n",
       "    }\n",
       "\n",
       "    .dataframe tbody tr th {\n",
       "        vertical-align: top;\n",
       "    }\n",
       "\n",
       "    .dataframe thead th {\n",
       "        text-align: right;\n",
       "    }\n",
       "</style>\n",
       "<table border=\"1\" class=\"dataframe\">\n",
       "  <thead>\n",
       "    <tr style=\"text-align: right;\">\n",
       "      <th></th>\n",
       "      <th>燃油效率</th>\n",
       "      <th>气缸</th>\n",
       "      <th>排量</th>\n",
       "      <th>马力</th>\n",
       "      <th>重量</th>\n",
       "      <th>加速度</th>\n",
       "      <th>型号年份</th>\n",
       "      <th>编号</th>\n",
       "      <th>原产地</th>\n",
       "    </tr>\n",
       "  </thead>\n",
       "  <tbody>\n",
       "    <tr>\n",
       "      <th>0</th>\n",
       "      <td>18.0</td>\n",
       "      <td>8</td>\n",
       "      <td>307.0</td>\n",
       "      <td>130.0</td>\n",
       "      <td>3504.0</td>\n",
       "      <td>12.0</td>\n",
       "      <td>70</td>\n",
       "      <td>1</td>\n",
       "      <td>chevrolet chevelle malibu</td>\n",
       "    </tr>\n",
       "    <tr>\n",
       "      <th>1</th>\n",
       "      <td>15.0</td>\n",
       "      <td>8</td>\n",
       "      <td>350.0</td>\n",
       "      <td>165.0</td>\n",
       "      <td>3693.0</td>\n",
       "      <td>11.5</td>\n",
       "      <td>70</td>\n",
       "      <td>1</td>\n",
       "      <td>buick skylark 320</td>\n",
       "    </tr>\n",
       "    <tr>\n",
       "      <th>2</th>\n",
       "      <td>18.0</td>\n",
       "      <td>8</td>\n",
       "      <td>318.0</td>\n",
       "      <td>150.0</td>\n",
       "      <td>3436.0</td>\n",
       "      <td>11.0</td>\n",
       "      <td>70</td>\n",
       "      <td>1</td>\n",
       "      <td>plymouth satellite</td>\n",
       "    </tr>\n",
       "    <tr>\n",
       "      <th>3</th>\n",
       "      <td>16.0</td>\n",
       "      <td>8</td>\n",
       "      <td>304.0</td>\n",
       "      <td>150.0</td>\n",
       "      <td>3433.0</td>\n",
       "      <td>12.0</td>\n",
       "      <td>70</td>\n",
       "      <td>1</td>\n",
       "      <td>amc rebel sst</td>\n",
       "    </tr>\n",
       "    <tr>\n",
       "      <th>4</th>\n",
       "      <td>17.0</td>\n",
       "      <td>8</td>\n",
       "      <td>302.0</td>\n",
       "      <td>140.0</td>\n",
       "      <td>3449.0</td>\n",
       "      <td>10.5</td>\n",
       "      <td>70</td>\n",
       "      <td>1</td>\n",
       "      <td>ford torino</td>\n",
       "    </tr>\n",
       "  </tbody>\n",
       "</table>\n",
       "</div>"
      ],
      "text/plain": [
       "   燃油效率  气缸     排量     马力      重量   加速度  型号年份  编号                        原产地\n",
       "0  18.0   8  307.0  130.0  3504.0  12.0    70   1  chevrolet chevelle malibu\n",
       "1  15.0   8  350.0  165.0  3693.0  11.5    70   1          buick skylark 320\n",
       "2  18.0   8  318.0  150.0  3436.0  11.0    70   1         plymouth satellite\n",
       "3  16.0   8  304.0  150.0  3433.0  12.0    70   1              amc rebel sst\n",
       "4  17.0   8  302.0  140.0  3449.0  10.5    70   1                ford torino"
      ]
     },
     "execution_count": 2,
     "metadata": {},
     "output_type": "execute_result"
    }
   ],
   "source": [
    "cars.head()"
   ]
  },
  {
   "cell_type": "markdown",
   "metadata": {},
   "source": [
    "### 1.2 添加SimHei\n",
    "\n",
    "操作步骤：\n",
    "    1. 获取字体库目录\n",
    "        import matplotlib\n",
    "        print (matplotlib.matplotlib_fname())\n",
    "    2. 下载字体文件SimHei.ttf，并放入matplotlib/mpl-data/fonts/ttf/下\n",
    "    3. 重新编译\n",
    "        from matplotlib.font_manager import _rebuild\n",
    "        _rebuild()"
   ]
  },
  {
   "cell_type": "code",
   "execution_count": 3,
   "metadata": {},
   "outputs": [
    {
     "name": "stdout",
     "output_type": "stream",
     "text": [
      "/Users/yueyang/opt/anaconda3/envs/pytorch/lib/python3.7/site-packages/matplotlib/mpl-data/matplotlibrc\n"
     ]
    }
   ],
   "source": [
    "import matplotlib\n",
    "print (matplotlib.matplotlib_fname())"
   ]
  },
  {
   "cell_type": "code",
   "execution_count": 9,
   "metadata": {},
   "outputs": [],
   "source": [
    "from matplotlib.font_manager import _rebuild\n",
    "_rebuild()"
   ]
  },
  {
   "cell_type": "markdown",
   "metadata": {},
   "source": [
    "### 1.3 探究数据关系"
   ]
  },
  {
   "cell_type": "code",
   "execution_count": 12,
   "metadata": {
    "scrolled": true
   },
   "outputs": [
    {
     "data": {
      "text/html": [
       "<div>\n",
       "<style scoped>\n",
       "    .dataframe tbody tr th:only-of-type {\n",
       "        vertical-align: middle;\n",
       "    }\n",
       "\n",
       "    .dataframe tbody tr th {\n",
       "        vertical-align: top;\n",
       "    }\n",
       "\n",
       "    .dataframe thead th {\n",
       "        text-align: right;\n",
       "    }\n",
       "</style>\n",
       "<table border=\"1\" class=\"dataframe\">\n",
       "  <thead>\n",
       "    <tr style=\"text-align: right;\">\n",
       "      <th></th>\n",
       "      <th>燃油效率</th>\n",
       "      <th>气缸</th>\n",
       "      <th>排量</th>\n",
       "      <th>马力</th>\n",
       "      <th>重量</th>\n",
       "      <th>加速度</th>\n",
       "      <th>型号年份</th>\n",
       "      <th>编号</th>\n",
       "      <th>原产地</th>\n",
       "    </tr>\n",
       "  </thead>\n",
       "  <tbody>\n",
       "  </tbody>\n",
       "</table>\n",
       "</div>"
      ],
      "text/plain": [
       "Empty DataFrame\n",
       "Columns: [燃油效率, 气缸, 排量, 马力, 重量, 加速度, 型号年份, 编号, 原产地]\n",
       "Index: []"
      ]
     },
     "execution_count": 12,
     "metadata": {},
     "output_type": "execute_result"
    }
   ],
   "source": [
    "error = cars[cars.马力 == '?']\n",
    "error"
   ]
  },
  {
   "cell_type": "code",
   "execution_count": 13,
   "metadata": {
    "scrolled": true
   },
   "outputs": [
    {
     "data": {
      "text/plain": [
       "count       392\n",
       "unique       93\n",
       "top       150.0\n",
       "freq         22\n",
       "Name: 马力, dtype: object"
      ]
     },
     "execution_count": 13,
     "metadata": {},
     "output_type": "execute_result"
    }
   ],
   "source": [
    "cars['马力'].describe()"
   ]
  },
  {
   "cell_type": "code",
   "execution_count": 14,
   "metadata": {},
   "outputs": [],
   "source": [
    "#cars['马力'].value_counts()"
   ]
  },
  {
   "cell_type": "code",
   "execution_count": 15,
   "metadata": {
    "scrolled": true
   },
   "outputs": [],
   "source": [
    "import numpy as np\n",
    "import matplotlib.ticker as ticker\n",
    "\n",
    "#删除horsepower值为'?'的行\n",
    "cars = cars[cars.马力 != '?']"
   ]
  },
  {
   "cell_type": "code",
   "execution_count": 17,
   "metadata": {},
   "outputs": [
    {
     "data": {
      "text/plain": [
       "Text(0.5, 1.0, '型号年份')"
      ]
     },
     "execution_count": 17,
     "metadata": {},
     "output_type": "execute_result"
    },
    {
     "data": {
      "image/png": "[encoded data removed]",
      "text/plain": [
       "<Figure size 1152x1008 with 6 Axes>"
      ]
     },
     "metadata": {
      "needs_background": "light"
     },
     "output_type": "display_data"
    }
   ],
   "source": [
    "\n",
    "#设置中文显示\n",
    "from pylab import mpl\n",
    "mpl.rcParams['font.sans-serif'] = ['SimHei']\n",
    "\n",
    "#用散点图分别展示气缸、排量、重量、加速度与燃油效率的关系\n",
    "fig = plt.figure(figsize = (16,14))\n",
    "ax1 = fig.add_subplot(321)\n",
    "ax2 = fig.add_subplot(322)\n",
    "ax3 = fig.add_subplot(323)\n",
    "ax4 = fig.add_subplot(324)\n",
    "ax5 = fig.add_subplot(325)\n",
    "ax6 = fig.add_subplot(326)\n",
    "ax1.scatter(cars['气缸'], cars['燃油效率'], alpha=0.5)\n",
    "ax1.set_title('气缸')\n",
    "ax2.scatter(cars['排量'], cars['燃油效率'], alpha=0.5)\n",
    "ax2.set_title('排量')\n",
    "ax3.scatter(cars['重量'], cars['燃油效率'], alpha=0.5)\n",
    "ax3.set_title('重量')\n",
    "ax4.scatter(cars['加速度'], cars['燃油效率'], alpha=0.5)\n",
    "ax4.set_title('加速度')\n",
    "ax5.scatter([ float(x) for x in cars['马力'].tolist()], cars['燃油效率'], alpha=0.5)\n",
    "ax5.set_title('马力')\n",
    "ax6.scatter(cars['型号年份'], cars['燃油效率'], alpha=0.5)\n",
    "ax6.set_title('型号年份')"
   ]
  },
  {
   "cell_type": "markdown",
   "metadata": {},
   "source": [
    "## 二、单因素线性回归模型\n",
    "\n",
    "### 2.1 提取数据 \n",
    "从上面已经可以看出汽车与燃油有着线性关系，下面我们将用这部门数据进行训练"
   ]
  },
  {
   "cell_type": "code",
   "execution_count": 10,
   "metadata": {},
   "outputs": [],
   "source": [
    "Y = cars[['燃油效率']]\n",
    "X = cars[['重量']]"
   ]
  },
  {
   "cell_type": "markdown",
   "metadata": {},
   "source": [
    "### 2.2 数据拆分 "
   ]
  },
  {
   "cell_type": "code",
   "execution_count": 11,
   "metadata": {},
   "outputs": [],
   "source": [
    "from sklearn.model_selection import train_test_split\n",
    "\n",
    "X_train, X_test, Y_train, Y_test = train_test_split(X, Y, test_size=0.2, random_state=0)"
   ]
  },
  {
   "cell_type": "markdown",
   "metadata": {},
   "source": [
    "### 2.3 模型构建 "
   ]
  },
  {
   "cell_type": "code",
   "execution_count": 12,
   "metadata": {},
   "outputs": [],
   "source": [
    "from sklearn.linear_model import LinearRegression\n",
    "from sklearn.metrics import mean_squared_error\n",
    "\n",
    "LR = LinearRegression()\n",
    "LR = LR.fit(X_train, Y_train)"
   ]
  },
  {
   "cell_type": "markdown",
   "metadata": {},
   "source": [
    "### 2.4 可视化预测结果"
   ]
  },
  {
   "cell_type": "code",
   "execution_count": 13,
   "metadata": {},
   "outputs": [
    {
     "data": {
      "image/png": "[encoded data removed]",
      "text/plain": [
       "<Figure size 432x288 with 1 Axes>"
      ]
     },
     "metadata": {
      "needs_background": "light"
     },
     "output_type": "display_data"
    }
   ],
   "source": [
    "plt.scatter(X_test, Y_test, color='blue', alpha=0.3)\n",
    "plt.scatter(X_test, LR.predict(X_test), color='green', alpha=0.3)\n",
    "plt.xlabel(\"重量\")\n",
    "plt.ylabel(\"燃油效率\")\n",
    "plt.title(\"test data\")\n",
    "plt.show()"
   ]
  },
  {
   "cell_type": "markdown",
   "metadata": {},
   "source": [
    "### 2.5 计算评测指标MSE"
   ]
  },
  {
   "cell_type": "code",
   "execution_count": 14,
   "metadata": {
    "scrolled": true
   },
   "outputs": [
    {
     "data": {
      "text/plain": [
       "19.98495628492109"
      ]
     },
     "execution_count": 14,
     "metadata": {},
     "output_type": "execute_result"
    }
   ],
   "source": [
    "mean_squared_error(Y_test, LR.predict(X_test))"
   ]
  },
  {
   "cell_type": "markdown",
   "metadata": {},
   "source": [
    "## 三、多元线性回归"
   ]
  },
  {
   "cell_type": "code",
   "execution_count": 15,
   "metadata": {},
   "outputs": [],
   "source": [
    "Y = cars[['燃油效率']]\n",
    "X = cars[['重量','马力','排量']]"
   ]
  },
  {
   "cell_type": "code",
   "execution_count": 16,
   "metadata": {},
   "outputs": [],
   "source": [
    "from sklearn.model_selection import train_test_split\n",
    "\n",
    "X_train, X_test, Y_train, Y_test = train_test_split(X, Y, test_size=0.2, random_state=0)"
   ]
  },
  {
   "cell_type": "markdown",
   "metadata": {},
   "source": [
    "### 3.1 训练模型 "
   ]
  },
  {
   "cell_type": "code",
   "execution_count": 17,
   "metadata": {},
   "outputs": [
    {
     "data": {
      "text/html": [
       "<div>\n",
       "<style scoped>\n",
       "    .dataframe tbody tr th:only-of-type {\n",
       "        vertical-align: middle;\n",
       "    }\n",
       "\n",
       "    .dataframe tbody tr th {\n",
       "        vertical-align: top;\n",
       "    }\n",
       "\n",
       "    .dataframe thead th {\n",
       "        text-align: right;\n",
       "    }\n",
       "</style>\n",
       "<table border=\"1\" class=\"dataframe\">\n",
       "  <thead>\n",
       "    <tr style=\"text-align: right;\">\n",
       "      <th></th>\n",
       "      <th>燃油效率</th>\n",
       "      <th>燃料效率预测值</th>\n",
       "    </tr>\n",
       "  </thead>\n",
       "  <tbody>\n",
       "    <tr>\n",
       "      <th>146</th>\n",
       "      <td>28.0</td>\n",
       "      <td>29.895333</td>\n",
       "    </tr>\n",
       "    <tr>\n",
       "      <th>282</th>\n",
       "      <td>22.3</td>\n",
       "      <td>24.793741</td>\n",
       "    </tr>\n",
       "    <tr>\n",
       "      <th>69</th>\n",
       "      <td>12.0</td>\n",
       "      <td>12.121006</td>\n",
       "    </tr>\n",
       "    <tr>\n",
       "      <th>378</th>\n",
       "      <td>38.0</td>\n",
       "      <td>30.331334</td>\n",
       "    </tr>\n",
       "    <tr>\n",
       "      <th>331</th>\n",
       "      <td>33.8</td>\n",
       "      <td>30.081681</td>\n",
       "    </tr>\n",
       "  </tbody>\n",
       "</table>\n",
       "</div>"
      ],
      "text/plain": [
       "     燃油效率    燃料效率预测值\n",
       "146  28.0  29.895333\n",
       "282  22.3  24.793741\n",
       "69   12.0  12.121006\n",
       "378  38.0  30.331334\n",
       "331  33.8  30.081681"
      ]
     },
     "execution_count": 17,
     "metadata": {},
     "output_type": "execute_result"
    }
   ],
   "source": [
    "#初始化模型\n",
    "mul_LR_model = LinearRegression()\n",
    "#拟合模型\n",
    "mul_LR_model.fit(X_train, Y_train)\n",
    "#预测\n",
    "Y_test['燃料效率预测值'] = mul_LR_model.predict(X_test)\n",
    "#显示\n",
    "Y_test.head()"
   ]
  },
  {
   "cell_type": "markdown",
   "metadata": {},
   "source": [
    "### 3.2 模型评测 "
   ]
  },
  {
   "cell_type": "code",
   "execution_count": 20,
   "metadata": {
    "scrolled": true
   },
   "outputs": [
    {
     "data": {
      "text/plain": [
       "18.698520956062342"
      ]
     },
     "execution_count": 20,
     "metadata": {},
     "output_type": "execute_result"
    }
   ],
   "source": [
    "mean_squared_error(Y_test['燃油效率'], mul_LR_model.predict(X_test))"
   ]
  },
  {
   "cell_type": "markdown",
   "metadata": {},
   "source": [
    "### 3.可视化预测结果 "
   ]
  },
  {
   "cell_type": "code",
   "execution_count": 21,
   "metadata": {},
   "outputs": [
    {
     "data": {
      "text/html": [
       "<div>\n",
       "<style scoped>\n",
       "    .dataframe tbody tr th:only-of-type {\n",
       "        vertical-align: middle;\n",
       "    }\n",
       "\n",
       "    .dataframe tbody tr th {\n",
       "        vertical-align: top;\n",
       "    }\n",
       "\n",
       "    .dataframe thead th {\n",
       "        text-align: right;\n",
       "    }\n",
       "</style>\n",
       "<table border=\"1\" class=\"dataframe\">\n",
       "  <thead>\n",
       "    <tr style=\"text-align: right;\">\n",
       "      <th></th>\n",
       "      <th>重量</th>\n",
       "      <th>马力</th>\n",
       "      <th>排量</th>\n",
       "      <th>燃油效率</th>\n",
       "      <th>燃料效率预测值</th>\n",
       "    </tr>\n",
       "  </thead>\n",
       "  <tbody>\n",
       "    <tr>\n",
       "      <th>146</th>\n",
       "      <td>2125.0</td>\n",
       "      <td>75.00</td>\n",
       "      <td>90.0</td>\n",
       "      <td>28.0</td>\n",
       "      <td>29.895333</td>\n",
       "    </tr>\n",
       "    <tr>\n",
       "      <th>282</th>\n",
       "      <td>2890.0</td>\n",
       "      <td>88.00</td>\n",
       "      <td>140.0</td>\n",
       "      <td>22.3</td>\n",
       "      <td>24.793741</td>\n",
       "    </tr>\n",
       "    <tr>\n",
       "      <th>69</th>\n",
       "      <td>4456.0</td>\n",
       "      <td>160.0</td>\n",
       "      <td>350.0</td>\n",
       "      <td>12.0</td>\n",
       "      <td>12.121006</td>\n",
       "    </tr>\n",
       "    <tr>\n",
       "      <th>378</th>\n",
       "      <td>2125.0</td>\n",
       "      <td>63.00</td>\n",
       "      <td>105.0</td>\n",
       "      <td>38.0</td>\n",
       "      <td>30.331334</td>\n",
       "    </tr>\n",
       "    <tr>\n",
       "      <th>331</th>\n",
       "      <td>2145.0</td>\n",
       "      <td>67.00</td>\n",
       "      <td>97.0</td>\n",
       "      <td>33.8</td>\n",
       "      <td>30.081681</td>\n",
       "    </tr>\n",
       "  </tbody>\n",
       "</table>\n",
       "</div>"
      ],
      "text/plain": [
       "         重量     马力     排量  燃油效率    燃料效率预测值\n",
       "146  2125.0  75.00   90.0  28.0  29.895333\n",
       "282  2890.0  88.00  140.0  22.3  24.793741\n",
       "69   4456.0  160.0  350.0  12.0  12.121006\n",
       "378  2125.0  63.00  105.0  38.0  30.331334\n",
       "331  2145.0  67.00   97.0  33.8  30.081681"
      ]
     },
     "execution_count": 21,
     "metadata": {},
     "output_type": "execute_result"
    }
   ],
   "source": [
    "test = pd.concat([X_test,Y_test], axis=1)\n",
    "test.head()"
   ]
  },
  {
   "cell_type": "code",
   "execution_count": 22,
   "metadata": {},
   "outputs": [
    {
     "data": {
      "image/png": "[encoded data removed]",
      "text/plain": [
       "<Figure size 1152x576 with 3 Axes>"
      ]
     },
     "metadata": {
      "needs_background": "light"
     },
     "output_type": "display_data"
    }
   ],
   "source": [
    "\n",
    "fig = plt.figure(figsize = (16,8))\n",
    "ax1 = fig.add_subplot(2,2,1)\n",
    "ax2 = fig.add_subplot(2,2,2)\n",
    "ax3 = fig.add_subplot(2,2,3)\n",
    "ax1.scatter(test['重量'], test['燃油效率'], c='blue', alpha=0.3)\n",
    "ax1.scatter(test['重量'], test['燃料效率预测值'], c='red', alpha=0.3)\n",
    "ax1.set_title('重量')\n",
    "ax2.scatter([ float(x) for x in test['马力'].tolist()], test['燃油效率'], c='blue', alpha=0.3)\n",
    "ax2.scatter([ float(x) for x in test['马力'].tolist()], test['燃料效率预测值'], c='red', alpha=0.3)\n",
    "ax2.set_title('马力')\n",
    "ax3.scatter(test['排量'], test['燃油效率'], c='blue', alpha=0.3)\n",
    "ax3.scatter(test['排量'], test['燃料效率预测值'], c='red', alpha=0.3)\n",
    "ax3.set_title('排量')\n",
    "plt.show()\n",
    "\n",
    "## 红色为燃油销量预测结果"
   ]
  },
  {
   "cell_type": "markdown",
   "metadata": {},
   "source": [
    "## 四、决策树回归"
   ]
  },
  {
   "cell_type": "code",
   "execution_count": 23,
   "metadata": {},
   "outputs": [],
   "source": [
    "import pandas as pd\n",
    "import matplotlib.pyplot as plt"
   ]
  },
  {
   "cell_type": "code",
   "execution_count": 24,
   "metadata": {},
   "outputs": [
    {
     "data": {
      "text/plain": [
       "(398, 9)"
      ]
     },
     "execution_count": 24,
     "metadata": {},
     "output_type": "execute_result"
    }
   ],
   "source": [
    "cars = pd.read_csv('./data/auto-mpg.data',\n",
    "        names=[\"燃油效率\",\"气缸\",\"排量\",\"马力\",\"重量\",\"加速度\",\"型号年份\",\"编号\",\"原产地\"], delim_whitespace = True)\n",
    "cars.shape"
   ]
  },
  {
   "cell_type": "code",
   "execution_count": 25,
   "metadata": {},
   "outputs": [],
   "source": [
    "error = cars[cars.马力 == '?']\n",
    "\n",
    "#删除horsepower值为'?'的行\n",
    "cars = cars[cars.马力 != '?']"
   ]
  },
  {
   "cell_type": "code",
   "execution_count": 26,
   "metadata": {},
   "outputs": [
    {
     "data": {
      "text/plain": [
       "燃油效率    float64\n",
       "气缸        int64\n",
       "排量      float64\n",
       "马力       object\n",
       "重量      float64\n",
       "加速度     float64\n",
       "型号年份      int64\n",
       "编号        int64\n",
       "原产地      object\n",
       "dtype: object"
      ]
     },
     "execution_count": 26,
     "metadata": {},
     "output_type": "execute_result"
    }
   ],
   "source": [
    "cars.dtypes # 检查数据类型"
   ]
  },
  {
   "cell_type": "code",
   "execution_count": 27,
   "metadata": {},
   "outputs": [
    {
     "data": {
      "text/plain": [
       "燃油效率    float64\n",
       "气缸        int64\n",
       "排量      float64\n",
       "马力      float64\n",
       "重量      float64\n",
       "加速度     float64\n",
       "型号年份      int64\n",
       "编号        int64\n",
       "原产地      object\n",
       "dtype: object"
      ]
     },
     "execution_count": 27,
     "metadata": {},
     "output_type": "execute_result"
    }
   ],
   "source": [
    "cars['马力'] = cars['马力'].astype(float)\n",
    "cars.dtypes # 检查数据类型"
   ]
  },
  {
   "cell_type": "markdown",
   "metadata": {},
   "source": [
    "### 4.1 特征工程"
   ]
  },
  {
   "cell_type": "code",
   "execution_count": 28,
   "metadata": {},
   "outputs": [],
   "source": [
    "\n",
    "X = cars.drop('燃油效率', axis=1)\n",
    "y_new = cars[['燃油效率']]\n",
    "X_new = pd.get_dummies(X) # 将所有的分类型特征转换为数字, 虚拟变量: dummy variables\n"
   ]
  },
  {
   "cell_type": "code",
   "execution_count": 29,
   "metadata": {},
   "outputs": [],
   "source": [
    "from sklearn.model_selection import train_test_split\n",
    "X_train, X_test, y_train, y_test = train_test_split(X_new, y_new, \n",
    "                                                   test_size=.2, \n",
    "                                                   random_state=10)"
   ]
  },
  {
   "cell_type": "markdown",
   "metadata": {},
   "source": [
    "### 4.2 模型构建"
   ]
  },
  {
   "cell_type": "code",
   "execution_count": 30,
   "metadata": {},
   "outputs": [
    {
     "data": {
      "text/html": [
       "<div>\n",
       "<style scoped>\n",
       "    .dataframe tbody tr th:only-of-type {\n",
       "        vertical-align: middle;\n",
       "    }\n",
       "\n",
       "    .dataframe tbody tr th {\n",
       "        vertical-align: top;\n",
       "    }\n",
       "\n",
       "    .dataframe thead th {\n",
       "        text-align: right;\n",
       "    }\n",
       "</style>\n",
       "<table border=\"1\" class=\"dataframe\">\n",
       "  <thead>\n",
       "    <tr style=\"text-align: right;\">\n",
       "      <th></th>\n",
       "      <th>燃油效率</th>\n",
       "      <th>燃油效率预测值</th>\n",
       "    </tr>\n",
       "  </thead>\n",
       "  <tbody>\n",
       "    <tr>\n",
       "      <th>243</th>\n",
       "      <td>21.5</td>\n",
       "      <td>26.5</td>\n",
       "    </tr>\n",
       "    <tr>\n",
       "      <th>371</th>\n",
       "      <td>29.0</td>\n",
       "      <td>33.5</td>\n",
       "    </tr>\n",
       "    <tr>\n",
       "      <th>300</th>\n",
       "      <td>23.9</td>\n",
       "      <td>15.0</td>\n",
       "    </tr>\n",
       "    <tr>\n",
       "      <th>345</th>\n",
       "      <td>35.1</td>\n",
       "      <td>39.1</td>\n",
       "    </tr>\n",
       "    <tr>\n",
       "      <th>265</th>\n",
       "      <td>17.5</td>\n",
       "      <td>15.5</td>\n",
       "    </tr>\n",
       "  </tbody>\n",
       "</table>\n",
       "</div>"
      ],
      "text/plain": [
       "     燃油效率  燃油效率预测值\n",
       "243  21.5     26.5\n",
       "371  29.0     33.5\n",
       "300  23.9     15.0\n",
       "345  35.1     39.1\n",
       "265  17.5     15.5"
      ]
     },
     "execution_count": 30,
     "metadata": {},
     "output_type": "execute_result"
    }
   ],
   "source": [
    "\n",
    "from sklearn.tree import DecisionTreeRegressor\n",
    "\n",
    "clf = DecisionTreeRegressor(random_state=0)\n",
    "clf = clf.fit(X_train, y_train)\n",
    "y_test['燃油效率预测值'] = clf.predict(X_test)\n",
    "y_test.head()\n"
   ]
  },
  {
   "cell_type": "markdown",
   "metadata": {},
   "source": [
    "### 4.3 模型评价"
   ]
  },
  {
   "cell_type": "code",
   "execution_count": 31,
   "metadata": {},
   "outputs": [
    {
     "data": {
      "text/plain": [
       "13.222025316455696"
      ]
     },
     "execution_count": 31,
     "metadata": {},
     "output_type": "execute_result"
    }
   ],
   "source": [
    "from sklearn.metrics import mean_squared_error\n",
    "\n",
    "mean_squared_error(y_test['燃油效率预测值'], y_test['燃油效率'])"
   ]
  },
  {
   "cell_type": "code",
   "execution_count": 40,
   "metadata": {},
   "outputs": [
    {
     "name": "stdout",
     "output_type": "stream",
     "text": [
      "mse: 12.623037974683543  rmse: 3.5528914949212203  mae: 2.463291139240506  r2: 燃油效率       0.794260\n",
      "燃油效率预测值    0.800993\n",
      "dtype: float64\n"
     ]
    }
   ],
   "source": [
    "\n",
    "# 衡量线性回归的MSE 、 RMSE、 MAE\n",
    "mse = np.sum((y_test['燃油效率'] - y_test['燃油效率预测值'] ) ** 2) / len(y_test)\n",
    "rmse = math.sqrt(mse)\n",
    "mae = np.sum(np.absolute(y_test['燃油效率'] - y_test['燃油效率预测值'])) / len(y_test)\n",
    "r2 = 1-mse/ np.var(y_test)\n",
    "print(\"mse:\",mse,\" rmse:\",rmse,\" mae:\",mae,\" r2:\",r2)"
   ]
  },
  {
   "cell_type": "code",
   "execution_count": 37,
   "metadata": {},
   "outputs": [],
   "source": [
    "import math"
   ]
  },
  {
   "cell_type": "markdown",
   "metadata": {},
   "source": [
    "### 4.4 缺失值填充"
   ]
  },
  {
   "cell_type": "markdown",
   "metadata": {},
   "source": [
    "#### 4.4.1 均值填充 | -1填充"
   ]
  },
  {
   "cell_type": "code",
   "execution_count": 32,
   "metadata": {},
   "outputs": [],
   "source": [
    "error['马力'] = np.mean(cars['马力'])\n",
    "\n",
    "errorDf = pd.get_dummies(error) # 将所有的分类型特征转换为数字, 虚拟变量: dummy variables\n",
    "errorDf\n",
    "\n",
    "for col in X_train.columns:\n",
    "    if col not in errorDf.columns:\n",
    "        errorDf[col] = 0"
   ]
  },
  {
   "cell_type": "markdown",
   "metadata": {},
   "source": [
    "#### 4.4.2 构建模型"
   ]
  },
  {
   "cell_type": "code",
   "execution_count": 33,
   "metadata": {},
   "outputs": [
    {
     "data": {
      "text/html": [
       "<div>\n",
       "<style scoped>\n",
       "    .dataframe tbody tr th:only-of-type {\n",
       "        vertical-align: middle;\n",
       "    }\n",
       "\n",
       "    .dataframe tbody tr th {\n",
       "        vertical-align: top;\n",
       "    }\n",
       "\n",
       "    .dataframe thead th {\n",
       "        text-align: right;\n",
       "    }\n",
       "</style>\n",
       "<table border=\"1\" class=\"dataframe\">\n",
       "  <thead>\n",
       "    <tr style=\"text-align: right;\">\n",
       "      <th></th>\n",
       "      <th>燃油效率</th>\n",
       "      <th>燃油效率预测值</th>\n",
       "    </tr>\n",
       "  </thead>\n",
       "  <tbody>\n",
       "    <tr>\n",
       "      <th>243</th>\n",
       "      <td>21.5</td>\n",
       "      <td>25.5</td>\n",
       "    </tr>\n",
       "    <tr>\n",
       "      <th>371</th>\n",
       "      <td>29.0</td>\n",
       "      <td>27.2</td>\n",
       "    </tr>\n",
       "    <tr>\n",
       "      <th>300</th>\n",
       "      <td>23.9</td>\n",
       "      <td>19.9</td>\n",
       "    </tr>\n",
       "    <tr>\n",
       "      <th>345</th>\n",
       "      <td>35.1</td>\n",
       "      <td>39.1</td>\n",
       "    </tr>\n",
       "    <tr>\n",
       "      <th>265</th>\n",
       "      <td>17.5</td>\n",
       "      <td>15.5</td>\n",
       "    </tr>\n",
       "  </tbody>\n",
       "</table>\n",
       "</div>"
      ],
      "text/plain": [
       "     燃油效率  燃油效率预测值\n",
       "243  21.5     25.5\n",
       "371  29.0     27.2\n",
       "300  23.9     19.9\n",
       "345  35.1     39.1\n",
       "265  17.5     15.5"
      ]
     },
     "execution_count": 33,
     "metadata": {},
     "output_type": "execute_result"
    }
   ],
   "source": [
    "\n",
    "from sklearn.tree import DecisionTreeRegressor\n",
    "\n",
    "X = pd.concat([X_train, errorDf[X_train.columns]])\n",
    "Y = pd.concat([y_train, errorDf[y_train.columns]])\n",
    "\n",
    "clf = DecisionTreeRegressor( random_state=0 )\n",
    "clf = clf.fit(X, Y)\n",
    "y_test['燃油效率预测值'] = clf.predict(X_test)\n",
    "y_test.head()\n"
   ]
  },
  {
   "cell_type": "code",
   "execution_count": 34,
   "metadata": {},
   "outputs": [
    {
     "data": {
      "text/plain": [
       "12.623037974683543"
      ]
     },
     "execution_count": 34,
     "metadata": {},
     "output_type": "execute_result"
    }
   ],
   "source": [
    "mean_squared_error(y_test['燃油效率预测值'], y_test['燃油效率'])"
   ]
  },
  {
   "cell_type": "markdown",
   "metadata": {},
   "source": [
    "#### 4.4.3 其他填充"
   ]
  },
  {
   "cell_type": "code",
   "execution_count": 35,
   "metadata": {},
   "outputs": [
    {
     "data": {
      "text/plain": [
       "Text(0.5, 1.0, '马力')"
      ]
     },
     "execution_count": 35,
     "metadata": {},
     "output_type": "execute_result"
    },
    {
     "data": {
      "image/png": "[encoded data removed]",
      "text/plain": [
       "<Figure size 936x720 with 1 Axes>"
      ]
     },
     "metadata": {
      "needs_background": "light"
     },
     "output_type": "display_data"
    }
   ],
   "source": [
    "\n",
    "#设置中文显示\n",
    "from pylab import mpl\n",
    "mpl.rcParams['font.sans-serif'] = ['SimHei']\n",
    "\n",
    "#用散点图分别展示气缸、排量、重量、加速度与燃油效率的关系\n",
    "fig = plt.figure(figsize = (13,10))\n",
    "ax = fig.add_subplot(111)\n",
    "ax.scatter([ float(x) for x in cars['马力'].tolist()], cars['燃油效率'], alpha=0.5)\n",
    "ax.set_title('马力')\n"
   ]
  },
  {
   "cell_type": "code",
   "execution_count": null,
   "metadata": {},
   "outputs": [],
   "source": []
  }
 ],
 "metadata": {
  "kernelspec": {
   "display_name": "Python 3",
   "language": "python",
   "name": "python3"
  },
  "language_info": {
   "codemirror_mode": {
    "name": "ipython",
    "version": 3
   },
   "file_extension": ".py",
   "mimetype": "text/x-python",
   "name": "python",
   "nbconvert_exporter": "python",
   "pygments_lexer": "ipython3",
   "version": "3.7.5"
  },
  "toc": {
   "base_numbering": 1,
   "nav_menu": {},
   "number_sections": true,
   "sideBar": true,
   "skip_h1_title": false,
   "title_cell": "Table of Contents",
   "title_sidebar": "Contents",
   "toc_cell": false,
   "toc_position": {},
   "toc_section_display": true,
   "toc_window_display": false
  }
 },
 "nbformat": 4,
 "nbformat_minor": 2
}

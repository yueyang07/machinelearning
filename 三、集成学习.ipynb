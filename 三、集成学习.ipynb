{
 "cells": [
  {
   "cell_type": "markdown",
   "metadata": {},
   "source": [
    "# 一、集成学习\n",
    "\n",
    "## 1. 原理\n",
    "<img src=\"./img/集成学习思想.png\" width = \"400\" height = \"300\" alt=\"图片名称\" align=left />\n"
   ]
  },
  {
   "cell_type": "markdown",
   "metadata": {},
   "source": [
    "## 2. 常用的集成方法\n",
    "    装袋法（Bagging）、提升法（ Boosting ）和堆叠法（Stacking）。"
   ]
  },
  {
   "cell_type": "markdown",
   "metadata": {},
   "source": [
    "\n",
    "## 3. 相关集成模型介绍\n",
    "\n",
    "### 3.1 Bagging\n",
    "并行的建立一些学习器，尽可能使其相互独立。从方差-偏差的角度看，可以有效减小方差。\n",
    "#### 3.1.1 原理\n",
    "    核心方法：自助抽样(Bootstrap)和聚合(Aggregating)\n",
    "    分类问题：采用多数投票法进行预测；回归问题：采用平均法进行预测\n",
    "    袋外样本：每个基模型在训练时理论上只使用63.2%的训练样本，没使用的样本称为袋外样本。\n",
    "#### 3.1.2 RandomForest\n",
    "    由多个CART组成。\n",
    "    “随机”是核心。两个“随机”：\n",
    "        对样本进行有放回抽样（boostrap）\n",
    "        对特征进行随机抽样\n",
    "    “森林”指建立多棵决策树进行组合。\n",
    "    \n",
    "### 3.2 Boosting\n",
    "#### 3.2.1 原理\n",
    "\n",
    "串行的建立一些学习器，通过一定策略提升弱学习器效果，组合得到强学习器，可以有效减小偏差\n",
    "\n",
    "#### 3.2.2 GBDT\n",
    "梯度提升树，Gradient Boosting Decision Tree  \n",
    "以回归树为基学习器的boosting方法 \n",
    "多个弱学习器合成强学习器的过程(加权求和)，每次迭代产生一个弱学习器，当前弱学习器是在之前分类器残差基础上训练。\n",
    "#### 3.2.3 Xgboost\n",
    "##### XGB与GBDT区别\n",
    "XGBoost在代价函数中加入正则化项，控制模型复杂度，降低模型方差，模型更加简单，防止过拟合【目标函数的定义不同】；\n",
    "\n",
    "GBDT用到一阶导数信息，XGBoost对代价函数进行了二阶泰勒展开，同时用到一阶与二阶导数，支持自定义代价函数(二阶可导)；\n",
    "\n",
    "其他特性：\n",
    "\n",
    "a.行采样；\n",
    "\n",
    "b.列采样；\n",
    "\n",
    "c.Shrinkage：每次迭代中对树的每个叶子结点的分数乘上一个缩减权重$\\eta$，降低了每棵独立树的影响，便于留更大的空间给后面生成的树去优化模型，类似于学习速率；\n",
    "\n",
    "d.支持自定义损失函数(需二阶可导)。\n",
    "\n",
    "    \n",
    "#### 3.2.4 LightGBM\n",
    "##### LightGBM与XGB区别\n",
    "\n",
    "1. 切分算法（切分点的选取）\n",
    "2. 占用的内存更低，只保存特征离散化后的值，而这个值一般用8位整型存储就足够了，内存消耗可以降低为原来的1/8\n",
    "3. LightGBM直接支持类别特征\n",
    "4. 决策树生长策略不同【XGBoost采用带深度限制的level-wise生长策略，LightGBM采用leaf-wise生长策略】\n",
    "\n",
    "### 3.3 Stacking\n",
    "\n",
    "建立多个不同基模型，将每个模型的预测结果当做输入，建立一个高层的综合模型，可以有效改进预测。\n",
    "额外的知识：交叉验证(Cross-validation)\n",
    "<img src=\"./img/stacking.png\" width = \"600\" height = \"320\" alt=\"图片名称\" align=left />\n"
   ]
  },
  {
   "cell_type": "markdown",
   "metadata": {},
   "source": [
    "### 3.4 RF与GBDT区别\n",
    "    1、组成RF的树可以是分类树，也可以是回归树；而GBDT只由回归树组成，因为GBDT对所有树的结果累加，累加无法通过分类完成\n",
    "    2、组成RF的树并行生成；GBDT串行生成 ，GBDT更容易过拟合\n",
    "    3、输出结果，RF采用多数投票等；GBDT将所有结果累加，或加权累加\n",
    "    4、RF对异常值不敏感，GBDT对异常值敏感\n",
    "    5、RF对训练集一视同仁，每棵树分裂特征随机；GBDT基于权值的弱分类器的集成 ，前面的树优先分裂对大部分样本区分的特征，后分裂对小部分样本区分的特征\n",
    "    6、RF通过减少模型方差提高性能，GBDT通过减少模型偏差提高性能\n",
    "    7、RF参数主要是树的棵树，GBDT主要是树的深度，一般为1"
   ]
  },
  {
   "cell_type": "markdown",
   "metadata": {},
   "source": [
    "## 二、 分类实战\n",
    "### 学生成绩等级预测"
   ]
  },
  {
   "cell_type": "code",
   "execution_count": 1,
   "metadata": {},
   "outputs": [],
   "source": [
    "import warnings\n",
    "warnings.filterwarnings(\"ignore\")"
   ]
  },
  {
   "cell_type": "code",
   "execution_count": 2,
   "metadata": {},
   "outputs": [],
   "source": [
    "import numpy as np\n",
    "import matplotlib.pyplot as plt\n",
    "import pandas as pd\n",
    "from sklearn.feature_selection import SelectKBest\n",
    "from sklearn.model_selection import train_test_split"
   ]
  },
  {
   "cell_type": "code",
   "execution_count": 3,
   "metadata": {},
   "outputs": [
    {
     "data": {
      "text/html": [
       "<div>\n",
       "<style scoped>\n",
       "    .dataframe tbody tr th:only-of-type {\n",
       "        vertical-align: middle;\n",
       "    }\n",
       "\n",
       "    .dataframe tbody tr th {\n",
       "        vertical-align: top;\n",
       "    }\n",
       "\n",
       "    .dataframe thead th {\n",
       "        text-align: right;\n",
       "    }\n",
       "</style>\n",
       "<table border=\"1\" class=\"dataframe\">\n",
       "  <thead>\n",
       "    <tr style=\"text-align: right;\">\n",
       "      <th></th>\n",
       "      <th>gender</th>\n",
       "      <th>NationalITy</th>\n",
       "      <th>PlaceofBirth</th>\n",
       "      <th>StageID</th>\n",
       "      <th>GradeID</th>\n",
       "      <th>SectionID</th>\n",
       "      <th>Topic</th>\n",
       "      <th>Semester</th>\n",
       "      <th>Relation</th>\n",
       "      <th>raisedhands</th>\n",
       "      <th>VisITedResources</th>\n",
       "      <th>AnnouncementsView</th>\n",
       "      <th>Discussion</th>\n",
       "      <th>ParentAnsweringSurvey</th>\n",
       "      <th>ParentschoolSatisfaction</th>\n",
       "      <th>StudentAbsenceDays</th>\n",
       "      <th>Class</th>\n",
       "    </tr>\n",
       "  </thead>\n",
       "  <tbody>\n",
       "    <tr>\n",
       "      <th>0</th>\n",
       "      <td>M</td>\n",
       "      <td>KW</td>\n",
       "      <td>KuwaIT</td>\n",
       "      <td>lowerlevel</td>\n",
       "      <td>G-04</td>\n",
       "      <td>A</td>\n",
       "      <td>IT</td>\n",
       "      <td>F</td>\n",
       "      <td>Father</td>\n",
       "      <td>15</td>\n",
       "      <td>16</td>\n",
       "      <td>2</td>\n",
       "      <td>20</td>\n",
       "      <td>Yes</td>\n",
       "      <td>Good</td>\n",
       "      <td>Under-7</td>\n",
       "      <td>M</td>\n",
       "    </tr>\n",
       "    <tr>\n",
       "      <th>1</th>\n",
       "      <td>M</td>\n",
       "      <td>KW</td>\n",
       "      <td>KuwaIT</td>\n",
       "      <td>lowerlevel</td>\n",
       "      <td>G-04</td>\n",
       "      <td>A</td>\n",
       "      <td>IT</td>\n",
       "      <td>F</td>\n",
       "      <td>Father</td>\n",
       "      <td>20</td>\n",
       "      <td>20</td>\n",
       "      <td>3</td>\n",
       "      <td>25</td>\n",
       "      <td>Yes</td>\n",
       "      <td>Good</td>\n",
       "      <td>Under-7</td>\n",
       "      <td>M</td>\n",
       "    </tr>\n",
       "    <tr>\n",
       "      <th>2</th>\n",
       "      <td>M</td>\n",
       "      <td>KW</td>\n",
       "      <td>KuwaIT</td>\n",
       "      <td>lowerlevel</td>\n",
       "      <td>G-04</td>\n",
       "      <td>A</td>\n",
       "      <td>IT</td>\n",
       "      <td>F</td>\n",
       "      <td>Father</td>\n",
       "      <td>10</td>\n",
       "      <td>7</td>\n",
       "      <td>0</td>\n",
       "      <td>30</td>\n",
       "      <td>No</td>\n",
       "      <td>Bad</td>\n",
       "      <td>Above-7</td>\n",
       "      <td>L</td>\n",
       "    </tr>\n",
       "    <tr>\n",
       "      <th>3</th>\n",
       "      <td>M</td>\n",
       "      <td>KW</td>\n",
       "      <td>KuwaIT</td>\n",
       "      <td>lowerlevel</td>\n",
       "      <td>G-04</td>\n",
       "      <td>A</td>\n",
       "      <td>IT</td>\n",
       "      <td>F</td>\n",
       "      <td>Father</td>\n",
       "      <td>30</td>\n",
       "      <td>25</td>\n",
       "      <td>5</td>\n",
       "      <td>35</td>\n",
       "      <td>No</td>\n",
       "      <td>Bad</td>\n",
       "      <td>Above-7</td>\n",
       "      <td>L</td>\n",
       "    </tr>\n",
       "    <tr>\n",
       "      <th>4</th>\n",
       "      <td>M</td>\n",
       "      <td>KW</td>\n",
       "      <td>KuwaIT</td>\n",
       "      <td>lowerlevel</td>\n",
       "      <td>G-04</td>\n",
       "      <td>A</td>\n",
       "      <td>IT</td>\n",
       "      <td>F</td>\n",
       "      <td>Father</td>\n",
       "      <td>40</td>\n",
       "      <td>50</td>\n",
       "      <td>12</td>\n",
       "      <td>50</td>\n",
       "      <td>No</td>\n",
       "      <td>Bad</td>\n",
       "      <td>Above-7</td>\n",
       "      <td>M</td>\n",
       "    </tr>\n",
       "    <tr>\n",
       "      <th>5</th>\n",
       "      <td>F</td>\n",
       "      <td>KW</td>\n",
       "      <td>KuwaIT</td>\n",
       "      <td>lowerlevel</td>\n",
       "      <td>G-04</td>\n",
       "      <td>A</td>\n",
       "      <td>IT</td>\n",
       "      <td>F</td>\n",
       "      <td>Father</td>\n",
       "      <td>42</td>\n",
       "      <td>30</td>\n",
       "      <td>13</td>\n",
       "      <td>70</td>\n",
       "      <td>Yes</td>\n",
       "      <td>Bad</td>\n",
       "      <td>Above-7</td>\n",
       "      <td>M</td>\n",
       "    </tr>\n",
       "    <tr>\n",
       "      <th>6</th>\n",
       "      <td>M</td>\n",
       "      <td>KW</td>\n",
       "      <td>KuwaIT</td>\n",
       "      <td>MiddleSchool</td>\n",
       "      <td>G-07</td>\n",
       "      <td>A</td>\n",
       "      <td>Math</td>\n",
       "      <td>F</td>\n",
       "      <td>Father</td>\n",
       "      <td>35</td>\n",
       "      <td>12</td>\n",
       "      <td>0</td>\n",
       "      <td>17</td>\n",
       "      <td>No</td>\n",
       "      <td>Bad</td>\n",
       "      <td>Above-7</td>\n",
       "      <td>L</td>\n",
       "    </tr>\n",
       "    <tr>\n",
       "      <th>7</th>\n",
       "      <td>M</td>\n",
       "      <td>KW</td>\n",
       "      <td>KuwaIT</td>\n",
       "      <td>MiddleSchool</td>\n",
       "      <td>G-07</td>\n",
       "      <td>A</td>\n",
       "      <td>Math</td>\n",
       "      <td>F</td>\n",
       "      <td>Father</td>\n",
       "      <td>50</td>\n",
       "      <td>10</td>\n",
       "      <td>15</td>\n",
       "      <td>22</td>\n",
       "      <td>Yes</td>\n",
       "      <td>Good</td>\n",
       "      <td>Under-7</td>\n",
       "      <td>M</td>\n",
       "    </tr>\n",
       "    <tr>\n",
       "      <th>8</th>\n",
       "      <td>F</td>\n",
       "      <td>KW</td>\n",
       "      <td>KuwaIT</td>\n",
       "      <td>MiddleSchool</td>\n",
       "      <td>G-07</td>\n",
       "      <td>A</td>\n",
       "      <td>Math</td>\n",
       "      <td>F</td>\n",
       "      <td>Father</td>\n",
       "      <td>12</td>\n",
       "      <td>21</td>\n",
       "      <td>16</td>\n",
       "      <td>50</td>\n",
       "      <td>Yes</td>\n",
       "      <td>Good</td>\n",
       "      <td>Under-7</td>\n",
       "      <td>M</td>\n",
       "    </tr>\n",
       "    <tr>\n",
       "      <th>9</th>\n",
       "      <td>F</td>\n",
       "      <td>KW</td>\n",
       "      <td>KuwaIT</td>\n",
       "      <td>MiddleSchool</td>\n",
       "      <td>G-07</td>\n",
       "      <td>B</td>\n",
       "      <td>IT</td>\n",
       "      <td>F</td>\n",
       "      <td>Father</td>\n",
       "      <td>70</td>\n",
       "      <td>80</td>\n",
       "      <td>25</td>\n",
       "      <td>70</td>\n",
       "      <td>Yes</td>\n",
       "      <td>Good</td>\n",
       "      <td>Under-7</td>\n",
       "      <td>M</td>\n",
       "    </tr>\n",
       "  </tbody>\n",
       "</table>\n",
       "</div>"
      ],
      "text/plain": [
       "  gender NationalITy PlaceofBirth       StageID GradeID SectionID Topic  \\\n",
       "0      M          KW       KuwaIT    lowerlevel    G-04         A    IT   \n",
       "1      M          KW       KuwaIT    lowerlevel    G-04         A    IT   \n",
       "2      M          KW       KuwaIT    lowerlevel    G-04         A    IT   \n",
       "3      M          KW       KuwaIT    lowerlevel    G-04         A    IT   \n",
       "4      M          KW       KuwaIT    lowerlevel    G-04         A    IT   \n",
       "5      F          KW       KuwaIT    lowerlevel    G-04         A    IT   \n",
       "6      M          KW       KuwaIT  MiddleSchool    G-07         A  Math   \n",
       "7      M          KW       KuwaIT  MiddleSchool    G-07         A  Math   \n",
       "8      F          KW       KuwaIT  MiddleSchool    G-07         A  Math   \n",
       "9      F          KW       KuwaIT  MiddleSchool    G-07         B    IT   \n",
       "\n",
       "  Semester Relation  raisedhands  VisITedResources  AnnouncementsView  \\\n",
       "0        F   Father           15                16                  2   \n",
       "1        F   Father           20                20                  3   \n",
       "2        F   Father           10                 7                  0   \n",
       "3        F   Father           30                25                  5   \n",
       "4        F   Father           40                50                 12   \n",
       "5        F   Father           42                30                 13   \n",
       "6        F   Father           35                12                  0   \n",
       "7        F   Father           50                10                 15   \n",
       "8        F   Father           12                21                 16   \n",
       "9        F   Father           70                80                 25   \n",
       "\n",
       "   Discussion ParentAnsweringSurvey ParentschoolSatisfaction  \\\n",
       "0          20                   Yes                     Good   \n",
       "1          25                   Yes                     Good   \n",
       "2          30                    No                      Bad   \n",
       "3          35                    No                      Bad   \n",
       "4          50                    No                      Bad   \n",
       "5          70                   Yes                      Bad   \n",
       "6          17                    No                      Bad   \n",
       "7          22                   Yes                     Good   \n",
       "8          50                   Yes                     Good   \n",
       "9          70                   Yes                     Good   \n",
       "\n",
       "  StudentAbsenceDays Class  \n",
       "0            Under-7     M  \n",
       "1            Under-7     M  \n",
       "2            Above-7     L  \n",
       "3            Above-7     L  \n",
       "4            Above-7     M  \n",
       "5            Above-7     M  \n",
       "6            Above-7     L  \n",
       "7            Under-7     M  \n",
       "8            Under-7     M  \n",
       "9            Under-7     M  "
      ]
     },
     "execution_count": 3,
     "metadata": {},
     "output_type": "execute_result"
    }
   ],
   "source": [
    "df = pd.read_csv('data/StudentPerformance.csv') # 读取 csv 数据\n",
    "df.head(10) # 查看前十行数据"
   ]
  },
  {
   "cell_type": "markdown",
   "metadata": {},
   "source": [
    "### 2.1 特征工程"
   ]
  },
  {
   "cell_type": "code",
   "execution_count": 4,
   "metadata": {},
   "outputs": [],
   "source": [
    "\n",
    "X = df.drop('Class', axis=1)\n",
    "y = df['Class']\n",
    "X = pd.get_dummies(X) # 将所有的分类型特征转换为数字, 虚拟变量: dummy variables\n",
    "# sel = SelectKBest(chi2,k=40)\n",
    "# X = sel.fit_transform(X, y)\n"
   ]
  },
  {
   "cell_type": "markdown",
   "metadata": {},
   "source": [
    "### 2.2 数据拆分"
   ]
  },
  {
   "cell_type": "code",
   "execution_count": 6,
   "metadata": {},
   "outputs": [],
   "source": [
    "X_train,X_test, y_train, y_test = train_test_split(\n",
    "                    X, y, test_size=.2, random_state=10, stratify=y)"
   ]
  },
  {
   "cell_type": "markdown",
   "metadata": {},
   "source": [
    "### 2.3 RandomForest"
   ]
  },
  {
   "cell_type": "code",
   "execution_count": 7,
   "metadata": {
    "scrolled": true
   },
   "outputs": [
    {
     "name": "stdout",
     "output_type": "stream",
     "text": [
      "Predict ['L' 'L' 'M' 'M' 'M' 'H' 'M' 'H' 'L' 'M' 'L' 'M' 'L' 'L' 'M' 'H' 'M' 'L'\n",
      " 'M' 'L' 'L' 'M' 'M' 'H' 'L' 'L' 'M' 'H' 'M' 'L' 'L' 'M' 'M' 'M' 'M' 'M'\n",
      " 'M' 'M' 'M' 'M' 'L' 'H' 'M' 'L' 'L' 'L' 'M' 'M' 'H' 'L' 'L' 'H' 'L' 'L'\n",
      " 'L' 'L' 'M' 'M' 'H' 'M' 'L' 'H' 'H' 'M' 'L' 'H' 'H' 'H' 'M' 'M' 'M' 'M'\n",
      " 'H' 'L' 'L' 'L' 'M' 'M' 'H' 'L' 'H' 'M' 'M' 'M' 'M' 'M' 'M' 'H' 'M' 'M'\n",
      " 'M' 'H' 'H' 'L' 'M' 'L']\n",
      "accuracy:  0.8125\n"
     ]
    }
   ],
   "source": [
    "\n",
    "# 训练并且测试模型\n",
    "from sklearn.ensemble import RandomForestClassifier\n",
    "from sklearn.metrics import accuracy_score\n",
    "\n",
    "Logit = RandomForestClassifier(\n",
    "    n_estimators=10, max_depth=None, min_samples_split=2, random_state=0)\n",
    "Logit.fit(X_train, y_train)\n",
    "\n",
    "Predict = Logit.predict(X_test)\n",
    "print('Predict', Predict)\n",
    "\n",
    "Score = accuracy_score(y_test, Predict)\n",
    "print('accuracy: ', Score)\n"
   ]
  },
  {
   "cell_type": "code",
   "execution_count": 9,
   "metadata": {},
   "outputs": [],
   "source": [
    "from sklearn.metrics import confusion_matrix, classification_report"
   ]
  },
  {
   "cell_type": "code",
   "execution_count": 11,
   "metadata": {},
   "outputs": [
    {
     "name": "stdout",
     "output_type": "stream",
     "text": [
      "决策树建模效果：\n",
      "\n",
      "              precision    recall  f1-score   support\n",
      "\n",
      "           H       0.90      0.64      0.75        28\n",
      "           L       0.81      0.96      0.88        26\n",
      "           M       0.78      0.83      0.80        42\n",
      "\n",
      "    accuracy                           0.81        96\n",
      "   macro avg       0.83      0.81      0.81        96\n",
      "weighted avg       0.82      0.81      0.81        96\n",
      "\n",
      "分类正确率：0.8125\n",
      "\n",
      "\n",
      "\n"
     ]
    },
    {
     "data": {
      "text/html": [
       "<div>\n",
       "<style scoped>\n",
       "    .dataframe tbody tr th:only-of-type {\n",
       "        vertical-align: middle;\n",
       "    }\n",
       "\n",
       "    .dataframe tbody tr th {\n",
       "        vertical-align: top;\n",
       "    }\n",
       "\n",
       "    .dataframe thead th {\n",
       "        text-align: right;\n",
       "    }\n",
       "</style>\n",
       "<table border=\"1\" class=\"dataframe\">\n",
       "  <thead>\n",
       "    <tr style=\"text-align: right;\">\n",
       "      <th></th>\n",
       "      <th>model</th>\n",
       "      <th>accuracy score</th>\n",
       "    </tr>\n",
       "  </thead>\n",
       "  <tbody>\n",
       "    <tr>\n",
       "      <th>0</th>\n",
       "      <td>决策树</td>\n",
       "      <td>0.8125</td>\n",
       "    </tr>\n",
       "  </tbody>\n",
       "</table>\n",
       "</div>"
      ],
      "text/plain": [
       "  model  accuracy score\n",
       "0   决策树          0.8125"
      ]
     },
     "execution_count": 11,
     "metadata": {},
     "output_type": "execute_result"
    }
   ],
   "source": [
    "## 建模并评估\n",
    "keys = []\n",
    "scores = []\n",
    "models = {'决策树': RandomForestClassifier(\n",
    "    n_estimators=10, max_depth=None, min_samples_split=2, random_state=0)}\n",
    "\n",
    "for k,v in models.items():\n",
    "    mod = v\n",
    "    mod.fit(X_train, y_train)\n",
    "    pred = mod.predict(X_test)\n",
    "    print(str(k) + '建模效果：' + '\\n')\n",
    "    print(classification_report(y_test, pred, target_names=['H', 'L', 'M']))\n",
    "    acc = accuracy_score(y_test, pred)\n",
    "    print('分类正确率：'+ str(acc)) \n",
    "    print('\\n' + '\\n')\n",
    "    keys.append(k)\n",
    "    scores.append(acc)\n",
    "    table = pd.DataFrame({'model':keys, 'accuracy score':scores})\n",
    "\n",
    "table"
   ]
  },
  {
   "cell_type": "markdown",
   "metadata": {},
   "source": [
    "## 三、回归实战"
   ]
  },
  {
   "cell_type": "code",
   "execution_count": 34,
   "metadata": {},
   "outputs": [],
   "source": [
    "def mape(y_true, y_pred):\n",
    "    return np.mean(np.abs((y_pred - y_true) / y_true)) * 100"
   ]
  },
  {
   "cell_type": "code",
   "execution_count": 12,
   "metadata": {},
   "outputs": [
    {
     "data": {
      "text/html": [
       "<div>\n",
       "<style scoped>\n",
       "    .dataframe tbody tr th:only-of-type {\n",
       "        vertical-align: middle;\n",
       "    }\n",
       "\n",
       "    .dataframe tbody tr th {\n",
       "        vertical-align: top;\n",
       "    }\n",
       "\n",
       "    .dataframe thead th {\n",
       "        text-align: right;\n",
       "    }\n",
       "</style>\n",
       "<table border=\"1\" class=\"dataframe\">\n",
       "  <thead>\n",
       "    <tr style=\"text-align: right;\">\n",
       "      <th></th>\n",
       "      <th>燃油效率</th>\n",
       "      <th>气缸</th>\n",
       "      <th>排量</th>\n",
       "      <th>马力</th>\n",
       "      <th>重量</th>\n",
       "      <th>加速度</th>\n",
       "      <th>型号年份</th>\n",
       "      <th>编号</th>\n",
       "      <th>原产地</th>\n",
       "    </tr>\n",
       "  </thead>\n",
       "  <tbody>\n",
       "    <tr>\n",
       "      <th>0</th>\n",
       "      <td>18.0</td>\n",
       "      <td>8</td>\n",
       "      <td>307.0</td>\n",
       "      <td>130.0</td>\n",
       "      <td>3504.0</td>\n",
       "      <td>12.0</td>\n",
       "      <td>70</td>\n",
       "      <td>1</td>\n",
       "      <td>chevrolet chevelle malibu</td>\n",
       "    </tr>\n",
       "    <tr>\n",
       "      <th>1</th>\n",
       "      <td>15.0</td>\n",
       "      <td>8</td>\n",
       "      <td>350.0</td>\n",
       "      <td>165.0</td>\n",
       "      <td>3693.0</td>\n",
       "      <td>11.5</td>\n",
       "      <td>70</td>\n",
       "      <td>1</td>\n",
       "      <td>buick skylark 320</td>\n",
       "    </tr>\n",
       "    <tr>\n",
       "      <th>2</th>\n",
       "      <td>18.0</td>\n",
       "      <td>8</td>\n",
       "      <td>318.0</td>\n",
       "      <td>150.0</td>\n",
       "      <td>3436.0</td>\n",
       "      <td>11.0</td>\n",
       "      <td>70</td>\n",
       "      <td>1</td>\n",
       "      <td>plymouth satellite</td>\n",
       "    </tr>\n",
       "    <tr>\n",
       "      <th>3</th>\n",
       "      <td>16.0</td>\n",
       "      <td>8</td>\n",
       "      <td>304.0</td>\n",
       "      <td>150.0</td>\n",
       "      <td>3433.0</td>\n",
       "      <td>12.0</td>\n",
       "      <td>70</td>\n",
       "      <td>1</td>\n",
       "      <td>amc rebel sst</td>\n",
       "    </tr>\n",
       "    <tr>\n",
       "      <th>4</th>\n",
       "      <td>17.0</td>\n",
       "      <td>8</td>\n",
       "      <td>302.0</td>\n",
       "      <td>140.0</td>\n",
       "      <td>3449.0</td>\n",
       "      <td>10.5</td>\n",
       "      <td>70</td>\n",
       "      <td>1</td>\n",
       "      <td>ford torino</td>\n",
       "    </tr>\n",
       "  </tbody>\n",
       "</table>\n",
       "</div>"
      ],
      "text/plain": [
       "   燃油效率  气缸     排量     马力      重量   加速度  型号年份  编号                        原产地\n",
       "0  18.0   8  307.0  130.0  3504.0  12.0    70   1  chevrolet chevelle malibu\n",
       "1  15.0   8  350.0  165.0  3693.0  11.5    70   1          buick skylark 320\n",
       "2  18.0   8  318.0  150.0  3436.0  11.0    70   1         plymouth satellite\n",
       "3  16.0   8  304.0  150.0  3433.0  12.0    70   1              amc rebel sst\n",
       "4  17.0   8  302.0  140.0  3449.0  10.5    70   1                ford torino"
      ]
     },
     "execution_count": 12,
     "metadata": {},
     "output_type": "execute_result"
    }
   ],
   "source": [
    "cars = pd.read_csv('./data/auto-mpg.data',names=[\"燃油效率\",\"气缸\",\"排量\",\"马力\",\"重量\",\"加速度\",\"型号年份\",\"编号\",\"原产地\"],delim_whitespace = True)\n",
    "cars.head()"
   ]
  },
  {
   "cell_type": "code",
   "execution_count": 27,
   "metadata": {},
   "outputs": [
    {
     "data": {
      "text/plain": [
       "燃油效率    float64\n",
       "气缸        int64\n",
       "排量      float64\n",
       "马力      float64\n",
       "重量      float64\n",
       "加速度     float64\n",
       "型号年份      int64\n",
       "编号        int64\n",
       "原产地      object\n",
       "dtype: object"
      ]
     },
     "execution_count": 27,
     "metadata": {},
     "output_type": "execute_result"
    }
   ],
   "source": [
    "\n",
    "error = cars[cars.马力 == '?']\n",
    "\n",
    "#删除horsepower值为'?'的行\n",
    "cars = cars[cars.马力 != '?']\n",
    "cars['马力'] = cars['马力'].astype(float)\n",
    "cars.dtypes # 检查数据类型\n"
   ]
  },
  {
   "cell_type": "code",
   "execution_count": 14,
   "metadata": {
    "scrolled": false
   },
   "outputs": [
    {
     "data": {
      "text/plain": [
       "燃油效率    0\n",
       "气缸      0\n",
       "排量      0\n",
       "马力      0\n",
       "重量      0\n",
       "加速度     0\n",
       "型号年份    0\n",
       "编号      0\n",
       "原产地     0\n",
       "dtype: int64"
      ]
     },
     "execution_count": 14,
     "metadata": {},
     "output_type": "execute_result"
    }
   ],
   "source": [
    "cars.isnull().sum()"
   ]
  },
  {
   "cell_type": "code",
   "execution_count": 43,
   "metadata": {},
   "outputs": [
    {
     "data": {
      "text/plain": [
       "4    199\n",
       "Name: 气缸, dtype: int64"
      ]
     },
     "execution_count": 43,
     "metadata": {},
     "output_type": "execute_result"
    }
   ],
   "source": [
    "cars[(cars['气缸']==4)]['气缸'].value_counts()"
   ]
  },
  {
   "cell_type": "code",
   "execution_count": 42,
   "metadata": {},
   "outputs": [
    {
     "data": {
      "text/plain": [
       "4    199\n",
       "8    103\n",
       "6     83\n",
       "3      4\n",
       "5      3\n",
       "Name: 气缸, dtype: int64"
      ]
     },
     "execution_count": 42,
     "metadata": {},
     "output_type": "execute_result"
    }
   ],
   "source": [
    "cars['气缸'].value_counts()"
   ]
  },
  {
   "cell_type": "markdown",
   "metadata": {},
   "source": [
    "### 3.1 特征工程"
   ]
  },
  {
   "cell_type": "code",
   "execution_count": 19,
   "metadata": {},
   "outputs": [],
   "source": [
    "\n",
    "X = cars.drop('燃油效率', axis=1)\n",
    "y_new = cars[['燃油效率']]\n",
    "X_new = pd.get_dummies(X) # 将所有的分类型特征转换为数字, 虚拟变量: dummy variables\n"
   ]
  },
  {
   "cell_type": "markdown",
   "metadata": {},
   "source": [
    "### 3.2 数据拆分"
   ]
  },
  {
   "cell_type": "code",
   "execution_count": 20,
   "metadata": {},
   "outputs": [],
   "source": [
    "from sklearn.model_selection import train_test_split\n",
    "X_train, X_test, y_train, y_test = train_test_split(X_new, y_new, \n",
    "                                                   test_size=.2, \n",
    "                                                   random_state=10)"
   ]
  },
  {
   "cell_type": "markdown",
   "metadata": {},
   "source": [
    "### 3.3 RandomForest"
   ]
  },
  {
   "cell_type": "code",
   "execution_count": 21,
   "metadata": {},
   "outputs": [
    {
     "data": {
      "text/plain": [
       "8.731207700000002"
      ]
     },
     "execution_count": 21,
     "metadata": {},
     "output_type": "execute_result"
    }
   ],
   "source": [
    "from sklearn.ensemble import RandomForestRegressor\n",
    "from sklearn.metrics import mean_squared_error\n",
    "\n",
    "clf = RandomForestRegressor(random_state=0)\n",
    "clf = clf.fit(X_train, y_train)\n",
    "\n",
    "y_test['燃油效率预测值-rf'] = clf.predict(X_test)\n",
    "\n",
    "mean_squared_error(y_test['燃油效率'], y_test['燃油效率预测值-rf'])\n"
   ]
  },
  {
   "cell_type": "code",
   "execution_count": 28,
   "metadata": {},
   "outputs": [
    {
     "data": {
      "text/plain": [
       "8.562495324999997"
      ]
     },
     "execution_count": 28,
     "metadata": {},
     "output_type": "execute_result"
    }
   ],
   "source": [
    "\n",
    "error['马力'] = -1 #np.mean(cars['马力'])\n",
    "\n",
    "errorDf = pd.get_dummies(error) # 将所有的分类型特征转换为数字, 虚拟变量: dummy variables\n",
    "errorDf\n",
    "\n",
    "for col in X_train.columns:\n",
    "    if col not in errorDf.columns:\n",
    "        errorDf[col] = 0\n",
    "        \n",
    "        \n",
    "## 加入缺失特征的数据\n",
    "X = pd.concat([X_train, errorDf[X_train.columns]])\n",
    "Y = pd.concat([y_train, errorDf[y_train.columns]])\n",
    "\n",
    "clf = RandomForestRegressor( random_state=0 )\n",
    "clf = clf.fit(X, Y)\n",
    "y_test['燃油效率预测值-rf-缺失值填充'] = clf.predict(X_test)\n",
    "\n",
    "mean_squared_error(y_test['燃油效率'], y_test['燃油效率预测值-rf-缺失值填充'])\n"
   ]
  },
  {
   "cell_type": "markdown",
   "metadata": {},
   "source": [
    "### 3.4 xgboost"
   ]
  },
  {
   "cell_type": "code",
   "execution_count": 53,
   "metadata": {},
   "outputs": [],
   "source": [
    "import xgboost as xgb"
   ]
  },
  {
   "cell_type": "markdown",
   "metadata": {},
   "source": [
    "#### 3.4.1 baseline"
   ]
  },
  {
   "cell_type": "code",
   "execution_count": 30,
   "metadata": {},
   "outputs": [
    {
     "name": "stdout",
     "output_type": "stream",
     "text": [
      "[20:43:56] WARNING: /Users/travis/build/dmlc/xgboost/src/objective/regression_obj.cu:171: reg:linear is now deprecated in favor of reg:squarederror.\n"
     ]
    },
    {
     "data": {
      "text/plain": [
       "7.9687302894300895"
      ]
     },
     "execution_count": 30,
     "metadata": {},
     "output_type": "execute_result"
    }
   ],
   "source": [
    "\n",
    "params = {\n",
    "    'objective': 'reg:linear',\n",
    "    'colsample_bytree': 0.72,\n",
    "    'max_depth': 8,\n",
    "    'seed': 202003\n",
    "}\n",
    "\n",
    "## build xgb\n",
    "xgtrain = xgb.DMatrix( X_train, y_train )\n",
    "gbdt = xgb.train( params, xgtrain, 50)\n",
    "\n",
    "importance = gbdt.get_score()\n",
    "importance = sorted( importance.items(), key=lambda x:x[1], reverse=True )\n",
    "importance = pd.DataFrame(importance, columns=['feature', 'score'])\n",
    "\n",
    "y_test['燃油效率预测值-xgb'] = gbdt.predict( xgb.DMatrix( X_test ) )\n",
    "mean_squared_error(y_test['燃油效率'], y_test['燃油效率预测值-xgb'])\n"
   ]
  },
  {
   "cell_type": "markdown",
   "metadata": {},
   "source": [
    "#### 3.4.2 填补缺失值\n",
    "先对确实数据的样子做缺失值填补，再构造xgboost模型"
   ]
  },
  {
   "cell_type": "code",
   "execution_count": 31,
   "metadata": {
    "scrolled": false
   },
   "outputs": [
    {
     "name": "stdout",
     "output_type": "stream",
     "text": [
      "[20:44:14] WARNING: /Users/travis/build/dmlc/xgboost/src/objective/regression_obj.cu:171: reg:linear is now deprecated in favor of reg:squarederror.\n",
      "[20:44:14] WARNING: /Users/travis/build/dmlc/xgboost/src/learner.cc:573: \n",
      "Parameters: { \"missing\" } might not be used.\n",
      "\n",
      "  This may not be accurate due to some parameters are only used in language bindings but\n",
      "  passed down to XGBoost core.  Or some parameters are not used but slip through this\n",
      "  verification. Please open an issue if you find above cases.\n",
      "\n",
      "\n"
     ]
    },
    {
     "data": {
      "text/plain": [
       "7.271630223423186"
      ]
     },
     "execution_count": 31,
     "metadata": {},
     "output_type": "execute_result"
    }
   ],
   "source": [
    "\n",
    "params = {\n",
    "    'objective': 'reg:linear',\n",
    "    'colsample_bytree': 0.72,\n",
    "    'max_depth': 8,\n",
    "    'seed': 202003,\n",
    "    'missing':-1\n",
    "}\n",
    "\n",
    "X = pd.concat([X_train, errorDf[X_train.columns]])\n",
    "Y = pd.concat([y_train, errorDf[y_train.columns]])\n",
    "\n",
    "## build xgb\n",
    "xgtrain = xgb.DMatrix( X, Y )\n",
    "gbdt = xgb.train( params, xgtrain, 20)\n",
    "\n",
    "importance = gbdt.get_score()\n",
    "importance = sorted( importance.items(), key=lambda x:x[1], reverse=True )\n",
    "importance = pd.DataFrame(importance, columns=['feature', 'score'])\n",
    "\n",
    "y_test['燃油效率预测值-xgb-缺失值填充'] = gbdt.predict( xgb.DMatrix( X_test ) )\n",
    "mean_squared_error(y_test['燃油效率'], y_test['燃油效率预测值-xgb-缺失值填充'])\n"
   ]
  },
  {
   "cell_type": "code",
   "execution_count": 47,
   "metadata": {},
   "outputs": [
    {
     "data": {
      "text/html": [
       "<div>\n",
       "<style scoped>\n",
       "    .dataframe tbody tr th:only-of-type {\n",
       "        vertical-align: middle;\n",
       "    }\n",
       "\n",
       "    .dataframe tbody tr th {\n",
       "        vertical-align: top;\n",
       "    }\n",
       "\n",
       "    .dataframe thead th {\n",
       "        text-align: right;\n",
       "    }\n",
       "</style>\n",
       "<table border=\"1\" class=\"dataframe\">\n",
       "  <thead>\n",
       "    <tr style=\"text-align: right;\">\n",
       "      <th></th>\n",
       "      <th>feature</th>\n",
       "      <th>score</th>\n",
       "    </tr>\n",
       "  </thead>\n",
       "  <tbody>\n",
       "    <tr>\n",
       "      <th>0</th>\n",
       "      <td>重量</td>\n",
       "      <td>78</td>\n",
       "    </tr>\n",
       "    <tr>\n",
       "      <th>1</th>\n",
       "      <td>排量</td>\n",
       "      <td>55</td>\n",
       "    </tr>\n",
       "    <tr>\n",
       "      <th>2</th>\n",
       "      <td>型号年份</td>\n",
       "      <td>49</td>\n",
       "    </tr>\n",
       "    <tr>\n",
       "      <th>3</th>\n",
       "      <td>加速度</td>\n",
       "      <td>47</td>\n",
       "    </tr>\n",
       "    <tr>\n",
       "      <th>4</th>\n",
       "      <td>气缸</td>\n",
       "      <td>9</td>\n",
       "    </tr>\n",
       "    <tr>\n",
       "      <th>...</th>\n",
       "      <td>...</td>\n",
       "      <td>...</td>\n",
       "    </tr>\n",
       "    <tr>\n",
       "      <th>146</th>\n",
       "      <td>原产地_vw rabbit</td>\n",
       "      <td>1</td>\n",
       "    </tr>\n",
       "    <tr>\n",
       "      <th>147</th>\n",
       "      <td>原产地_pontiac catalina</td>\n",
       "      <td>1</td>\n",
       "    </tr>\n",
       "    <tr>\n",
       "      <th>148</th>\n",
       "      <td>原产地_saab 99le</td>\n",
       "      <td>1</td>\n",
       "    </tr>\n",
       "    <tr>\n",
       "      <th>149</th>\n",
       "      <td>原产地_chevrolet chevelle malibu classic</td>\n",
       "      <td>1</td>\n",
       "    </tr>\n",
       "    <tr>\n",
       "      <th>150</th>\n",
       "      <td>原产地_fiat 131</td>\n",
       "      <td>1</td>\n",
       "    </tr>\n",
       "  </tbody>\n",
       "</table>\n",
       "<p>151 rows × 2 columns</p>\n",
       "</div>"
      ],
      "text/plain": [
       "                                   feature  score\n",
       "0                                       重量     78\n",
       "1                                       排量     55\n",
       "2                                     型号年份     49\n",
       "3                                      加速度     47\n",
       "4                                       气缸      9\n",
       "..                                     ...    ...\n",
       "146                          原产地_vw rabbit      1\n",
       "147                   原产地_pontiac catalina      1\n",
       "148                          原产地_saab 99le      1\n",
       "149  原产地_chevrolet chevelle malibu classic      1\n",
       "150                           原产地_fiat 131      1\n",
       "\n",
       "[151 rows x 2 columns]"
      ]
     },
     "execution_count": 47,
     "metadata": {},
     "output_type": "execute_result"
    }
   ],
   "source": [
    "importance"
   ]
  },
  {
   "cell_type": "code",
   "execution_count": 35,
   "metadata": {
    "scrolled": false
   },
   "outputs": [
    {
     "data": {
      "text/plain": [
       "9.41692264786949"
      ]
     },
     "execution_count": 35,
     "metadata": {},
     "output_type": "execute_result"
    }
   ],
   "source": [
    "mape(y_test['燃油效率'], y_test['燃油效率预测值-xgb-缺失值填充'])"
   ]
  },
  {
   "cell_type": "code",
   "execution_count": 54,
   "metadata": {
    "scrolled": true
   },
   "outputs": [
    {
     "ename": "ValueError",
     "evalue": "The truth value of a DataFrame is ambiguous. Use a.empty, a.bool(), a.item(), a.any() or a.all().",
     "output_type": "error",
     "traceback": [
      "\u001b[0;31m---------------------------------------------------------------------------\u001b[0m",
      "\u001b[0;31mValueError\u001b[0m                                Traceback (most recent call last)",
      "\u001b[0;32m<ipython-input-54-ea161b852f0c>\u001b[0m in \u001b[0;36m<module>\u001b[0;34m\u001b[0m\n\u001b[0;32m----> 1\u001b[0;31m \u001b[0mpd\u001b[0m\u001b[0;34m.\u001b[0m\u001b[0mSeries\u001b[0m\u001b[0;34m(\u001b[0m\u001b[0mimportance\u001b[0m\u001b[0;34m,\u001b[0m\u001b[0mX_train\u001b[0m\u001b[0;34m.\u001b[0m\u001b[0mcolumns\u001b[0m\u001b[0;34m)\u001b[0m\u001b[0;34m.\u001b[0m\u001b[0msort_values\u001b[0m\u001b[0;34m(\u001b[0m\u001b[0;34m)\u001b[0m\u001b[0;34m.\u001b[0m\u001b[0mplot\u001b[0m\u001b[0;34m(\u001b[0m\u001b[0mkind\u001b[0m\u001b[0;34m=\u001b[0m\u001b[0;34m'barh'\u001b[0m\u001b[0;34m)\u001b[0m\u001b[0;34m\u001b[0m\u001b[0;34m\u001b[0m\u001b[0m\n\u001b[0m",
      "\u001b[0;32m~/opt/anaconda3/envs/pytorch/lib/python3.7/site-packages/pandas/core/series.py\u001b[0m in \u001b[0;36m__init__\u001b[0;34m(self, data, index, dtype, name, copy, fastpath)\u001b[0m\n\u001b[1;32m    266\u001b[0m             \u001b[0mname\u001b[0m \u001b[0;34m=\u001b[0m \u001b[0mibase\u001b[0m\u001b[0;34m.\u001b[0m\u001b[0mmaybe_extract_name\u001b[0m\u001b[0;34m(\u001b[0m\u001b[0mname\u001b[0m\u001b[0;34m,\u001b[0m \u001b[0mdata\u001b[0m\u001b[0;34m,\u001b[0m \u001b[0mtype\u001b[0m\u001b[0;34m(\u001b[0m\u001b[0mself\u001b[0m\u001b[0;34m)\u001b[0m\u001b[0;34m)\u001b[0m\u001b[0;34m\u001b[0m\u001b[0;34m\u001b[0m\u001b[0m\n\u001b[1;32m    267\u001b[0m \u001b[0;34m\u001b[0m\u001b[0m\n\u001b[0;32m--> 268\u001b[0;31m             \u001b[0;32mif\u001b[0m \u001b[0mis_empty_data\u001b[0m\u001b[0;34m(\u001b[0m\u001b[0mdata\u001b[0m\u001b[0;34m)\u001b[0m \u001b[0;32mand\u001b[0m \u001b[0mdtype\u001b[0m \u001b[0;32mis\u001b[0m \u001b[0;32mNone\u001b[0m\u001b[0;34m:\u001b[0m\u001b[0;34m\u001b[0m\u001b[0;34m\u001b[0m\u001b[0m\n\u001b[0m\u001b[1;32m    269\u001b[0m                 \u001b[0;31m# gh-17261\u001b[0m\u001b[0;34m\u001b[0m\u001b[0;34m\u001b[0m\u001b[0;34m\u001b[0m\u001b[0m\n\u001b[1;32m    270\u001b[0m                 warnings.warn(\n",
      "\u001b[0;32m~/opt/anaconda3/envs/pytorch/lib/python3.7/site-packages/pandas/core/construction.py\u001b[0m in \u001b[0;36mis_empty_data\u001b[0;34m(data)\u001b[0m\n\u001b[1;32m    626\u001b[0m     \u001b[0mis_none\u001b[0m \u001b[0;34m=\u001b[0m \u001b[0mdata\u001b[0m \u001b[0;32mis\u001b[0m \u001b[0;32mNone\u001b[0m\u001b[0;34m\u001b[0m\u001b[0;34m\u001b[0m\u001b[0m\n\u001b[1;32m    627\u001b[0m     \u001b[0mis_list_like_without_dtype\u001b[0m \u001b[0;34m=\u001b[0m \u001b[0mis_list_like\u001b[0m\u001b[0;34m(\u001b[0m\u001b[0mdata\u001b[0m\u001b[0;34m)\u001b[0m \u001b[0;32mand\u001b[0m \u001b[0;32mnot\u001b[0m \u001b[0mhasattr\u001b[0m\u001b[0;34m(\u001b[0m\u001b[0mdata\u001b[0m\u001b[0;34m,\u001b[0m \u001b[0;34m\"dtype\"\u001b[0m\u001b[0;34m)\u001b[0m\u001b[0;34m\u001b[0m\u001b[0;34m\u001b[0m\u001b[0m\n\u001b[0;32m--> 628\u001b[0;31m     \u001b[0mis_simple_empty\u001b[0m \u001b[0;34m=\u001b[0m \u001b[0mis_list_like_without_dtype\u001b[0m \u001b[0;32mand\u001b[0m \u001b[0;32mnot\u001b[0m \u001b[0mdata\u001b[0m\u001b[0;34m\u001b[0m\u001b[0;34m\u001b[0m\u001b[0m\n\u001b[0m\u001b[1;32m    629\u001b[0m     \u001b[0;32mreturn\u001b[0m \u001b[0mis_none\u001b[0m \u001b[0;32mor\u001b[0m \u001b[0mis_simple_empty\u001b[0m\u001b[0;34m\u001b[0m\u001b[0;34m\u001b[0m\u001b[0m\n\u001b[1;32m    630\u001b[0m \u001b[0;34m\u001b[0m\u001b[0m\n",
      "\u001b[0;32m~/opt/anaconda3/envs/pytorch/lib/python3.7/site-packages/pandas/core/generic.py\u001b[0m in \u001b[0;36m__nonzero__\u001b[0;34m(self)\u001b[0m\n\u001b[1;32m   1441\u001b[0m     \u001b[0;32mdef\u001b[0m \u001b[0m__nonzero__\u001b[0m\u001b[0;34m(\u001b[0m\u001b[0mself\u001b[0m\u001b[0;34m)\u001b[0m\u001b[0;34m:\u001b[0m\u001b[0;34m\u001b[0m\u001b[0;34m\u001b[0m\u001b[0m\n\u001b[1;32m   1442\u001b[0m         raise ValueError(\n\u001b[0;32m-> 1443\u001b[0;31m             \u001b[0;34mf\"The truth value of a {type(self).__name__} is ambiguous. \"\u001b[0m\u001b[0;34m\u001b[0m\u001b[0;34m\u001b[0m\u001b[0m\n\u001b[0m\u001b[1;32m   1444\u001b[0m             \u001b[0;34m\"Use a.empty, a.bool(), a.item(), a.any() or a.all().\"\u001b[0m\u001b[0;34m\u001b[0m\u001b[0;34m\u001b[0m\u001b[0m\n\u001b[1;32m   1445\u001b[0m         )\n",
      "\u001b[0;31mValueError\u001b[0m: The truth value of a DataFrame is ambiguous. Use a.empty, a.bool(), a.item(), a.any() or a.all()."
     ]
    }
   ],
   "source": [
    "pd.Series(importance,X_train.columns).sort_values().plot(kind='barh')"
   ]
  },
  {
   "cell_type": "code",
   "execution_count": 39,
   "metadata": {
    "scrolled": true
   },
   "outputs": [
    {
     "name": "stdout",
     "output_type": "stream",
     "text": [
      "mse: 7.271630223423186  rmse: 2.696596043797288  mae: 2.076719262599945  r2: 燃油效率                 0.881095\n",
      "燃油效率预测值-rf           0.876383\n",
      "燃油效率预测值-xgb          0.869756\n",
      "燃油效率预测值-rf-缺失值填充     0.878623\n",
      "燃油效率预测值-xgb-缺失值填充    0.880796\n",
      "dtype: float64\n"
     ]
    }
   ],
   "source": [
    "mse = np.sum((y_test['燃油效率'] - y_test['燃油效率预测值-xgb-缺失值填充'] ) ** 2) / len(y_test)\n",
    "rmse = math.sqrt(mse)\n",
    "mae = np.sum(np.absolute(y_test['燃油效率'] - y_test['燃油效率预测值-xgb-缺失值填充'])) / len(y_test)\n",
    "r2 = 1-mse/ np.var(y_test)\n",
    "print(\"mse:\",mse,\" rmse:\",rmse,\" mae:\",mae,\" r2:\",r2)"
   ]
  },
  {
   "cell_type": "code",
   "execution_count": 38,
   "metadata": {},
   "outputs": [],
   "source": [
    "import math"
   ]
  },
  {
   "cell_type": "markdown",
   "metadata": {},
   "source": [
    "#### 3.4.3 针对评测指标的优化\n",
    "针对mape评测指标，做进一步模型优化"
   ]
  },
  {
   "cell_type": "code",
   "execution_count": 44,
   "metadata": {},
   "outputs": [
    {
     "name": "stdout",
     "output_type": "stream",
     "text": [
      "[20:51:04] WARNING: /Users/travis/build/dmlc/xgboost/src/objective/regression_obj.cu:171: reg:linear is now deprecated in favor of reg:squarederror.\n",
      "[20:51:04] WARNING: /Users/travis/build/dmlc/xgboost/src/learner.cc:573: \n",
      "Parameters: { \"missing\" } might not be used.\n",
      "\n",
      "  This may not be accurate due to some parameters are only used in language bindings but\n",
      "  passed down to XGBoost core.  Or some parameters are not used but slip through this\n",
      "  verification. Please open an issue if you find above cases.\n",
      "\n",
      "\n",
      "[0]\ttrain-rmse:17.45608\ttrain-mape:68.28915\tval-rmse:17.45608\tval-mape:68.28915\n",
      "[1]\ttrain-rmse:12.55200\ttrain-mape:47.49791\tval-rmse:12.55200\tval-mape:47.49791\n",
      "[2]\ttrain-rmse:9.15664\ttrain-mape:33.00868\tval-rmse:9.15664\tval-mape:33.00868\n",
      "[3]\ttrain-rmse:6.68911\ttrain-mape:23.29867\tval-rmse:6.68911\tval-mape:23.29867\n",
      "[4]\ttrain-rmse:4.98036\ttrain-mape:16.48517\tval-rmse:4.98036\tval-mape:16.48517\n",
      "[5]\ttrain-rmse:3.76964\ttrain-mape:11.78837\tval-rmse:3.76964\tval-mape:11.78837\n",
      "[6]\ttrain-rmse:2.91507\ttrain-mape:8.45838\tval-rmse:2.91507\tval-mape:8.45838\n",
      "[7]\ttrain-rmse:2.31557\ttrain-mape:6.07492\tval-rmse:2.31557\tval-mape:6.07492\n",
      "[8]\ttrain-rmse:1.89323\ttrain-mape:4.50719\tval-rmse:1.89323\tval-mape:4.50719\n",
      "[9]\ttrain-rmse:1.60781\ttrain-mape:3.85215\tval-rmse:1.60781\tval-mape:3.85215\n",
      "[10]\ttrain-rmse:1.41280\ttrain-mape:3.51669\tval-rmse:1.41280\tval-mape:3.51669\n",
      "[11]\ttrain-rmse:1.21186\ttrain-mape:3.19597\tval-rmse:1.21186\tval-mape:3.19597\n",
      "[12]\ttrain-rmse:1.08184\ttrain-mape:3.00678\tval-rmse:1.08184\tval-mape:3.00678\n",
      "[13]\ttrain-rmse:0.93639\ttrain-mape:2.78484\tval-rmse:0.93639\tval-mape:2.78484\n",
      "[14]\ttrain-rmse:0.88736\ttrain-mape:2.76126\tval-rmse:0.88736\tval-mape:2.76126\n",
      "[15]\ttrain-rmse:0.80791\ttrain-mape:2.65791\tval-rmse:0.80791\tval-mape:2.65791\n",
      "[16]\ttrain-rmse:0.76186\ttrain-mape:2.58444\tval-rmse:0.76186\tval-mape:2.58444\n",
      "[17]\ttrain-rmse:0.73752\ttrain-mape:2.57514\tval-rmse:0.73752\tval-mape:2.57514\n",
      "[18]\ttrain-rmse:0.70786\ttrain-mape:2.50414\tval-rmse:0.70786\tval-mape:2.50414\n",
      "[19]\ttrain-rmse:0.66388\ttrain-mape:2.40470\tval-rmse:0.66388\tval-mape:2.40470\n"
     ]
    },
    {
     "data": {
      "text/plain": [
       "7.271630223423186"
      ]
     },
     "execution_count": 44,
     "metadata": {},
     "output_type": "execute_result"
    }
   ],
   "source": [
    "\n",
    "def evalmape(y_pred, dtrain):\n",
    "    y_true = dtrain.get_label()\n",
    "    err = np.abs((y_pred - y_true) / y_true)\n",
    "    return 'mape',np.mean(err) * 100\n",
    "\n",
    "params = {\n",
    "    'objective': 'reg:linear',\n",
    "    'colsample_bytree': 0.72,\n",
    "    'max_depth': 8,\n",
    "    'nthread': 8,\n",
    "    'seed': 202003,\n",
    "    'missing':-1\n",
    "}\n",
    "\n",
    "X = pd.concat([X_train, errorDf[X_train.columns]])\n",
    "Y = pd.concat([y_train, errorDf[y_train.columns]])\n",
    "\n",
    "## build xgb\n",
    "xgtrain = xgb.DMatrix( X, Y )\n",
    "xgval = xgb.DMatrix( X, Y )\n",
    "watchlist = [(xgtrain,'train'), (xgval, 'val')]\n",
    "\n",
    "gbdt = xgb.train( params, xgtrain, 20, evals = watchlist, feval=evalmape)\n",
    "\n",
    "importance = gbdt.get_score()\n",
    "importance = sorted( importance.items(), key=lambda x:x[1], reverse=True )\n",
    "importance = pd.DataFrame(importance, columns=['feature', 'score'])\n",
    "\n",
    "y_test['燃油效率预测值-xgb-mape'] = gbdt.predict( xgb.DMatrix( X_test ) )\n",
    "mean_squared_error(y_test['燃油效率'], y_test['燃油效率预测值-xgb-mape'])\n"
   ]
  },
  {
   "cell_type": "code",
   "execution_count": 45,
   "metadata": {},
   "outputs": [
    {
     "data": {
      "text/plain": [
       "9.41692264786949"
      ]
     },
     "execution_count": 45,
     "metadata": {},
     "output_type": "execute_result"
    }
   ],
   "source": [
    "mape(y_test['燃油效率'], y_test['燃油效率预测值-xgb-mape'])"
   ]
  },
  {
   "cell_type": "code",
   "execution_count": null,
   "metadata": {},
   "outputs": [],
   "source": []
  }
 ],
 "metadata": {
  "kernelspec": {
   "display_name": "Python 3",
   "language": "python",
   "name": "python3"
  },
  "language_info": {
   "codemirror_mode": {
    "name": "ipython",
    "version": 3
   },
   "file_extension": ".py",
   "mimetype": "text/x-python",
   "name": "python",
   "nbconvert_exporter": "python",
   "pygments_lexer": "ipython3",
   "version": "3.7.5"
  }
 },
 "nbformat": 4,
 "nbformat_minor": 2
}
